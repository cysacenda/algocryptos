{
 "cells": [
  {
   "cell_type": "code",
   "execution_count": 10,
   "metadata": {},
   "outputs": [],
   "source": [
    "from utils_csa import save_obj, load_obj\n",
    "\n",
    "import pandas.io.sql as psql\n",
    "import pandas as pd\n",
    "import numpy as np\n",
    "\n",
    "from pytz import timezone\n",
    "from datetime import datetime, timedelta, date\n",
    "\n",
    "# load rf classifier already fitted\n",
    "clf = load_obj('clf_rf_2018_11_19')\n",
    "\n",
    "# load test data\n",
    "X_test = load_obj('clf_rf_2018_11_19_X_test')\n",
    "y_test = load_obj('clf_rf_2018_11_19_y_test')"
   ]
  },
  {
   "cell_type": "code",
   "execution_count": 6,
   "metadata": {},
   "outputs": [],
   "source": [
    "# inspiration backtrader https://www.backtrader.com/docu/quickstart/quickstart.html\n",
    "# Goal : Create a class that is generic and can be used easialy\n",
    "\n",
    "# commissions %\n",
    "# buy conditions\n",
    "# sell conditions\n",
    "# init amount $\n",
    "# bet size (dépend proba ? tjrs même au début) $\n",
    "# "
   ]
  }
 ],
 "metadata": {
  "kernelspec": {
   "display_name": "Python 3",
   "language": "python",
   "name": "python3"
  },
  "language_info": {
   "codemirror_mode": {
    "name": "ipython",
    "version": 3
   },
   "file_extension": ".py",
   "mimetype": "text/x-python",
   "name": "python",
   "nbconvert_exporter": "python",
   "pygments_lexer": "ipython3",
   "version": "3.7.0"
  }
 },
 "nbformat": 4,
 "nbformat_minor": 2
}
