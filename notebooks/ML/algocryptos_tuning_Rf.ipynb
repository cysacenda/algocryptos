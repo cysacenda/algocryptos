{
 "cells": [
  {
   "cell_type": "code",
   "execution_count": null,
   "metadata": {},
   "outputs": [],
   "source": [
    "import pandas as pd\n",
    "import numpy as np\n",
    "\n",
    "from pprint import pprint\n",
    "\n",
    "from sklearn.metrics import make_scorer, accuracy_score, precision_score, recall_score, roc_auc_score, f1_score, roc_curve, auc, precision_recall_curve, average_precision_score\n",
    "from sklearn.model_selection import RandomizedSearchCV, GridSearchCV, train_test_split, cross_val_score\n",
    "\n",
    "from sklearn.ensemble import RandomForestClassifier\n",
    "\n",
    "import import_ipynb\n",
    "import algocryptos_preprocessing as alg_preproc\n",
    "from utils_csa import save_obj, load_obj #, evaluate_model, evaluate_model_formated, show_model_accuracy\n",
    "\n",
    "# from sklearn.metrics import SCORERS\n",
    "# print(SCORERS.keys())"
   ]
  },
  {
   "cell_type": "code",
   "execution_count": null,
   "metadata": {},
   "outputs": [],
   "source": [
    "dict_hours_labels  = {24:'1d'}\n",
    "predict_only_one_crypto = True\n",
    "y_to_be_considered = 'y_+1d_classif'\n",
    "close_price_increase_targeted = +5\n",
    "threshold = 0.85\n",
    "id_cryptocompare_1 = \"7605\"\n",
    "\n",
    "dict_df = load_obj('dict_df_2018_12_03_top10')\n",
    "\n",
    "X_train_1, X_test_1, y_train_1, y_test_1, X_train_close_price_1, X_test_close_price_1 = alg_preproc.get_preprocessed_data(dict_df, dict_hours_labels, \n",
    "                                                                     close_price_increase_targeted, \n",
    "                                                                     False,\n",
    "                                                                     do_scale=False, \n",
    "                                                                     do_pca=True,\n",
    "                                                                     id_cryptocompare=id_cryptocompare_1)"
   ]
  },
  {
   "cell_type": "code",
   "execution_count": 22,
   "metadata": {},
   "outputs": [],
   "source": [
    "n_iter = 1000\n",
    "cv = 5\n",
    "\n",
    "# Number of trees in random forest\n",
    "n_estimators = [int(x) for x in np.linspace(start = 50, stop = 500, num = 10)]\n",
    "# Number of features to consider at every split\n",
    "max_features = ['auto', 'sqrt']\n",
    "# Maximum number of levels in tree\n",
    "max_depth = [int(x) for x in np.linspace(5, 25, num = 5)]\n",
    "max_depth.append(None)\n",
    "# Minimum number of samples required to split a node\n",
    "min_samples_split = [2, 5, 10]\n",
    "# Minimum number of samples required at each leaf node\n",
    "min_samples_leaf = [1, 2, 4]\n",
    "# Method of selecting samples for training each tree\n",
    "bootstrap = [True, False]\n",
    "criterion=['entropy', 'gini']\n",
    "\n",
    "# Create the random grid\n",
    "random_grid = {'n_estimators': n_estimators,\n",
    "               'max_features': max_features,\n",
    "               'max_depth': max_depth,\n",
    "               'min_samples_split': min_samples_split,\n",
    "               'min_samples_leaf': min_samples_leaf,\n",
    "               'bootstrap': bootstrap,\n",
    "               'criterion': criterion}\n",
    "\n",
    "scorers = {\n",
    "        'f1_score': make_scorer(f1_score)\n",
    "    }\n",
    "\n",
    "def start_tuning():   \n",
    "    clf = RandomForestClassifier(random_state=0, \n",
    "                                 class_weight='balanced')\n",
    "    rf_random = RandomizedSearchCV(estimator = clf, param_distributions = random_grid, n_iter = n_iter, verbose=20, cv = cv, random_state=0, n_jobs = -1,\n",
    "                                  scoring=scorers, refit='f1_score', return_train_score=True)\n",
    "    rf_random.fit(X_train_1, y_train_1[y_to_be_considered])\n",
    "\n",
    "    # rf_random.cv_results_\n",
    "    # rf_random.best_estimator_\n",
    "    # rf_random.best_params_\n",
    "    print('rf best_estimator_: ')\n",
    "    print(rf_random.best_estimator_)\n",
    "    print('\\n rf best_params_: ')\n",
    "    print(rf_random.best_params_)"
   ]
  },
  {
   "cell_type": "code",
   "execution_count": null,
   "metadata": {
    "scrolled": false
   },
   "outputs": [],
   "source": [
    "#rf_random.best_estimator_\n",
    "\n",
    "# show_model_accuracy('RandomForestClassifier - Train', rf_random.best_estimator_, X_train_1, y_train_1[y_to_be_considered], None, do_precision_recall_curve=True, do_features_importance=True, threshold=0.5)\n",
    "# show_model_accuracy('RandomForestClassifier - Test', rf_random.best_estimator_, X_test_1, y_test_1[y_to_be_considered], None, do_precision_recall_curve=True, do_precision_recall_vs_treshold=True, do_features_importance=False, threshold=0.5)\n"
   ]
  },
  {
   "cell_type": "code",
   "execution_count": null,
   "metadata": {},
   "outputs": [],
   "source": [
    "# from sklearn.model_selection import cross_val_score\n",
    "# print(cross_val_score(rf_random.best_estimator_, X_train_1, y_train_1[y_to_be_considered], cv=5, scoring='f1', n_jobs=-1))"
   ]
  }
 ],
 "metadata": {
  "kernelspec": {
   "display_name": "Python 3",
   "language": "python",
   "name": "python3"
  },
  "language_info": {
   "codemirror_mode": {
    "name": "ipython",
    "version": 3
   },
   "file_extension": ".py",
   "mimetype": "text/x-python",
   "name": "python",
   "nbconvert_exporter": "python",
   "pygments_lexer": "ipython3",
   "version": "3.7.0"
  }
 },
 "nbformat": 4,
 "nbformat_minor": 2
}
