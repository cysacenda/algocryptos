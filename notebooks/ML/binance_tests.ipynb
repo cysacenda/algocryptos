{
 "cells": [
  {
   "cell_type": "code",
   "execution_count": 1,
   "metadata": {},
   "outputs": [],
   "source": [
    "# Utiles\n",
    "    # Lib: https://github.com/sammchardy/python-binance\n",
    "    # Binance doc : https://github.com/binance-exchange/binance-official-api-docs/blob/master/rest-api.md\n",
    "    \n",
    "from binance.client import Client\n",
    "api_key = '8te7KGDgi6ayc8slY46KbWztB7yuIZ533fCrLWeqARAxBKAuQiMyyfIM4mfDrSlk'\n",
    "api_secret = 'ykwjZzkYF4Bvh0T7L1OokHfHTnVjKJ4OIvaEXkV97NisgI4JwDW7jPd3pzeVVpHh'\n",
    "\n",
    "client = Client(api_key, api_secret)"
   ]
  },
  {
   "cell_type": "code",
   "execution_count": null,
   "metadata": {},
   "outputs": [],
   "source": [
    "# Others\n",
    "\n",
    "# For a trading pair status = 'TRADING'\n",
    "client.get_symbol_info('BNBBTC')\n",
    "\n",
    "# Get server time\n",
    "client.get_server_time()"
   ]
  },
  {
   "cell_type": "code",
   "execution_count": 2,
   "metadata": {},
   "outputs": [
    {
     "data": {
      "text/plain": [
       "{'msg': 'Normal', 'success': True}"
      ]
     },
     "execution_count": 2,
     "metadata": {},
     "output_type": "execute_result"
    }
   ],
   "source": [
    "# ============= Check before trading =============\n",
    "\n",
    "# ping\n",
    "client.ping()\n",
    "\n",
    "# Check system status\n",
    "status = client.get_system_status()\n",
    "if (status['msg'] == 'normal') and (status['status'] == 0):\n",
    "    print('ok')\n",
    "    \n",
    "# Check account status\n",
    "status_client = client.get_account_status()\n",
    "if (status_client['msg'] == 'Normal') and (status_client['success'] == True):\n",
    "    print('ok')\n",
    "    \n",
    "# Check account status - trading allowed\n",
    "info_client = client.get_account()\n",
    "if info_client['canTrade'] == True:\n",
    "    print('ok')\n",
    "\n",
    "# Exchange info to verify tradingpair exists / trading\n",
    "exchange_info = client.get_exchange_info()\n",
    "for symbol in exchange_info['symbols']:\n",
    "    # si symbol['symbol'] dans trading pairs\n",
    "    # symbol['status'] doit être égal à TRADING sinon msg erreur + trade pas dessus sur cette itération\n",
    "\n"
   ]
  },
  {
   "cell_type": "code",
   "execution_count": 54,
   "metadata": {},
   "outputs": [
    {
     "name": "stdout",
     "output_type": "stream",
     "text": [
      "symbol\n",
      "status\n",
      "baseAsset\n",
      "baseAssetPrecision\n",
      "quoteAsset\n",
      "quotePrecision\n",
      "orderTypes\n",
      "icebergAllowed\n",
      "filters\n"
     ]
    }
   ],
   "source": [
    "for key, value in symbol.items() :\n",
    "    print (key)"
   ]
  },
  {
   "cell_type": "code",
   "execution_count": 20,
   "metadata": {},
   "outputs": [
    {
     "data": {
      "text/plain": [
       "85.91"
      ]
     },
     "execution_count": 20,
     "metadata": {},
     "output_type": "execute_result"
    }
   ],
   "source": [
    "# ============== get_price() ==============\n",
    "    # => get_portfolio_value() => see up, retrieve ticker\n",
    "    # => create_order() :\n",
    "        # Side=Buy: get_order_book() + asks (mettre un peu plus haut ?)\n",
    "        # Side=Sell: get_order_book + bids (mettre un peu plus bas ?)\n",
    "# get market depth (see what should be approx the price, use to determine limit to put to be sure to buy / sell directly)\n",
    "depth = client.get_order_book(symbol='ETHUSDT')\n",
    "\n",
    "# bid: maximum price buyer willing to pay\n",
    "# ask: minimum price seller willing to receive\n",
    "float(depth['bids'][0][0])"
   ]
  },
  {
   "cell_type": "code",
   "execution_count": 64,
   "metadata": {},
   "outputs": [
    {
     "data": {
      "text/plain": [
       "True"
      ]
     },
     "execution_count": 64,
     "metadata": {},
     "output_type": "execute_result"
    }
   ],
   "source": [
    "'asks' in depth"
   ]
  },
  {
   "cell_type": "code",
   "execution_count": 12,
   "metadata": {},
   "outputs": [],
   "source": [
    "# SHOULD NOT BE THE WAY I USE\n",
    "# get all symbol prices\n",
    "prices = client.get_all_tickers()\n",
    "\n",
    "# get one symbol price\n",
    "prices_dict = { value[\"symbol\"]: value[\"price\"] for value in prices }\n",
    "prices_dict['ETHUSDT']"
   ]
  },
  {
   "cell_type": "code",
   "execution_count": 29,
   "metadata": {},
   "outputs": [
    {
     "data": {
      "text/plain": [
       "{'asset': 'VET', 'free': '70648.90000000', 'locked': '0.00000000'}"
      ]
     },
     "execution_count": 29,
     "metadata": {},
     "output_type": "execute_result"
    }
   ],
   "source": [
    "# ============== get_available_amount_crypto()  ==============\n",
    "# balance for an asset\n",
    "client.get_asset_balance(asset='VET')"
   ]
  },
  {
   "cell_type": "code",
   "execution_count": 31,
   "metadata": {},
   "outputs": [],
   "source": [
    "# ============== create_order() ==============\n",
    "def format_amount_order(amount):\n",
    "    precision = 5\n",
    "    amt_str = \"{:0.0{}f}\".format(amount, precision)\n",
    "    return amt_str\n",
    "\n",
    "# limit buy\n",
    "order = client.order_limit_buy(\n",
    "    symbol='BNBBTC',\n",
    "    quantity=1000,\n",
    "    price=format_amount_order(0.00001)) # Use Ask + n%\n",
    "\n",
    "# limit sell\n",
    "order = client.order_limit_sell(\n",
    "    symbol='BNBBTC',\n",
    "    quantity=1000,\n",
    "    price=format_amount_order(0.00001)) # Use Bid - n%"
   ]
  },
  {
   "cell_type": "code",
   "execution_count": 23,
   "metadata": {},
   "outputs": [
    {
     "data": {
      "text/plain": [
       "[]"
      ]
     },
     "execution_count": 23,
     "metadata": {},
     "output_type": "execute_result"
    }
   ],
   "source": [
    "# ============== cancel_open_orders()  ==============\n",
    "orders = client.get_open_orders()\n",
    "# boucle:\n",
    "# result = client.cancel_order(\n",
    "#     symbol='BNBBTC',\n",
    "#     orderId='orderId')\n",
    "# Attention, sell order <> buy order ! cancel buy ok, cancel sell ? risqué.."
   ]
  }
 ],
 "metadata": {
  "kernelspec": {
   "display_name": "Python 3",
   "language": "python",
   "name": "python3"
  },
  "language_info": {
   "codemirror_mode": {
    "name": "ipython",
    "version": 3
   },
   "file_extension": ".py",
   "mimetype": "text/x-python",
   "name": "python",
   "nbconvert_exporter": "python",
   "pygments_lexer": "ipython3",
   "version": "3.7.0"
  }
 },
 "nbformat": 4,
 "nbformat_minor": 2
}
