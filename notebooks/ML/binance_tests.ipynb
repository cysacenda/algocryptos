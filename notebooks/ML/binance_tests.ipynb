{
 "cells": [
  {
   "cell_type": "code",
   "execution_count": 1,
   "metadata": {},
   "outputs": [],
   "source": [
    "# Utiles\n",
    "    # Lib: https://github.com/sammchardy/python-binance\n",
    "    # Binance doc : https://github.com/binance-exchange/binance-official-api-docs/blob/master/rest-api.md\n",
    "    \n",
    "from binance.client import Client\n",
    "api_key = '8te7KGDgi6ayc8slY46KbWztB7yuIZ533fCrLWeqARAxBKAuQiMyyfIM4mfDrSlk'\n",
    "api_secret = 'ykwjZzkYF4Bvh0T7L1OokHfHTnVjKJ4OIvaEXkV97NisgI4JwDW7jPd3pzeVVpHh'\n",
    "\n",
    "client = Client(api_key, api_secret)"
   ]
  },
  {
   "cell_type": "code",
   "execution_count": 2,
   "metadata": {},
   "outputs": [
    {
     "data": {
      "text/plain": [
       "{'serverTime': 1545828298436}"
      ]
     },
     "execution_count": 2,
     "metadata": {},
     "output_type": "execute_result"
    }
   ],
   "source": [
    "# Others\n",
    "\n",
    "# For a trading pair status = 'TRADING'\n",
    "client.get_symbol_info('BNBBTC')\n",
    "\n",
    "# Get server time\n",
    "client.get_server_time()"
   ]
  },
  {
   "cell_type": "code",
   "execution_count": 2,
   "metadata": {},
   "outputs": [
    {
     "data": {
      "text/plain": [
       "{'msg': 'Normal', 'success': True}"
      ]
     },
     "execution_count": 2,
     "metadata": {},
     "output_type": "execute_result"
    }
   ],
   "source": [
    "# ============= Check before trading =============\n",
    "\n",
    "# ping\n",
    "client.ping()\n",
    "\n",
    "# Check system status\n",
    "status = client.get_system_status()\n",
    "if (status['msg'] == 'normal') and (status['status'] == 0):\n",
    "    print('ok')\n",
    "    \n",
    "# Check account status\n",
    "status_client = client.get_account_status()\n",
    "if (status_client['msg'] == 'Normal') and (status_client['success'] == True):\n",
    "    print('ok')\n",
    "    \n",
    "# Check account status - trading allowed\n",
    "info_client = client.get_account()\n",
    "if info_client['canTrade'] == True:\n",
    "    print('ok')\n",
    "\n",
    "# Exchange info to verify tradingpair exists / trading\n",
    "exchange_info = client.get_exchange_info()\n",
    "for symbol in exchange_info['symbols']:\n",
    "    # si symbol['symbol'] dans trading pairs\n",
    "    # symbol['status'] doit être égal à TRADING sinon msg erreur + trade pas dessus sur cette itération\n",
    "\n"
   ]
  },
  {
   "cell_type": "code",
   "execution_count": 54,
   "metadata": {},
   "outputs": [
    {
     "name": "stdout",
     "output_type": "stream",
     "text": [
      "symbol\n",
      "status\n",
      "baseAsset\n",
      "baseAssetPrecision\n",
      "quoteAsset\n",
      "quotePrecision\n",
      "orderTypes\n",
      "icebergAllowed\n",
      "filters\n"
     ]
    }
   ],
   "source": [
    "for key, value in symbol.items() :\n",
    "    print (key)"
   ]
  },
  {
   "cell_type": "code",
   "execution_count": 11,
   "metadata": {},
   "outputs": [
    {
     "data": {
      "text/plain": [
       "{'lastUpdateId': 242253488,\n",
       " 'bids': [['103.57000000', '1.00000000', []],\n",
       "  ['103.56000000', '4.69987000', []],\n",
       "  ['103.55000000', '92.88386000', []],\n",
       "  ['103.54000000', '9.83711000', []],\n",
       "  ['103.50000000', '9.18172000', []],\n",
       "  ['103.47000000', '2.45583000', []],\n",
       "  ['103.46000000', '5.00000000', []],\n",
       "  ['103.40000000', '0.36704000', []],\n",
       "  ['103.35000000', '1.77000000', []],\n",
       "  ['103.34000000', '0.19408000', []],\n",
       "  ['103.30000000', '24.89691000', []],\n",
       "  ['103.29000000', '15.60437000', []],\n",
       "  ['103.27000000', '46.20000000', []],\n",
       "  ['103.26000000', '41.24230000', []],\n",
       "  ['103.25000000', '4.95795000', []],\n",
       "  ['103.24000000', '0.12695000', []],\n",
       "  ['103.23000000', '52.00000000', []],\n",
       "  ['103.20000000', '31.00775000', []],\n",
       "  ['103.18000000', '116.80557000', []],\n",
       "  ['103.15000000', '0.09998000', []],\n",
       "  ['103.12000000', '0.10560000', []],\n",
       "  ['103.11000000', '1.20000000', []],\n",
       "  ['103.08000000', '5.90373000', []],\n",
       "  ['103.07000000', '19.99998000', []],\n",
       "  ['103.06000000', '0.10675000', []],\n",
       "  ['103.05000000', '1.10000000', []],\n",
       "  ['103.03000000', '0.51376000', []],\n",
       "  ['103.02000000', '178.60711000', []],\n",
       "  ['103.01000000', '101.65351000', []],\n",
       "  ['103.00000000', '31.71737000', []],\n",
       "  ['102.98000000', '15.35132000', []],\n",
       "  ['102.97000000', '93.54842000', []],\n",
       "  ['102.96000000', '0.69730000', []],\n",
       "  ['102.90000000', '197.50032000', []],\n",
       "  ['102.89000000', '3.04964000', []],\n",
       "  ['102.88000000', '3.19573000', []],\n",
       "  ['102.87000000', '6.10044000', []],\n",
       "  ['102.85000000', '36.18654000', []],\n",
       "  ['102.83000000', '54.57172000', []],\n",
       "  ['102.82000000', '2.91772000', []],\n",
       "  ['102.81000000', '51.22100000', []],\n",
       "  ['102.80000000', '89.84919000', []],\n",
       "  ['102.79000000', '0.55425000', []],\n",
       "  ['102.78000000', '5.22049000', []],\n",
       "  ['102.77000000', '0.14519000', []],\n",
       "  ['102.76000000', '0.29195000', []],\n",
       "  ['102.75000000', '0.09733000', []],\n",
       "  ['102.74000000', '2.40899000', []],\n",
       "  ['102.72000000', '39.11653000', []],\n",
       "  ['102.71000000', '7.00218000', []],\n",
       "  ['102.70000000', '3.12981000', []],\n",
       "  ['102.66000000', '20.11718000', []],\n",
       "  ['102.65000000', '7.34553000', []],\n",
       "  ['102.64000000', '0.10718000', []],\n",
       "  ['102.63000000', '1.44694000', []],\n",
       "  ['102.61000000', '2.27697000', []],\n",
       "  ['102.60000000', '86.39767000', []],\n",
       "  ['102.58000000', '2.39344000', []],\n",
       "  ['102.57000000', '0.26316000', []],\n",
       "  ['102.56000000', '2.36495000', []],\n",
       "  ['102.55000000', '1.18249000', []],\n",
       "  ['102.54000000', '0.97352000', []],\n",
       "  ['102.52000000', '3.99785000', []],\n",
       "  ['102.51000000', '0.09756000', []],\n",
       "  ['102.50000000', '107.95746000', []],\n",
       "  ['102.44000000', '0.10113000', []],\n",
       "  ['102.42000000', '9.15500000', []],\n",
       "  ['102.41000000', '6.00000000', []],\n",
       "  ['102.40000000', '63.52946000', []],\n",
       "  ['102.37000000', '1.45062000', []],\n",
       "  ['102.35000000', '2.24700000', []],\n",
       "  ['102.32000000', '1.09868000', []],\n",
       "  ['102.31000000', '0.09775000', []],\n",
       "  ['102.30000000', '11.79679000', []],\n",
       "  ['102.27000000', '17.34151000', []],\n",
       "  ['102.24000000', '0.09782000', []],\n",
       "  ['102.20000000', '1.28456000', []],\n",
       "  ['102.13000000', '0.10772000', []],\n",
       "  ['102.12000000', '0.79651000', []],\n",
       "  ['102.11000000', '0.16923000', []],\n",
       "  ['102.10000000', '16.13802000', []],\n",
       "  ['102.09000000', '0.68381000', []],\n",
       "  ['102.08000000', '101.59272000', []],\n",
       "  ['102.05000000', '0.35283000', []],\n",
       "  ['102.02000000', '7.60000000', []],\n",
       "  ['102.01000000', '0.13760000', []],\n",
       "  ['102.00000000', '228.01713000', []],\n",
       "  ['101.98000000', '1.50922000', []],\n",
       "  ['101.93000000', '0.29433000', []],\n",
       "  ['101.91000000', '3.16771000', []],\n",
       "  ['101.90000000', '10.50539000', []],\n",
       "  ['101.88000000', '1.67623000', []],\n",
       "  ['101.84000000', '0.31107000', []],\n",
       "  ['101.81000000', '39.28887000', []],\n",
       "  ['101.77000000', '0.75219000', []],\n",
       "  ['101.75000000', '0.32401000', []],\n",
       "  ['101.68000000', '0.26440000', []],\n",
       "  ['101.62000000', '1.10825000', []],\n",
       "  ['101.59000000', '10.07141000', []],\n",
       "  ['101.51000000', '0.14777000', []]],\n",
       " 'asks': [['103.58000000', '16.38255000', []],\n",
       "  ['103.60000000', '3.06375000', []],\n",
       "  ['103.62000000', '6.49718000', []],\n",
       "  ['103.65000000', '1.00000000', []],\n",
       "  ['103.70000000', '0.70750000', []],\n",
       "  ['103.72000000', '1.00000000', []],\n",
       "  ['103.83000000', '25.60309000', []],\n",
       "  ['103.84000000', '16.46865000', []],\n",
       "  ['103.85000000', '54.40000000', []],\n",
       "  ['103.87000000', '19.99998000', []],\n",
       "  ['103.89000000', '2.00000000', []],\n",
       "  ['103.93000000', '12.00000000', []],\n",
       "  ['103.94000000', '0.46000000', []],\n",
       "  ['103.96000000', '1.00449000', []],\n",
       "  ['103.98000000', '37.82966000', []],\n",
       "  ['103.99000000', '74.00000000', []],\n",
       "  ['104.00000000', '8.27973000', []],\n",
       "  ['104.09000000', '10.52636000', []],\n",
       "  ['104.16000000', '4.15000000', []],\n",
       "  ['104.19000000', '31.00000000', []],\n",
       "  ['104.21000000', '0.26974000', []],\n",
       "  ['104.27000000', '327.41756000', []],\n",
       "  ['104.28000000', '0.15430000', []],\n",
       "  ['104.31000000', '11.65841000', []],\n",
       "  ['104.33000000', '125.46000000', []],\n",
       "  ['104.34000000', '0.39003000', []],\n",
       "  ['104.36000000', '3.61881000', []],\n",
       "  ['104.38000000', '26.40000000', []],\n",
       "  ['104.43000000', '2.41345000', []],\n",
       "  ['104.48000000', '9.39933000', []],\n",
       "  ['104.49000000', '11.92308000', []],\n",
       "  ['104.50000000', '6.92769000', []],\n",
       "  ['104.58000000', '0.14000000', []],\n",
       "  ['104.60000000', '19.14709000', []],\n",
       "  ['104.64000000', '15.00000000', []],\n",
       "  ['104.66000000', '114.40726000', []],\n",
       "  ['104.67000000', '45.53415000', []],\n",
       "  ['104.71000000', '0.46000000', []],\n",
       "  ['104.76000000', '0.00004000', []],\n",
       "  ['104.80000000', '100.91070000', []],\n",
       "  ['104.84000000', '89.60000000', []],\n",
       "  ['104.85000000', '1.02413000', []],\n",
       "  ['104.86000000', '1.00000000', []],\n",
       "  ['104.89000000', '2.51232000', []],\n",
       "  ['104.90000000', '0.14000000', []],\n",
       "  ['104.93000000', '0.30000000', []],\n",
       "  ['104.95000000', '0.47872000', []],\n",
       "  ['105.00000000', '23.93599000', []],\n",
       "  ['105.01000000', '0.24014000', []],\n",
       "  ['105.10000000', '46.40400000', []],\n",
       "  ['105.13000000', '2.11188000', []],\n",
       "  ['105.15000000', '15.90479000', []],\n",
       "  ['105.20000000', '1.20027000', []],\n",
       "  ['105.22000000', '0.14000000', []],\n",
       "  ['105.23000000', '10.00000000', []],\n",
       "  ['105.32000000', '0.44185000', []],\n",
       "  ['105.36000000', '0.53184000', []],\n",
       "  ['105.39000000', '130.00211000', []],\n",
       "  ['105.41000000', '0.30000000', []],\n",
       "  ['105.45000000', '12.47773000', []],\n",
       "  ['105.47000000', '0.52925000', []],\n",
       "  ['105.50000000', '0.96610000', []],\n",
       "  ['105.54000000', '0.31568000', []],\n",
       "  ['105.60000000', '0.94105000', []],\n",
       "  ['105.68000000', '16.62367000', []],\n",
       "  ['105.69000000', '24.81147000', []],\n",
       "  ['105.71000000', '0.30000000', []],\n",
       "  ['105.74000000', '11.88306000', []],\n",
       "  ['105.75000000', '0.95611000', []],\n",
       "  ['105.86000000', '0.14000000', []],\n",
       "  ['105.89000000', '0.20565000', []],\n",
       "  ['105.94000000', '1.00000000', []],\n",
       "  ['106.00000000', '63.11172000', []],\n",
       "  ['106.01000000', '0.09526000', []],\n",
       "  ['106.02000000', '0.65002000', []],\n",
       "  ['106.06000000', '1.21557000', []],\n",
       "  ['106.10000000', '121.50629000', []],\n",
       "  ['106.13000000', '0.38135000', []],\n",
       "  ['106.14000000', '5.14112000', []],\n",
       "  ['106.16000000', '0.80543000', []],\n",
       "  ['106.18000000', '0.14000000', []],\n",
       "  ['106.19000000', '54.19281000', []],\n",
       "  ['106.21000000', '7.57693000', []],\n",
       "  ['106.23000000', '1.00000000', []],\n",
       "  ['106.30000000', '29.50504000', []],\n",
       "  ['106.31000000', '0.25291000', []],\n",
       "  ['106.35000000', '3.58207000', []],\n",
       "  ['106.40000000', '0.22536000', []],\n",
       "  ['106.44000000', '1.00000000', []],\n",
       "  ['106.50000000', '21.86761000', []],\n",
       "  ['106.54000000', '3.54991000', []],\n",
       "  ['106.55000000', '32.21754000', []],\n",
       "  ['106.57000000', '2.23402000', []],\n",
       "  ['106.58000000', '0.82822000', []],\n",
       "  ['106.59000000', '0.82812000', []],\n",
       "  ['106.60000000', '2.84008000', []],\n",
       "  ['106.75000000', '1.04192000', []],\n",
       "  ['106.80000000', '45.41189000', []],\n",
       "  ['106.82000000', '0.14000000', []],\n",
       "  ['106.83000000', '0.20626000', []]]}"
      ]
     },
     "execution_count": 11,
     "metadata": {},
     "output_type": "execute_result"
    }
   ],
   "source": [
    "# ============== get_price() ==============\n",
    "    # => get_portfolio_value() => see up, retrieve ticker\n",
    "    # => create_order() :\n",
    "        # Side=Buy: get_order_book() + asks (mettre un peu plus haut ?)\n",
    "        # Side=Sell: get_order_book + bids (mettre un peu plus bas ?)\n",
    "# get market depth (see what should be approx the price, use to determine limit to put to be sure to buy / sell directly)\n",
    "depth = client.get_order_book(symbol='ETHUSDT')\n",
    "depth\n"
   ]
  },
  {
   "cell_type": "code",
   "execution_count": 64,
   "metadata": {},
   "outputs": [
    {
     "data": {
      "text/plain": [
       "True"
      ]
     },
     "execution_count": 64,
     "metadata": {},
     "output_type": "execute_result"
    }
   ],
   "source": [
    "# bid: maximum price buyer willing to pay\n",
    "# ask: minimum price seller willing to receive\n",
    "float(depth['bids'][0][0])\n"
   ]
  },
  {
   "cell_type": "code",
   "execution_count": 14,
   "metadata": {},
   "outputs": [
    {
     "name": "stdout",
     "output_type": "stream",
     "text": [
      "104.6158\n"
     ]
    }
   ],
   "source": [
    "if 'asks' in depth:\n",
    "    ask_price = float(depth['asks'][0][0])\n",
    "    buy_limit_price = ask_price + (ask_price * 0.01)\n",
    "print(buy_limit_price)"
   ]
  },
  {
   "cell_type": "code",
   "execution_count": 15,
   "metadata": {},
   "outputs": [
    {
     "data": {
      "text/plain": [
       "103.58"
      ]
     },
     "execution_count": 15,
     "metadata": {},
     "output_type": "execute_result"
    }
   ],
   "source": [
    "float(depth['asks'][0][0])"
   ]
  },
  {
   "cell_type": "code",
   "execution_count": 24,
   "metadata": {},
   "outputs": [
    {
     "data": {
      "text/plain": [
       "0.0042"
      ]
     },
     "execution_count": 24,
     "metadata": {},
     "output_type": "execute_result"
    }
   ],
   "source": [
    "# SHOULD NOT BE THE WAY I USE\n",
    "# get all symbol prices\n",
    "prices = client.get_all_tickers()\n",
    "\n",
    "# get one symbol price\n",
    "prices_dict = { value[\"symbol\"]: value[\"price\"] for value in prices }\n",
    "float(prices_dict['VETUSDT'])"
   ]
  },
  {
   "cell_type": "code",
   "execution_count": 25,
   "metadata": {},
   "outputs": [
    {
     "data": {
      "text/plain": [
       "70648.9"
      ]
     },
     "execution_count": 25,
     "metadata": {},
     "output_type": "execute_result"
    }
   ],
   "source": [
    "# ============== get_available_amount_crypto()  ==============\n",
    "# balance for an asset\n",
    "balance = client.get_asset_balance(asset='VET')\n",
    "float(balance['free'])"
   ]
  },
  {
   "cell_type": "code",
   "execution_count": 31,
   "metadata": {},
   "outputs": [],
   "source": [
    "# ============== create_order() ==============\n",
    "def format_amount_order(amount):\n",
    "    precision = 5\n",
    "    amt_str = \"{:0.0{}f}\".format(amount, precision)\n",
    "    return amt_str\n",
    "\n",
    "# limit buy\n",
    "order = client.order_limit_buy(\n",
    "    symbol='BNBBTC',\n",
    "    quantity=1000,\n",
    "    price=format_amount_order(0.00001)) # Use Ask + n%\n",
    "\n",
    "# limit sell\n",
    "order = client.order_limit_sell(\n",
    "    symbol='BNBBTC',\n",
    "    quantity=1000,\n",
    "    price=format_amount_order(0.00001)) # Use Bid - n%"
   ]
  },
  {
   "cell_type": "code",
   "execution_count": 29,
   "metadata": {},
   "outputs": [],
   "source": [
    "order = client.order_limit_sell(\n",
    "    symbol='VETUSDT',\n",
    "    quantity=5000,\n",
    "    price=format_amount_order(0.0055)) # Use Bid - n%"
   ]
  },
  {
   "cell_type": "code",
   "execution_count": 40,
   "metadata": {},
   "outputs": [
    {
     "data": {
      "text/plain": [
       "9358183"
      ]
     },
     "execution_count": 40,
     "metadata": {},
     "output_type": "execute_result"
    }
   ],
   "source": [
    "order['orderId']\n",
    "#{'symbol': 'VETUSDT',\n",
    "# 'orderId': 9358183,\n",
    "# 'clientOrderId': 'ILNyxOioi7cPBDGkQSKtbH',\n",
    "# 'transactTime': 1545235888618,\n",
    "# 'price': '0.00550000',\n",
    "# 'origQty': '5000.00000000',\n",
    "# 'executedQty': '0.00000000',\n",
    "# 'cummulativeQuoteQty': '0.00000000',\n",
    "# 'status': 'NEW',\n",
    "# 'timeInForce': 'GTC',\n",
    "# 'type': 'LIMIT',\n",
    "# 'side': 'SELL',\n",
    "# 'fills': []}"
   ]
  },
  {
   "cell_type": "code",
   "execution_count": 28,
   "metadata": {},
   "outputs": [
    {
     "ename": "BinanceAPIException",
     "evalue": "APIError(code=-2010): Account has insufficient balance for requested action.",
     "output_type": "error",
     "traceback": [
      "\u001b[0;31m---------------------------------------------------------------------------\u001b[0m",
      "\u001b[0;31mBinanceAPIException\u001b[0m                       Traceback (most recent call last)",
      "\u001b[0;32m<ipython-input-28-bb5c58b4ae32>\u001b[0m in \u001b[0;36m<module>\u001b[0;34m\u001b[0m\n\u001b[1;32m      2\u001b[0m     \u001b[0msymbol\u001b[0m\u001b[0;34m=\u001b[0m\u001b[0;34m'VETUSDT'\u001b[0m\u001b[0;34m,\u001b[0m\u001b[0;34m\u001b[0m\u001b[0m\n\u001b[1;32m      3\u001b[0m     \u001b[0mquantity\u001b[0m\u001b[0;34m=\u001b[0m\u001b[0;36m5000\u001b[0m\u001b[0;34m,\u001b[0m\u001b[0;34m\u001b[0m\u001b[0m\n\u001b[0;32m----> 4\u001b[0;31m     price=format_amount_order(0.0055)) # Use Ask + n%\n\u001b[0m",
      "\u001b[0;32m~/anaconda3/lib/python3.7/site-packages/binance/client.py\u001b[0m in \u001b[0;36morder_limit_buy\u001b[0;34m(self, timeInForce, **params)\u001b[0m\n\u001b[1;32m   1204\u001b[0m             \u001b[0;34m'side'\u001b[0m\u001b[0;34m:\u001b[0m \u001b[0mself\u001b[0m\u001b[0;34m.\u001b[0m\u001b[0mSIDE_BUY\u001b[0m\u001b[0;34m,\u001b[0m\u001b[0;34m\u001b[0m\u001b[0m\n\u001b[1;32m   1205\u001b[0m         })\n\u001b[0;32m-> 1206\u001b[0;31m         \u001b[0;32mreturn\u001b[0m \u001b[0mself\u001b[0m\u001b[0;34m.\u001b[0m\u001b[0morder_limit\u001b[0m\u001b[0;34m(\u001b[0m\u001b[0mtimeInForce\u001b[0m\u001b[0;34m=\u001b[0m\u001b[0mtimeInForce\u001b[0m\u001b[0;34m,\u001b[0m \u001b[0;34m**\u001b[0m\u001b[0mparams\u001b[0m\u001b[0;34m)\u001b[0m\u001b[0;34m\u001b[0m\u001b[0m\n\u001b[0m\u001b[1;32m   1207\u001b[0m \u001b[0;34m\u001b[0m\u001b[0m\n\u001b[1;32m   1208\u001b[0m     \u001b[0;32mdef\u001b[0m \u001b[0morder_limit_sell\u001b[0m\u001b[0;34m(\u001b[0m\u001b[0mself\u001b[0m\u001b[0;34m,\u001b[0m \u001b[0mtimeInForce\u001b[0m\u001b[0;34m=\u001b[0m\u001b[0mTIME_IN_FORCE_GTC\u001b[0m\u001b[0;34m,\u001b[0m \u001b[0;34m**\u001b[0m\u001b[0mparams\u001b[0m\u001b[0;34m)\u001b[0m\u001b[0;34m:\u001b[0m\u001b[0;34m\u001b[0m\u001b[0m\n",
      "\u001b[0;32m~/anaconda3/lib/python3.7/site-packages/binance/client.py\u001b[0m in \u001b[0;36morder_limit\u001b[0;34m(self, timeInForce, **params)\u001b[0m\n\u001b[1;32m   1168\u001b[0m             \u001b[0;34m'timeInForce'\u001b[0m\u001b[0;34m:\u001b[0m \u001b[0mtimeInForce\u001b[0m\u001b[0;34m\u001b[0m\u001b[0m\n\u001b[1;32m   1169\u001b[0m         })\n\u001b[0;32m-> 1170\u001b[0;31m         \u001b[0;32mreturn\u001b[0m \u001b[0mself\u001b[0m\u001b[0;34m.\u001b[0m\u001b[0mcreate_order\u001b[0m\u001b[0;34m(\u001b[0m\u001b[0;34m**\u001b[0m\u001b[0mparams\u001b[0m\u001b[0;34m)\u001b[0m\u001b[0;34m\u001b[0m\u001b[0m\n\u001b[0m\u001b[1;32m   1171\u001b[0m \u001b[0;34m\u001b[0m\u001b[0m\n\u001b[1;32m   1172\u001b[0m     \u001b[0;32mdef\u001b[0m \u001b[0morder_limit_buy\u001b[0m\u001b[0;34m(\u001b[0m\u001b[0mself\u001b[0m\u001b[0;34m,\u001b[0m \u001b[0mtimeInForce\u001b[0m\u001b[0;34m=\u001b[0m\u001b[0mTIME_IN_FORCE_GTC\u001b[0m\u001b[0;34m,\u001b[0m \u001b[0;34m**\u001b[0m\u001b[0mparams\u001b[0m\u001b[0;34m)\u001b[0m\u001b[0;34m:\u001b[0m\u001b[0;34m\u001b[0m\u001b[0m\n",
      "\u001b[0;32m~/anaconda3/lib/python3.7/site-packages/binance/client.py\u001b[0m in \u001b[0;36mcreate_order\u001b[0;34m(self, **params)\u001b[0m\n\u001b[1;32m   1131\u001b[0m \u001b[0;34m\u001b[0m\u001b[0m\n\u001b[1;32m   1132\u001b[0m         \"\"\"\n\u001b[0;32m-> 1133\u001b[0;31m         \u001b[0;32mreturn\u001b[0m \u001b[0mself\u001b[0m\u001b[0;34m.\u001b[0m\u001b[0m_post\u001b[0m\u001b[0;34m(\u001b[0m\u001b[0;34m'order'\u001b[0m\u001b[0;34m,\u001b[0m \u001b[0;32mTrue\u001b[0m\u001b[0;34m,\u001b[0m \u001b[0mdata\u001b[0m\u001b[0;34m=\u001b[0m\u001b[0mparams\u001b[0m\u001b[0;34m)\u001b[0m\u001b[0;34m\u001b[0m\u001b[0m\n\u001b[0m\u001b[1;32m   1134\u001b[0m \u001b[0;34m\u001b[0m\u001b[0m\n\u001b[1;32m   1135\u001b[0m     \u001b[0;32mdef\u001b[0m \u001b[0morder_limit\u001b[0m\u001b[0;34m(\u001b[0m\u001b[0mself\u001b[0m\u001b[0;34m,\u001b[0m \u001b[0mtimeInForce\u001b[0m\u001b[0;34m=\u001b[0m\u001b[0mTIME_IN_FORCE_GTC\u001b[0m\u001b[0;34m,\u001b[0m \u001b[0;34m**\u001b[0m\u001b[0mparams\u001b[0m\u001b[0;34m)\u001b[0m\u001b[0;34m:\u001b[0m\u001b[0;34m\u001b[0m\u001b[0m\n",
      "\u001b[0;32m~/anaconda3/lib/python3.7/site-packages/binance/client.py\u001b[0m in \u001b[0;36m_post\u001b[0;34m(self, path, signed, version, **kwargs)\u001b[0m\n\u001b[1;32m    207\u001b[0m \u001b[0;34m\u001b[0m\u001b[0m\n\u001b[1;32m    208\u001b[0m     \u001b[0;32mdef\u001b[0m \u001b[0m_post\u001b[0m\u001b[0;34m(\u001b[0m\u001b[0mself\u001b[0m\u001b[0;34m,\u001b[0m \u001b[0mpath\u001b[0m\u001b[0;34m,\u001b[0m \u001b[0msigned\u001b[0m\u001b[0;34m=\u001b[0m\u001b[0;32mFalse\u001b[0m\u001b[0;34m,\u001b[0m \u001b[0mversion\u001b[0m\u001b[0;34m=\u001b[0m\u001b[0mPUBLIC_API_VERSION\u001b[0m\u001b[0;34m,\u001b[0m \u001b[0;34m**\u001b[0m\u001b[0mkwargs\u001b[0m\u001b[0;34m)\u001b[0m\u001b[0;34m:\u001b[0m\u001b[0;34m\u001b[0m\u001b[0m\n\u001b[0;32m--> 209\u001b[0;31m         \u001b[0;32mreturn\u001b[0m \u001b[0mself\u001b[0m\u001b[0;34m.\u001b[0m\u001b[0m_request_api\u001b[0m\u001b[0;34m(\u001b[0m\u001b[0;34m'post'\u001b[0m\u001b[0;34m,\u001b[0m \u001b[0mpath\u001b[0m\u001b[0;34m,\u001b[0m \u001b[0msigned\u001b[0m\u001b[0;34m,\u001b[0m \u001b[0mversion\u001b[0m\u001b[0;34m,\u001b[0m \u001b[0;34m**\u001b[0m\u001b[0mkwargs\u001b[0m\u001b[0;34m)\u001b[0m\u001b[0;34m\u001b[0m\u001b[0m\n\u001b[0m\u001b[1;32m    210\u001b[0m \u001b[0;34m\u001b[0m\u001b[0m\n\u001b[1;32m    211\u001b[0m     \u001b[0;32mdef\u001b[0m \u001b[0m_put\u001b[0m\u001b[0;34m(\u001b[0m\u001b[0mself\u001b[0m\u001b[0;34m,\u001b[0m \u001b[0mpath\u001b[0m\u001b[0;34m,\u001b[0m \u001b[0msigned\u001b[0m\u001b[0;34m=\u001b[0m\u001b[0;32mFalse\u001b[0m\u001b[0;34m,\u001b[0m \u001b[0mversion\u001b[0m\u001b[0;34m=\u001b[0m\u001b[0mPUBLIC_API_VERSION\u001b[0m\u001b[0;34m,\u001b[0m \u001b[0;34m**\u001b[0m\u001b[0mkwargs\u001b[0m\u001b[0;34m)\u001b[0m\u001b[0;34m:\u001b[0m\u001b[0;34m\u001b[0m\u001b[0m\n",
      "\u001b[0;32m~/anaconda3/lib/python3.7/site-packages/binance/client.py\u001b[0m in \u001b[0;36m_request_api\u001b[0;34m(self, method, path, signed, version, **kwargs)\u001b[0m\n\u001b[1;32m    178\u001b[0m         \u001b[0muri\u001b[0m \u001b[0;34m=\u001b[0m \u001b[0mself\u001b[0m\u001b[0;34m.\u001b[0m\u001b[0m_create_api_uri\u001b[0m\u001b[0;34m(\u001b[0m\u001b[0mpath\u001b[0m\u001b[0;34m,\u001b[0m \u001b[0msigned\u001b[0m\u001b[0;34m,\u001b[0m \u001b[0mversion\u001b[0m\u001b[0;34m)\u001b[0m\u001b[0;34m\u001b[0m\u001b[0m\n\u001b[1;32m    179\u001b[0m \u001b[0;34m\u001b[0m\u001b[0m\n\u001b[0;32m--> 180\u001b[0;31m         \u001b[0;32mreturn\u001b[0m \u001b[0mself\u001b[0m\u001b[0;34m.\u001b[0m\u001b[0m_request\u001b[0m\u001b[0;34m(\u001b[0m\u001b[0mmethod\u001b[0m\u001b[0;34m,\u001b[0m \u001b[0muri\u001b[0m\u001b[0;34m,\u001b[0m \u001b[0msigned\u001b[0m\u001b[0;34m,\u001b[0m \u001b[0;34m**\u001b[0m\u001b[0mkwargs\u001b[0m\u001b[0;34m)\u001b[0m\u001b[0;34m\u001b[0m\u001b[0m\n\u001b[0m\u001b[1;32m    181\u001b[0m \u001b[0;34m\u001b[0m\u001b[0m\n\u001b[1;32m    182\u001b[0m     \u001b[0;32mdef\u001b[0m \u001b[0m_request_withdraw_api\u001b[0m\u001b[0;34m(\u001b[0m\u001b[0mself\u001b[0m\u001b[0;34m,\u001b[0m \u001b[0mmethod\u001b[0m\u001b[0;34m,\u001b[0m \u001b[0mpath\u001b[0m\u001b[0;34m,\u001b[0m \u001b[0msigned\u001b[0m\u001b[0;34m=\u001b[0m\u001b[0;32mFalse\u001b[0m\u001b[0;34m,\u001b[0m \u001b[0;34m**\u001b[0m\u001b[0mkwargs\u001b[0m\u001b[0;34m)\u001b[0m\u001b[0;34m:\u001b[0m\u001b[0;34m\u001b[0m\u001b[0m\n",
      "\u001b[0;32m~/anaconda3/lib/python3.7/site-packages/binance/client.py\u001b[0m in \u001b[0;36m_request\u001b[0;34m(self, method, uri, signed, force_params, **kwargs)\u001b[0m\n\u001b[1;32m    173\u001b[0m \u001b[0;34m\u001b[0m\u001b[0m\n\u001b[1;32m    174\u001b[0m         \u001b[0mresponse\u001b[0m \u001b[0;34m=\u001b[0m \u001b[0mgetattr\u001b[0m\u001b[0;34m(\u001b[0m\u001b[0mself\u001b[0m\u001b[0;34m.\u001b[0m\u001b[0msession\u001b[0m\u001b[0;34m,\u001b[0m \u001b[0mmethod\u001b[0m\u001b[0;34m)\u001b[0m\u001b[0;34m(\u001b[0m\u001b[0muri\u001b[0m\u001b[0;34m,\u001b[0m \u001b[0;34m**\u001b[0m\u001b[0mkwargs\u001b[0m\u001b[0;34m)\u001b[0m\u001b[0;34m\u001b[0m\u001b[0m\n\u001b[0;32m--> 175\u001b[0;31m         \u001b[0;32mreturn\u001b[0m \u001b[0mself\u001b[0m\u001b[0;34m.\u001b[0m\u001b[0m_handle_response\u001b[0m\u001b[0;34m(\u001b[0m\u001b[0mresponse\u001b[0m\u001b[0;34m)\u001b[0m\u001b[0;34m\u001b[0m\u001b[0m\n\u001b[0m\u001b[1;32m    176\u001b[0m \u001b[0;34m\u001b[0m\u001b[0m\n\u001b[1;32m    177\u001b[0m     \u001b[0;32mdef\u001b[0m \u001b[0m_request_api\u001b[0m\u001b[0;34m(\u001b[0m\u001b[0mself\u001b[0m\u001b[0;34m,\u001b[0m \u001b[0mmethod\u001b[0m\u001b[0;34m,\u001b[0m \u001b[0mpath\u001b[0m\u001b[0;34m,\u001b[0m \u001b[0msigned\u001b[0m\u001b[0;34m=\u001b[0m\u001b[0;32mFalse\u001b[0m\u001b[0;34m,\u001b[0m \u001b[0mversion\u001b[0m\u001b[0;34m=\u001b[0m\u001b[0mPUBLIC_API_VERSION\u001b[0m\u001b[0;34m,\u001b[0m \u001b[0;34m**\u001b[0m\u001b[0mkwargs\u001b[0m\u001b[0;34m)\u001b[0m\u001b[0;34m:\u001b[0m\u001b[0;34m\u001b[0m\u001b[0m\n",
      "\u001b[0;32m~/anaconda3/lib/python3.7/site-packages/binance/client.py\u001b[0m in \u001b[0;36m_handle_response\u001b[0;34m(self, response)\u001b[0m\n\u001b[1;32m    197\u001b[0m         \"\"\"\n\u001b[1;32m    198\u001b[0m         \u001b[0;32mif\u001b[0m \u001b[0;32mnot\u001b[0m \u001b[0mstr\u001b[0m\u001b[0;34m(\u001b[0m\u001b[0mresponse\u001b[0m\u001b[0;34m.\u001b[0m\u001b[0mstatus_code\u001b[0m\u001b[0;34m)\u001b[0m\u001b[0;34m.\u001b[0m\u001b[0mstartswith\u001b[0m\u001b[0;34m(\u001b[0m\u001b[0;34m'2'\u001b[0m\u001b[0;34m)\u001b[0m\u001b[0;34m:\u001b[0m\u001b[0;34m\u001b[0m\u001b[0m\n\u001b[0;32m--> 199\u001b[0;31m             \u001b[0;32mraise\u001b[0m \u001b[0mBinanceAPIException\u001b[0m\u001b[0;34m(\u001b[0m\u001b[0mresponse\u001b[0m\u001b[0;34m)\u001b[0m\u001b[0;34m\u001b[0m\u001b[0m\n\u001b[0m\u001b[1;32m    200\u001b[0m         \u001b[0;32mtry\u001b[0m\u001b[0;34m:\u001b[0m\u001b[0;34m\u001b[0m\u001b[0m\n\u001b[1;32m    201\u001b[0m             \u001b[0;32mreturn\u001b[0m \u001b[0mresponse\u001b[0m\u001b[0;34m.\u001b[0m\u001b[0mjson\u001b[0m\u001b[0;34m(\u001b[0m\u001b[0;34m)\u001b[0m\u001b[0;34m\u001b[0m\u001b[0m\n",
      "\u001b[0;31mBinanceAPIException\u001b[0m: APIError(code=-2010): Account has insufficient balance for requested action."
     ]
    }
   ],
   "source": [
    "order = client.order_limit_buy(\n",
    "    symbol='VETUSDT',\n",
    "    quantity=5000,\n",
    "    price=format_amount_order(0.0055)) # Use Ask + n%"
   ]
  },
  {
   "cell_type": "code",
   "execution_count": 36,
   "metadata": {},
   "outputs": [
    {
     "data": {
      "text/plain": [
       "[{'symbol': 'VETUSDT',\n",
       "  'orderId': 9358183,\n",
       "  'clientOrderId': 'ILNyxOioi7cPBDGkQSKtbH',\n",
       "  'price': '0.00550000',\n",
       "  'origQty': '5000.00000000',\n",
       "  'executedQty': '0.00000000',\n",
       "  'cummulativeQuoteQty': '0.00000000',\n",
       "  'status': 'NEW',\n",
       "  'timeInForce': 'GTC',\n",
       "  'type': 'LIMIT',\n",
       "  'side': 'SELL',\n",
       "  'stopPrice': '0.00000000',\n",
       "  'icebergQty': '0.00000000',\n",
       "  'time': 1545235888618,\n",
       "  'updateTime': 1545235888618,\n",
       "  'isWorking': True}]"
      ]
     },
     "execution_count": 36,
     "metadata": {},
     "output_type": "execute_result"
    }
   ],
   "source": [
    "# ============== cancel_open_orders()  ==============\n",
    "orders = client.get_open_orders(symbol='VETUSDT')\n",
    "orders\n",
    "# boucle:\n",
    "# result = client.cancel_order(\n",
    "#     symbol='BNBBTC',\n",
    "#     orderId='orderId')\n",
    "# Attention, sell order <> buy order ! cancel buy ok, cancel sell ? risqué..\n",
    "\n",
    "# [{'symbol': 'VETUSDT',\n",
    "#   'orderId': 9358183,\n",
    "#   'clientOrderId': 'ILNyxOioi7cPBDGkQSKtbH',\n",
    "#   'price': '0.00550000',\n",
    "#   'origQty': '5000.00000000',\n",
    "#   'executedQty': '0.00000000',\n",
    "#   'cummulativeQuoteQty': '0.00000000',\n",
    "#   'status': 'NEW',\n",
    "#   'timeInForce': 'GTC',\n",
    "#   'type': 'LIMIT',\n",
    "#   'side': 'SELL',\n",
    "#   'stopPrice': '0.00000000',\n",
    "#   'icebergQty': '0.00000000',\n",
    "#   'time': 1545235888618,\n",
    "#   'updateTime': 1545235888618,\n",
    "#   'isWorking': True}]"
   ]
  },
  {
   "cell_type": "code",
   "execution_count": 37,
   "metadata": {},
   "outputs": [
    {
     "data": {
      "text/plain": [
       "{'symbol': 'VETUSDT',\n",
       " 'origClientOrderId': 'ILNyxOioi7cPBDGkQSKtbH',\n",
       " 'orderId': 9358183,\n",
       " 'clientOrderId': '4ZPYz4mDfcTg6Ho0O1QhoA',\n",
       " 'price': '0.00550000',\n",
       " 'origQty': '5000.00000000',\n",
       " 'executedQty': '0.00000000',\n",
       " 'cummulativeQuoteQty': '0.00000000',\n",
       " 'status': 'CANCELED',\n",
       " 'timeInForce': 'GTC',\n",
       " 'type': 'LIMIT',\n",
       " 'side': 'SELL'}"
      ]
     },
     "execution_count": 37,
     "metadata": {},
     "output_type": "execute_result"
    }
   ],
   "source": [
    "result = client.cancel_order(\n",
    "     symbol='VETUSDT',\n",
    "     orderId='9358183')\n",
    "result\n",
    "\n",
    "# {'symbol': 'VETUSDT',\n",
    "#  'origClientOrderId': 'ILNyxOioi7cPBDGkQSKtbH',\n",
    "#  'orderId': 9358183,\n",
    "#  'clientOrderId': '4ZPYz4mDfcTg6Ho0O1QhoA',\n",
    "#  'price': '0.00550000',\n",
    "#  'origQty': '5000.00000000',\n",
    "#  'executedQty': '0.00000000',\n",
    "#  'cummulativeQuoteQty': '0.00000000',\n",
    "#  'status': 'CANCELED',\n",
    "#  'timeInForce': 'GTC',\n",
    "#  'type': 'LIMIT',\n",
    "#  'side': 'SELL'}"
   ]
  },
  {
   "cell_type": "code",
   "execution_count": 48,
   "metadata": {},
   "outputs": [
    {
     "data": {
      "text/plain": [
       "[{'symbol': 'VETUSDT',\n",
       "  'orderId': 9358183,\n",
       "  'clientOrderId': 'ILNyxOioi7cPBDGkQSKtbH',\n",
       "  'price': '0.00550000',\n",
       "  'origQty': '5000.00000000',\n",
       "  'executedQty': '0.00000000',\n",
       "  'cummulativeQuoteQty': '0.00000000',\n",
       "  'status': 'CANCELED',\n",
       "  'timeInForce': 'GTC',\n",
       "  'type': 'LIMIT',\n",
       "  'side': 'SELL',\n",
       "  'stopPrice': '0.00000000',\n",
       "  'icebergQty': '0.00000000',\n",
       "  'time': 1545235888618,\n",
       "  'updateTime': 1545236067317,\n",
       "  'isWorking': True}]"
      ]
     },
     "execution_count": 48,
     "metadata": {},
     "output_type": "execute_result"
    }
   ],
   "source": [
    "client.get_all_orders(symbol='VETUSDT')"
   ]
  },
  {
   "cell_type": "code",
   "execution_count": 38,
   "metadata": {},
   "outputs": [
    {
     "data": {
      "text/plain": [
       "[]"
      ]
     },
     "execution_count": 38,
     "metadata": {},
     "output_type": "execute_result"
    }
   ],
   "source": [
    "orders = client.get_open_orders(symbol='VETUSDT')\n",
    "orders\n",
    "# empty: []"
   ]
  },
  {
   "cell_type": "code",
   "execution_count": 49,
   "metadata": {},
   "outputs": [
    {
     "ename": "BinanceAPIException",
     "evalue": "APIError(code=-1121): Invalid symbol.",
     "output_type": "error",
     "traceback": [
      "\u001b[0;31m---------------------------------------------------------------------------\u001b[0m",
      "\u001b[0;31mBinanceAPIException\u001b[0m                       Traceback (most recent call last)",
      "\u001b[0;32m<ipython-input-49-fa28c4984f35>\u001b[0m in \u001b[0;36m<module>\u001b[0;34m\u001b[0m\n\u001b[0;32m----> 1\u001b[0;31m \u001b[0mclient\u001b[0m\u001b[0;34m.\u001b[0m\u001b[0mget_all_orders\u001b[0m\u001b[0;34m(\u001b[0m\u001b[0;34m)\u001b[0m\u001b[0;34m\u001b[0m\u001b[0m\n\u001b[0m",
      "\u001b[0;32m~/anaconda3/lib/python3.7/site-packages/binance/client.py\u001b[0m in \u001b[0;36mget_all_orders\u001b[0;34m(self, **params)\u001b[0m\n\u001b[1;32m   1436\u001b[0m \u001b[0;34m\u001b[0m\u001b[0m\n\u001b[1;32m   1437\u001b[0m         \"\"\"\n\u001b[0;32m-> 1438\u001b[0;31m         \u001b[0;32mreturn\u001b[0m \u001b[0mself\u001b[0m\u001b[0;34m.\u001b[0m\u001b[0m_get\u001b[0m\u001b[0;34m(\u001b[0m\u001b[0;34m'allOrders'\u001b[0m\u001b[0;34m,\u001b[0m \u001b[0;32mTrue\u001b[0m\u001b[0;34m,\u001b[0m \u001b[0mdata\u001b[0m\u001b[0;34m=\u001b[0m\u001b[0mparams\u001b[0m\u001b[0;34m)\u001b[0m\u001b[0;34m\u001b[0m\u001b[0m\n\u001b[0m\u001b[1;32m   1439\u001b[0m \u001b[0;34m\u001b[0m\u001b[0m\n\u001b[1;32m   1440\u001b[0m     \u001b[0;32mdef\u001b[0m \u001b[0mcancel_order\u001b[0m\u001b[0;34m(\u001b[0m\u001b[0mself\u001b[0m\u001b[0;34m,\u001b[0m \u001b[0;34m**\u001b[0m\u001b[0mparams\u001b[0m\u001b[0;34m)\u001b[0m\u001b[0;34m:\u001b[0m\u001b[0;34m\u001b[0m\u001b[0m\n",
      "\u001b[0;32m~/anaconda3/lib/python3.7/site-packages/binance/client.py\u001b[0m in \u001b[0;36m_get\u001b[0;34m(self, path, signed, version, **kwargs)\u001b[0m\n\u001b[1;32m    204\u001b[0m \u001b[0;34m\u001b[0m\u001b[0m\n\u001b[1;32m    205\u001b[0m     \u001b[0;32mdef\u001b[0m \u001b[0m_get\u001b[0m\u001b[0;34m(\u001b[0m\u001b[0mself\u001b[0m\u001b[0;34m,\u001b[0m \u001b[0mpath\u001b[0m\u001b[0;34m,\u001b[0m \u001b[0msigned\u001b[0m\u001b[0;34m=\u001b[0m\u001b[0;32mFalse\u001b[0m\u001b[0;34m,\u001b[0m \u001b[0mversion\u001b[0m\u001b[0;34m=\u001b[0m\u001b[0mPUBLIC_API_VERSION\u001b[0m\u001b[0;34m,\u001b[0m \u001b[0;34m**\u001b[0m\u001b[0mkwargs\u001b[0m\u001b[0;34m)\u001b[0m\u001b[0;34m:\u001b[0m\u001b[0;34m\u001b[0m\u001b[0m\n\u001b[0;32m--> 206\u001b[0;31m         \u001b[0;32mreturn\u001b[0m \u001b[0mself\u001b[0m\u001b[0;34m.\u001b[0m\u001b[0m_request_api\u001b[0m\u001b[0;34m(\u001b[0m\u001b[0;34m'get'\u001b[0m\u001b[0;34m,\u001b[0m \u001b[0mpath\u001b[0m\u001b[0;34m,\u001b[0m \u001b[0msigned\u001b[0m\u001b[0;34m,\u001b[0m \u001b[0mversion\u001b[0m\u001b[0;34m,\u001b[0m \u001b[0;34m**\u001b[0m\u001b[0mkwargs\u001b[0m\u001b[0;34m)\u001b[0m\u001b[0;34m\u001b[0m\u001b[0m\n\u001b[0m\u001b[1;32m    207\u001b[0m \u001b[0;34m\u001b[0m\u001b[0m\n\u001b[1;32m    208\u001b[0m     \u001b[0;32mdef\u001b[0m \u001b[0m_post\u001b[0m\u001b[0;34m(\u001b[0m\u001b[0mself\u001b[0m\u001b[0;34m,\u001b[0m \u001b[0mpath\u001b[0m\u001b[0;34m,\u001b[0m \u001b[0msigned\u001b[0m\u001b[0;34m=\u001b[0m\u001b[0;32mFalse\u001b[0m\u001b[0;34m,\u001b[0m \u001b[0mversion\u001b[0m\u001b[0;34m=\u001b[0m\u001b[0mPUBLIC_API_VERSION\u001b[0m\u001b[0;34m,\u001b[0m \u001b[0;34m**\u001b[0m\u001b[0mkwargs\u001b[0m\u001b[0;34m)\u001b[0m\u001b[0;34m:\u001b[0m\u001b[0;34m\u001b[0m\u001b[0m\n",
      "\u001b[0;32m~/anaconda3/lib/python3.7/site-packages/binance/client.py\u001b[0m in \u001b[0;36m_request_api\u001b[0;34m(self, method, path, signed, version, **kwargs)\u001b[0m\n\u001b[1;32m    178\u001b[0m         \u001b[0muri\u001b[0m \u001b[0;34m=\u001b[0m \u001b[0mself\u001b[0m\u001b[0;34m.\u001b[0m\u001b[0m_create_api_uri\u001b[0m\u001b[0;34m(\u001b[0m\u001b[0mpath\u001b[0m\u001b[0;34m,\u001b[0m \u001b[0msigned\u001b[0m\u001b[0;34m,\u001b[0m \u001b[0mversion\u001b[0m\u001b[0;34m)\u001b[0m\u001b[0;34m\u001b[0m\u001b[0m\n\u001b[1;32m    179\u001b[0m \u001b[0;34m\u001b[0m\u001b[0m\n\u001b[0;32m--> 180\u001b[0;31m         \u001b[0;32mreturn\u001b[0m \u001b[0mself\u001b[0m\u001b[0;34m.\u001b[0m\u001b[0m_request\u001b[0m\u001b[0;34m(\u001b[0m\u001b[0mmethod\u001b[0m\u001b[0;34m,\u001b[0m \u001b[0muri\u001b[0m\u001b[0;34m,\u001b[0m \u001b[0msigned\u001b[0m\u001b[0;34m,\u001b[0m \u001b[0;34m**\u001b[0m\u001b[0mkwargs\u001b[0m\u001b[0;34m)\u001b[0m\u001b[0;34m\u001b[0m\u001b[0m\n\u001b[0m\u001b[1;32m    181\u001b[0m \u001b[0;34m\u001b[0m\u001b[0m\n\u001b[1;32m    182\u001b[0m     \u001b[0;32mdef\u001b[0m \u001b[0m_request_withdraw_api\u001b[0m\u001b[0;34m(\u001b[0m\u001b[0mself\u001b[0m\u001b[0;34m,\u001b[0m \u001b[0mmethod\u001b[0m\u001b[0;34m,\u001b[0m \u001b[0mpath\u001b[0m\u001b[0;34m,\u001b[0m \u001b[0msigned\u001b[0m\u001b[0;34m=\u001b[0m\u001b[0;32mFalse\u001b[0m\u001b[0;34m,\u001b[0m \u001b[0;34m**\u001b[0m\u001b[0mkwargs\u001b[0m\u001b[0;34m)\u001b[0m\u001b[0;34m:\u001b[0m\u001b[0;34m\u001b[0m\u001b[0m\n",
      "\u001b[0;32m~/anaconda3/lib/python3.7/site-packages/binance/client.py\u001b[0m in \u001b[0;36m_request\u001b[0;34m(self, method, uri, signed, force_params, **kwargs)\u001b[0m\n\u001b[1;32m    173\u001b[0m \u001b[0;34m\u001b[0m\u001b[0m\n\u001b[1;32m    174\u001b[0m         \u001b[0mresponse\u001b[0m \u001b[0;34m=\u001b[0m \u001b[0mgetattr\u001b[0m\u001b[0;34m(\u001b[0m\u001b[0mself\u001b[0m\u001b[0;34m.\u001b[0m\u001b[0msession\u001b[0m\u001b[0;34m,\u001b[0m \u001b[0mmethod\u001b[0m\u001b[0;34m)\u001b[0m\u001b[0;34m(\u001b[0m\u001b[0muri\u001b[0m\u001b[0;34m,\u001b[0m \u001b[0;34m**\u001b[0m\u001b[0mkwargs\u001b[0m\u001b[0;34m)\u001b[0m\u001b[0;34m\u001b[0m\u001b[0m\n\u001b[0;32m--> 175\u001b[0;31m         \u001b[0;32mreturn\u001b[0m \u001b[0mself\u001b[0m\u001b[0;34m.\u001b[0m\u001b[0m_handle_response\u001b[0m\u001b[0;34m(\u001b[0m\u001b[0mresponse\u001b[0m\u001b[0;34m)\u001b[0m\u001b[0;34m\u001b[0m\u001b[0m\n\u001b[0m\u001b[1;32m    176\u001b[0m \u001b[0;34m\u001b[0m\u001b[0m\n\u001b[1;32m    177\u001b[0m     \u001b[0;32mdef\u001b[0m \u001b[0m_request_api\u001b[0m\u001b[0;34m(\u001b[0m\u001b[0mself\u001b[0m\u001b[0;34m,\u001b[0m \u001b[0mmethod\u001b[0m\u001b[0;34m,\u001b[0m \u001b[0mpath\u001b[0m\u001b[0;34m,\u001b[0m \u001b[0msigned\u001b[0m\u001b[0;34m=\u001b[0m\u001b[0;32mFalse\u001b[0m\u001b[0;34m,\u001b[0m \u001b[0mversion\u001b[0m\u001b[0;34m=\u001b[0m\u001b[0mPUBLIC_API_VERSION\u001b[0m\u001b[0;34m,\u001b[0m \u001b[0;34m**\u001b[0m\u001b[0mkwargs\u001b[0m\u001b[0;34m)\u001b[0m\u001b[0;34m:\u001b[0m\u001b[0;34m\u001b[0m\u001b[0m\n",
      "\u001b[0;32m~/anaconda3/lib/python3.7/site-packages/binance/client.py\u001b[0m in \u001b[0;36m_handle_response\u001b[0;34m(self, response)\u001b[0m\n\u001b[1;32m    197\u001b[0m         \"\"\"\n\u001b[1;32m    198\u001b[0m         \u001b[0;32mif\u001b[0m \u001b[0;32mnot\u001b[0m \u001b[0mstr\u001b[0m\u001b[0;34m(\u001b[0m\u001b[0mresponse\u001b[0m\u001b[0;34m.\u001b[0m\u001b[0mstatus_code\u001b[0m\u001b[0;34m)\u001b[0m\u001b[0;34m.\u001b[0m\u001b[0mstartswith\u001b[0m\u001b[0;34m(\u001b[0m\u001b[0;34m'2'\u001b[0m\u001b[0;34m)\u001b[0m\u001b[0;34m:\u001b[0m\u001b[0;34m\u001b[0m\u001b[0m\n\u001b[0;32m--> 199\u001b[0;31m             \u001b[0;32mraise\u001b[0m \u001b[0mBinanceAPIException\u001b[0m\u001b[0;34m(\u001b[0m\u001b[0mresponse\u001b[0m\u001b[0;34m)\u001b[0m\u001b[0;34m\u001b[0m\u001b[0m\n\u001b[0m\u001b[1;32m    200\u001b[0m         \u001b[0;32mtry\u001b[0m\u001b[0;34m:\u001b[0m\u001b[0;34m\u001b[0m\u001b[0m\n\u001b[1;32m    201\u001b[0m             \u001b[0;32mreturn\u001b[0m \u001b[0mresponse\u001b[0m\u001b[0;34m.\u001b[0m\u001b[0mjson\u001b[0m\u001b[0;34m(\u001b[0m\u001b[0;34m)\u001b[0m\u001b[0;34m\u001b[0m\u001b[0m\n",
      "\u001b[0;31mBinanceAPIException\u001b[0m: APIError(code=-1121): Invalid symbol."
     ]
    }
   ],
   "source": [
    "client.get_all_orders(symbol='BNBBTC')"
   ]
  },
  {
   "cell_type": "code",
   "execution_count": 43,
   "metadata": {},
   "outputs": [
    {
     "data": {
      "text/plain": [
       "{'symbol': 'VETUSDT',\n",
       " 'orderId': 9358183,\n",
       " 'clientOrderId': 'ILNyxOioi7cPBDGkQSKtbH',\n",
       " 'price': '0.00550000',\n",
       " 'origQty': '5000.00000000',\n",
       " 'executedQty': '0.00000000',\n",
       " 'cummulativeQuoteQty': '0.00000000',\n",
       " 'status': 'CANCELED',\n",
       " 'timeInForce': 'GTC',\n",
       " 'type': 'LIMIT',\n",
       " 'side': 'SELL',\n",
       " 'stopPrice': '0.00000000',\n",
       " 'icebergQty': '0.00000000',\n",
       " 'time': 1545235888618,\n",
       " 'updateTime': 1545236067317,\n",
       " 'isWorking': True}"
      ]
     },
     "execution_count": 43,
     "metadata": {},
     "output_type": "execute_result"
    }
   ],
   "source": [
    "order = client.get_order(\n",
    "    symbol='VETUSDT',\n",
    "    orderId='9358183')\n",
    "order\n",
    "\n",
    "# {'symbol': 'VETUSDT',\n",
    "#  'orderId': 9358183,\n",
    "#  'clientOrderId': 'ILNyxOioi7cPBDGkQSKtbH',\n",
    "#  'price': '0.00550000',\n",
    "#  'origQty': '5000.00000000',\n",
    "#  'executedQty': '0.00000000',\n",
    "#  'cummulativeQuoteQty': '0.00000000',\n",
    "#  'status': 'CANCELED',\n",
    "#  'timeInForce': 'GTC',\n",
    "#  'type': 'LIMIT',\n",
    "#  'side': 'SELL',\n",
    "#  'stopPrice': '0.00000000',\n",
    "#  'icebergQty': '0.00000000',\n",
    "#  'time': 1545235888618,\n",
    "#  'updateTime': 1545236067317,\n",
    "#  'isWorking': True}"
   ]
  }
 ],
 "metadata": {
  "kernelspec": {
   "display_name": "Python 3",
   "language": "python",
   "name": "python3"
  },
  "language_info": {
   "codemirror_mode": {
    "name": "ipython",
    "version": 3
   },
   "file_extension": ".py",
   "mimetype": "text/x-python",
   "name": "python",
   "nbconvert_exporter": "python",
   "pygments_lexer": "ipython3",
   "version": "3.7.0"
  }
 },
 "nbformat": 4,
 "nbformat_minor": 2
}
