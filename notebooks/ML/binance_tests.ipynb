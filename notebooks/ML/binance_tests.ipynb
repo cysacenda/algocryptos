{
 "cells": [
  {
   "cell_type": "code",
   "execution_count": 1,
   "metadata": {},
   "outputs": [],
   "source": [
    "# Utiles\n",
    "    # Lib: https://github.com/sammchardy/python-binance\n",
    "    # Binance doc : https://github.com/binance-exchange/binance-official-api-docs/blob/master/rest-api.md\n",
    "    \n",
    "from binance.client import Client\n",
    "api_key = '8te7KGDgi6ayc8slY46KbWztB7yuIZ533fCrLWeqARAxBKAuQiMyyfIM4mfDrSlk'\n",
    "api_secret = 'ykwjZzkYF4Bvh0T7L1OokHfHTnVjKJ4OIvaEXkV97NisgI4JwDW7jPd3pzeVVpHh'\n",
    "\n",
    "client = Client(api_key, api_secret)"
   ]
  },
  {
   "cell_type": "code",
   "execution_count": 22,
   "metadata": {},
   "outputs": [
    {
     "data": {
      "text/plain": [
       "{'msg': 'Normal', 'success': True}"
      ]
     },
     "execution_count": 22,
     "metadata": {},
     "output_type": "execute_result"
    }
   ],
   "source": [
    "# ============= Check before trading =============\n",
    "\n",
    "# For global API system:  msg: 'normal', status: 0\n",
    "client.get_system_status()\n",
    "\n",
    "# For a trading pair status = 'TRADING'\n",
    "client.get_symbol_info('BNBBTC')\n",
    "\n",
    "# Get server time\n",
    "client.get_server_time()\n",
    "\n",
    "# Exchange info to verify tradingpair exists\n",
    "client.get_exchange_info()\n",
    "\n",
    "# msg: 'Normal', success: True\n",
    "client.get_account_status()"
   ]
  },
  {
   "cell_type": "code",
   "execution_count": 26,
   "metadata": {},
   "outputs": [],
   "source": [
    "# get all symbol prices\n",
    "prices = client.get_all_tickers()\n",
    "\n",
    "# get market depth (see what should be approx the price, use to determine limit to put to be sure to buy / sell directly)\n",
    "depth = client.get_order_book(symbol='ETHUSDT')"
   ]
  },
  {
   "cell_type": "code",
   "execution_count": 29,
   "metadata": {},
   "outputs": [
    {
     "data": {
      "text/plain": [
       "{'asset': 'VET', 'free': '70648.90000000', 'locked': '0.00000000'}"
      ]
     },
     "execution_count": 29,
     "metadata": {},
     "output_type": "execute_result"
    }
   ],
   "source": [
    "# canTrade=True\n",
    "info = client.get_account()\n",
    "\n",
    "# balance for an asset\n",
    "client.get_asset_balance(asset='VET')"
   ]
  },
  {
   "cell_type": "code",
   "execution_count": 36,
   "metadata": {},
   "outputs": [
    {
     "data": {
      "text/plain": [
       "[]"
      ]
     },
     "execution_count": 36,
     "metadata": {},
     "output_type": "execute_result"
    }
   ],
   "source": [
    "# current open orders (Symbol optional)\n",
    "client.get_open_orders(symbol='ETHUSDT')"
   ]
  },
  {
   "cell_type": "code",
   "execution_count": 31,
   "metadata": {},
   "outputs": [],
   "source": [
    "# place a test market buy order, to place an actual order use the create_order function\n",
    "order = client.create_test_order(\n",
    "    symbol='BNBBTC',\n",
    "    side=Client.SIDE_BUY,\n",
    "    type=Client.ORDER_TYPE_MARKET,\n",
    "    quantity=1000) # real: create_test_order"
   ]
  }
 ],
 "metadata": {
  "kernelspec": {
   "display_name": "Python 3",
   "language": "python",
   "name": "python3"
  },
  "language_info": {
   "codemirror_mode": {
    "name": "ipython",
    "version": 3
   },
   "file_extension": ".py",
   "mimetype": "text/x-python",
   "name": "python",
   "nbconvert_exporter": "python",
   "pygments_lexer": "ipython3",
   "version": "3.7.0"
  }
 },
 "nbformat": 4,
 "nbformat_minor": 2
}
