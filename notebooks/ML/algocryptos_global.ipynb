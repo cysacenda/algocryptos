{
 "cells": [
  {
   "cell_type": "code",
   "execution_count": null,
   "metadata": {},
   "outputs": [],
   "source": [
    "# GOAL : What am I searching for ?\n",
    "        # => To predict with the best possible accuracy (proba) an event (+/- xx% variation of close_price)\n",
    "        # What for ?\n",
    "            # => To be able to balance my portfolio (sell what should go down for what should go up)\n",
    "            # => Sell crypto for Stable coin / Or buy crypto with Stable Coin\n",
    "########\n",
    "\n",
    "# Advices : \n",
    "    # Be careful to scaling, min / max can change in the future..."
   ]
  },
  {
   "cell_type": "code",
   "execution_count": null,
   "metadata": {},
   "outputs": [],
   "source": [
    "# DONE\n",
    "    # 1 / Industrialization : \n",
    "        # Dataset for TOP 20 cryptos + capacity to learn from top 20 and predict 1 : DONE !\n",
    "    # 2 / Gérer le fait qu'on a des datasets déséquilibrés ? : OK\n",
    "    # 3 / Gérer l'overfitting de ouf : OK\n",
    "    # 4 / Play with Treshold\n",
    "    # 4 bis / \n",
    "        # => ROC Curve, learning curve & precision / recall curve au top et bien comprendre !       \n",
    "            # => Lire tout : https://classeval.wordpress.com/introduction/introduction-to-the-roc-receiver-operating-characteristics-plot/\n",
    "        # => cf. schéma avec 2 lignes de Treshold. Le treshold ça marche comment ? Il est ou sur precision ou recall ? \n",
    "        # => Est-ce que ça a un sens ?? Bien comprendre !"
   ]
  },
  {
   "cell_type": "code",
   "execution_count": null,
   "metadata": {},
   "outputs": [],
   "source": [
    "# TODO Now :\n",
    "    # 4 bis : \n",
    "        # Trouver un moyen pour que le ranking des modèles créés par GridSearch soit estimé en fonction de :\n",
    "            # precision + pas d'overfitting (scores train / test à peu près identiques)\n",
    "    \n",
    "    # 5 / Coder la systématisation :\n",
    "        # -> Dataset original 1-20-40 cryptos\n",
    "        # -> Prédire 1 / plusieurs cryptos (plusieurs plus logique ?)\n",
    "        # -> Algo XGBoostC, RandomForestC, MLPC\n",
    "        # Différents y (increase / deacrease + due date):\n",
    "            # +3h  : (+/-) 2.5 / 5% / 7.5% / 10%\n",
    "            # +6h  : (+/-) 2.5 / 5% / 7.5% / 10%\n",
    "            # +12h : (+/-) 5% / 7.5% / 10%\n",
    "            # +1d  : (+/-) 5% / 7.5% / 10%\n",
    "            # +2d  : (+/-) 5% / 7.5% / 10%\n",
    "            # +3d  : (+/-) 5% / 10% / 15% / 20%\n",
    "            # +7d  : (+/-) 10% / 20% / 30%\n",
    "            # +15d : (+/-) 10% / 20% / 30% / 50%\n",
    "            # +30d : (+/-) 10% / 20% / 30% / 50% / 100%\n",
    "        # => Rapport exploitable (data à minima avec possibilité de voir plus de détail, graph, etc.)\n",
    "           \n",
    "    # 5 bis / Faire du gridsearch puis optimiser avec treshold\n",
    "        # Jouer un peu avec les algo et gridsearch pour bien comprendre (paramètres, fonctionnement, etc.)\n",
    "                # => Comment fonctionne l'amélioration via Precision score, etc. ? Tester + comprendre\n",
    "         # cf. schéma systematisation + prendre en compte Treshold\n",
    "                # => Evaluer selon différents Treshold : https://classeval.wordpress.com/introduction/model-wide-evaluation/\n",
    "    \n",
    "    \n",
    "    # 6 / Construire algo de strategy backtest Buy / Sell + indicateur de stratégie (prendre en compte prévisions d'augmentation et prévisions de baisse)  \n",
    "    \n",
    "    # 7 / Une fois que j'ai fait tout ça :\n",
    "        # lecture + recherche internet d'inspiration / travaux semblables (cf. livres)\n",
    "        # Feature engineering :\n",
    "            # New :\n",
    "                # Variance close price, volumes 3h, 6h, 12h, 24h, etc., more indicators on different scale\n",
    "                # Mean 24h price\n",
    "                # Mean 24h price - current price\n",
    "            # Delete useless ? Do real feature engineering with data vizualisation, correlation, etc.\n",
    "            # Impact feature engineering (correlation, suppression feature useless, etc.) cf. algocryptos_tests\n",
    "    \n",
    "    # 8 / Others :\n",
    "        # Serialize scikit learn model: http://scikit-learn.org/stable/modules/model_persistence.html\n",
    "        # Use cross validation ?\n",
    "        # Différents algo de scaling en preprocessing\n",
    "        # Mieux comprendre ce qui est fait par l'algo, ex Randomforest, afficher arbre avec seuils, etc.\n",
    "        \n",
    "    # 9 / A terme je pourrais avoir :\n",
    "        # Des modèles qui se mettent à jour automatiquement\n",
    "        # Pleins de modèles utilisés à différentes échelles pour savoir si il faut vendre ou acheter ! \n",
    "            # cf. que faire en fonction des différentes probas\n",
    "        # Show learning curve ? Precision / Recall curve Other metrics ? Jouer sur Treshold pour maximiser précision\n",
    "        # Deploy Model in AWS (serverless, cf. tuto https://medium.com/@patrickmichelberger/how-to-deploy-a-serverless-machine-learning-microservice-with-aws-lambda-aws-api-gateway-and-d5b8cbead846\n",
    "        # Use AWS for model fitting ?\n",
    "    "
   ]
  },
  {
   "cell_type": "code",
   "execution_count": null,
   "metadata": {},
   "outputs": [],
   "source": [
    "from IPython.display import Image\n",
    "#Image(filename='Schema.jpg')\n",
    "#Image(filename='Systematisation.jpg')"
   ]
  },
  {
   "cell_type": "code",
   "execution_count": 1,
   "metadata": {},
   "outputs": [
    {
     "name": "stdout",
     "output_type": "stream",
     "text": [
      "importing Jupyter notebook from algocryptos_preprocessing.ipynb\n",
      "importing Jupyter notebook from algocryptos_gridsearch.ipynb\n"
     ]
    }
   ],
   "source": [
    "from utils_csa import show_model_accuracy, save_obj, load_obj\n",
    "\n",
    "import pandas.io.sql as psql\n",
    "import pandas as pd\n",
    "import numpy as np\n",
    "\n",
    "from sqlalchemy import create_engine\n",
    "\n",
    "from matplotlib import pyplot as plt\n",
    "%matplotlib inline\n",
    "import seaborn as sns\n",
    "\n",
    "from pytz import timezone\n",
    "from datetime import datetime, timedelta, date\n",
    "\n",
    "from sklearn.model_selection import train_test_split\n",
    "from sklearn.model_selection import RandomizedSearchCV\n",
    "from sklearn.metrics import make_scorer, precision_score\n",
    "\n",
    "\n",
    "# Lib to calcul financial indicators https://github.com/mrjbq7/ta-lib\n",
    "import talib\n",
    "\n",
    "# Lib to import ipynb : https://pypi.org/project/import-ipynb/\n",
    "import import_ipynb\n",
    "import algocryptos_preprocessing as alg_preproc\n",
    "import algocryptos_gridsearch as alg_gridsearch\n",
    "\n",
    "from pprint import pprint\n",
    "\n",
    "#pd.set_option('display.max_rows', 150)\n",
    "#pd.set_option('display.max_columns', 150)\n",
    "\n",
    "#np.set_printoptions(threshold='nan')"
   ]
  },
  {
   "cell_type": "code",
   "execution_count": 2,
   "metadata": {},
   "outputs": [],
   "source": [
    "# ------------------ PARAMETERS ------------------ #\n",
    "# ['y_+3h_value', 'y_+3h_classif',, 'y_+6h_value', 'y_+6h_classif', 'y_+12h_value', 'y_+12h_classif','y_+1d_value', 'y_+1d_classif', 'y_+2d_value', 'y_+2d_classif', 'y_+3d_value', 'y_+3d_classif', 'y_+7d_value', 'y_+7d_classif', 'y_+15d_value', 'y_+15d_classif', 'y_+30d_value', 'y_+30d_classif']\n",
    "id_cryptocompare = \"7605\" # ether 7605\n",
    "predict_only_one_crypto = False\n",
    "y_to_be_considered = 'y_+1d_classif' #1d_classif\n",
    "close_price_increase_targeted = +5\n",
    "threshold = 0.5\n",
    "dict_hours_labels  = {3:'3h', 6:'6h', 12:'12h', 24:'1d', 24*2:'2d', 24*3:'3d', 24*7:'7d', 24*15:'15d', 24*30:'30d'}"
   ]
  },
  {
   "cell_type": "code",
   "execution_count": 3,
   "metadata": {
    "scrolled": true
   },
   "outputs": [
    {
     "name": "stderr",
     "output_type": "stream",
     "text": [
      "C:\\Users\\cysac\\Anaconda3\\lib\\site-packages\\sklearn\\preprocessing\\data.py:323: DataConversionWarning: Data with input dtype bool, float64 were all converted to float64 by MinMaxScaler.\n",
      "  return self.partial_fit(X, y)\n"
     ]
    }
   ],
   "source": [
    "# ------------------ LOAD DATA FROM DATABASE ------------------ #\n",
    "\n",
    "# ONE CRYPTO\n",
    "#df = alg_preproc.get_global_dataset_for_crypto(\"236131\")\n",
    "#df2 = df.reset_index(drop=True)\n",
    "\n",
    "# TOP N CRYPTOS\n",
    "#dict_df = alg_preproc.get_global_datasets_for_top_n_cryptos(30)\n",
    "\n",
    "# ------------------ LOAD DATA FROM FILE ------------------ #\n",
    "#save_obj(dict_df, 'dict_df_2018_10_26')\n",
    "dict_df = load_obj('dict_df_2018_10_26') # top 30-40 \n",
    "#dict_df = load_obj('dict_df_2018_10_31') # top 10 \n",
    "#dict_df = load_obj('dict_df_2018_11_07') # top 10 \n",
    "#dict_df = load_obj('dict_df_2018_10_31_top2') # top 2\n",
    "#dict_df.keys()\n",
    "X_train, X_test, y_train, y_test = alg_preproc.get_preprocessed_data(dict_df, dict_hours_labels, \n",
    "                                                                     close_price_increase_targeted, \n",
    "                                                                     predict_only_one_crypto,\n",
    "                                                                     do_scale=True, \n",
    "                                                                     do_pca=False)"
   ]
  },
  {
   "cell_type": "code",
   "execution_count": null,
   "metadata": {},
   "outputs": [],
   "source": [
    "# -----------------------\n",
    "# ALGO : RANDOM FOREST WITH RANDOMGRIDSEARCH\n",
    "# -----------------------\n",
    "\n",
    "rf_best_estimator, rf_best_params = alg_gridsearch.start_randomizedSearchCV_random_forest(X_train_scaled, \n",
    "                                                                                          y_train[y_to_be_considered])\n",
    "\n",
    "show_model_accuracy('RandomForestClassifier - Train', rf_best_estimator, X_train_scaled, y_train[y_to_be_considered], X_train_scaled.columns, do_precision_recall_curve=True, do_features_importance=True, threshold=threshold)\n",
    "show_model_accuracy('RandomForestClassifier - Test', rf_best_estimator, X_test_scaled, y_test[y_to_be_considered], X_test_scaled.columns, do_precision_recall_curve=True, do_features_importance=False, threshold=threshold)"
   ]
  },
  {
   "cell_type": "code",
   "execution_count": null,
   "metadata": {},
   "outputs": [],
   "source": [
    "# -----------------------\n",
    "# ALGO : MLPC WITH RANDOMGRIDSEARCH\n",
    "# -----------------------\n",
    "\n",
    "mlpc_best_estimator, mlpc_best_params = alg_gridsearch.start_randomizedSearchCV_mlpc(X_train_scaled, \n",
    "                                                                                     y_train[y_to_be_considered])\n",
    "\n",
    "show_model_accuracy('RandomForestClassifier - Train', mlpc_best_estimator, X_train_scaled, y_train[y_to_be_considered], X_train_scaled.columns, do_precision_recall_curve=True, do_features_importance=False, threshold=threshold)\n",
    "show_model_accuracy('RandomForestClassifier - Test', mlpc_best_estimator, X_test_scaled, y_test[y_to_be_considered], X_test_scaled.columns, do_precision_recall_curve=True, do_features_importance=False, threshold=threshold)"
   ]
  },
  {
   "cell_type": "code",
   "execution_count": null,
   "metadata": {},
   "outputs": [],
   "source": [
    "# -----------------------\n",
    "# ALGO : XGBoost WITH RANDOMGRIDSEARCH\n",
    "# -----------------------\n",
    "\n",
    "xgboost_best_estimator, xgboost_best_params = alg_gridsearch.start_randomizedSearchCV_xgboost(X_train_scaled, \n",
    "                                                                                           y_train[y_to_be_considered])\n",
    "\n",
    "show_model_accuracy('GradientBoostingClassifier - Train', xgboost_best_estimator, X_train_scaled, y_train[y_to_be_considered], X_train_scaled.columns, do_precision_recall_curve=True, do_features_importance=False, threshold=threshold)\n",
    "show_model_accuracy('GradientBoostingClassifier - Test', xgboost_best_estimator, X_test_scaled, y_test[y_to_be_considered], X_test_scaled.columns, do_precision_recall_curve=True, do_features_importance=False, threshold=threshold)"
   ]
  },
  {
   "cell_type": "code",
   "execution_count": null,
   "metadata": {
    "scrolled": false
   },
   "outputs": [],
   "source": [
    "# -----------------------\n",
    "# ALGO : RANDOM FOREST\n",
    "# -----------------------\n",
    "\n",
    "from sklearn.ensemble import RandomForestClassifier\n",
    "#, n_estimators=100, max_features='auto', max_depth=5, criterion='entropy', class_weight=\"balanced\"\n",
    "clf = RandomForestClassifier(random_state=0, class_weight=\"balanced\", max_depth=5).fit(X_train_scaled, y_train[y_to_be_considered])\n",
    "\n",
    "show_model_accuracy('RandomForestClassifier - Train', clf, X_train_scaled, y_train[y_to_be_considered], None, do_precision_recall_curve=True, do_features_importance=True, threshold=threshold)\n",
    "show_model_accuracy('RandomForestClassifier - Test', clf, X_test_scaled, y_test[y_to_be_considered], None, do_precision_recall_curve=True, do_features_importance=False, threshold=threshold)\n",
    "\n",
    "# proba : to be shown by prediction, bien comprendre !\n",
    "probas = clf.predict_proba(X_test_scaled)[:,1]\n",
    "pprint(np.sort(probas))\n",
    "pprint(clf.get_params())\n",
    "\n",
    "# clf.decision_path(X_test)"
   ]
  },
  {
   "cell_type": "code",
   "execution_count": null,
   "metadata": {},
   "outputs": [],
   "source": [
    "# -----------------------\n",
    "# ALGO : MLPClassifier - Neural Network (cf. Module+4 for tuning)\n",
    "# -----------------------\n",
    "from sklearn.neural_network import MLPClassifier\n",
    "\n",
    "nnclf = MLPClassifier(hidden_layer_sizes = [130, 130], solver='lbfgs',\n",
    "                     random_state = 0).fit(X_train_scaled, y_train[y_to_be_considered])\n",
    "\n",
    "show_model_accuracy('MLPClassifier - Neural Network - Train', nnclf, X_train_scaled, y_train[y_to_be_considered], X_train_scaled.columns, do_roc_curve=True, do_features_importance=False, threshold=threshold)\n",
    "show_model_accuracy('MLPClassifier - Neural Network - Test', nnclf, X_test_scaled, y_test[y_to_be_considered], X_test_scaled.columns, do_roc_curve=True, do_features_importance=False, threshold=threshold)\n",
    "\n",
    "# proba : to be shown by prediction, bien comprendre !\n",
    "#print(pd.DataFrame(nnclf.predict_proba(X_test_scaled)[:,1]))"
   ]
  },
  {
   "cell_type": "code",
   "execution_count": null,
   "metadata": {
    "scrolled": false
   },
   "outputs": [],
   "source": [
    "# -----------------------\n",
    "# ALGO : XGBOOST (cf. Module+4 for tuning)\n",
    "# -----------------------\n",
    "from xgboost import XGBClassifier\n",
    "\n",
    "xgbc = XGBClassifier().fit(X_train_scaled, y_train[y_to_be_considered])\n",
    "\n",
    "show_model_accuracy('XGBClassifier - Train', xgbc, X_train_scaled, y_train[y_to_be_considered], pX_columns=None, do_roc_curve=True, do_precision_recall_curve=True, do_precision_recall_vs_treshold=True, do_features_importance=False, threshold=threshold)\n",
    "show_model_accuracy('XGBClassifier - Test', xgbc, X_test_scaled, y_test[y_to_be_considered], pX_columns=None, do_roc_curve=True, do_precision_recall_curve=True, do_precision_recall_vs_treshold=True, do_features_importance=True, threshold=threshold)"
   ]
  },
  {
   "cell_type": "code",
   "execution_count": null,
   "metadata": {
    "scrolled": false
   },
   "outputs": [],
   "source": [
    "# -----------------------\n",
    "# ALGO : XGBOOST (cf. Module+4 for tuning)\n",
    "# -----------------------\n",
    "from xgboost import XGBClassifier\n",
    "\n",
    "xgbc = XGBClassifier().fit(X_train, y_train[y_to_be_considered])\n",
    "\n",
    "show_model_accuracy('XGBClassifier - Train', xgbc, X_train, y_train[y_to_be_considered], pX_columns=None, do_roc_curve=True, do_precision_recall_curve=True, do_precision_recall_vs_treshold=True, do_features_importance=False, threshold=threshold)\n",
    "show_model_accuracy('XGBClassifier - Test', xgbc, X_test, y_test[y_to_be_considered], pX_columns=None, do_roc_curve=True, do_precision_recall_curve=True, do_precision_recall_vs_treshold=True, do_features_importance=True, threshold=threshold)"
   ]
  }
 ],
 "metadata": {
  "kernelspec": {
   "display_name": "Python 3",
   "language": "python",
   "name": "python3"
  },
  "language_info": {
   "codemirror_mode": {
    "name": "ipython",
    "version": 3
   },
   "file_extension": ".py",
   "mimetype": "text/x-python",
   "name": "python",
   "nbconvert_exporter": "python",
   "pygments_lexer": "ipython3",
   "version": "3.6.4"
  }
 },
 "nbformat": 4,
 "nbformat_minor": 2
}
