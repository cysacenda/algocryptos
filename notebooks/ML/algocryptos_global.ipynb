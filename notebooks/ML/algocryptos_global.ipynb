{
 "cells": [
  {
   "cell_type": "code",
   "execution_count": null,
   "metadata": {},
   "outputs": [],
   "source": [
    "# GOAL : What am I searching for ?\n",
    "        # => To predict with the best possible accuracy (proba) an event (+/- xx% variation of close_price)\n",
    "        # What for ?\n",
    "            # => To be able to balance my portfolio (sell what should go down for what should go up)\n",
    "            # => Sell crypto for Stable coin / Or buy crypto with Stable Coin\n",
    "########\n",
    "\n",
    "# Advices : \n",
    "    # Be careful to scaling, min / max can change in the future..."
   ]
  },
  {
   "cell_type": "code",
   "execution_count": null,
   "metadata": {},
   "outputs": [],
   "source": [
    "# DONE\n",
    "    # 1 / Industrialization : \n",
    "        # Dataset for TOP 20 cryptos + capacity to learn from top 20 and predict 1 : DONE !\n",
    "    # 2 / Gérer le fait qu'on a des datasets déséquilibrés ? : OK\n",
    "    # 3 / Gérer l'overfitting de ouf : OK\n",
    "    # 4 / Play with Treshold\n",
    "    # 4 bis / \n",
    "        # => ROC Curve, learning curve & precision / recall curve au top et bien comprendre !       \n",
    "            # => Lire tout : https://classeval.wordpress.com/introduction/introduction-to-the-roc-receiver-operating-characteristics-plot/\n",
    "        # => cf. schéma avec 2 lignes de Treshold. Le treshold ça marche comment ? Il est ou sur precision ou recall ? \n",
    "        # => Est-ce que ça a un sens ?? Bien comprendre !"
   ]
  },
  {
   "cell_type": "code",
   "execution_count": null,
   "metadata": {},
   "outputs": [],
   "source": [
    "# TODO Now :\n",
    "    # 4 bis : \n",
    "        # Trouver un moyen pour que le ranking des modèles créés par GridSearch soit estimé en fonction de :\n",
    "            # precision + pas d'overfitting (scores train / test à peu près identiques)\n",
    "    \n",
    "    # 5 / Coder la systématisation :\n",
    "        # -> Dataset original 1-20-40 cryptos\n",
    "        # -> Prédire 1 / plusieurs cryptos (plusieurs plus logique ?)\n",
    "        # -> Algo XGBoostC, RandomForestC, MLPC\n",
    "        # Différents y (increase / deacrease + due date):\n",
    "            # +3h  : (+/-) 2.5 / 5% / 7.5% / 10%\n",
    "            # +6h  : (+/-) 2.5 / 5% / 7.5% / 10%\n",
    "            # +12h : (+/-) 5% / 7.5% / 10%\n",
    "            # +1d  : (+/-) 5% / 7.5% / 10%\n",
    "            # +2d  : (+/-) 5% / 7.5% / 10%\n",
    "            # +3d  : (+/-) 5% / 10% / 15% / 20%\n",
    "            # +7d  : (+/-) 10% / 20% / 30%\n",
    "            # +15d : (+/-) 10% / 20% / 30% / 50%\n",
    "            # +30d : (+/-) 10% / 20% / 30% / 50% / 100%\n",
    "        # => Rapport exploitable (data à minima avec possibilité de voir plus de détail, graph, etc.)\n",
    "           \n",
    "    # 5 bis / Faire du gridsearch puis optimiser avec treshold\n",
    "        # Jouer un peu avec les algo et gridsearch pour bien comprendre (paramètres, fonctionnement, etc.)\n",
    "                # => Comment fonctionne l'amélioration via Precision score, etc. ? Tester + comprendre\n",
    "         # cf. schéma systematisation + prendre en compte Treshold\n",
    "                # => Evaluer selon différents Treshold : https://classeval.wordpress.com/introduction/model-wide-evaluation/\n",
    "    \n",
    "    \n",
    "    # 6 / Construire algo de strategy backtest Buy / Sell + indicateur de stratégie (prendre en compte prévisions d'augmentation et prévisions de baisse)  \n",
    "    \n",
    "    # 7 / Une fois que j'ai fait tout ça :\n",
    "        # lecture + recherche internet d'inspiration / travaux semblables (cf. livres)\n",
    "        # Feature engineering :\n",
    "            # New :\n",
    "                # Variance close price, volumes 3h, 6h, 12h, 24h, etc., more indicators on different scale\n",
    "                # Mean 24h price\n",
    "                # Mean 24h price - current price\n",
    "            # Delete useless ? Do real feature engineering with data vizualisation, correlation, etc.\n",
    "            # Impact feature engineering (correlation, suppression feature useless, etc.) cf. algocryptos_tests\n",
    "    \n",
    "    # 8 / Others :\n",
    "        # Serialize scikit learn model: http://scikit-learn.org/stable/modules/model_persistence.html\n",
    "        # Use cross validation ?\n",
    "        # Différents algo de scaling en preprocessing\n",
    "        # Mieux comprendre ce qui est fait par l'algo, ex Randomforest, afficher arbre avec seuils, etc.\n",
    "        \n",
    "    # 9 / A terme je pourrais avoir :\n",
    "        # Des modèles qui se mettent à jour automatiquement\n",
    "        # Pleins de modèles utilisés à différentes échelles pour savoir si il faut vendre ou acheter ! \n",
    "            # cf. que faire en fonction des différentes probas\n",
    "        # Show learning curve ? Precision / Recall curve Other metrics ? Jouer sur Treshold pour maximiser précision\n",
    "        # Deploy Model in AWS (serverless, cf. tuto https://medium.com/@patrickmichelberger/how-to-deploy-a-serverless-machine-learning-microservice-with-aws-lambda-aws-api-gateway-and-d5b8cbead846\n",
    "        # Use AWS for model fitting ?\n",
    "    "
   ]
  },
  {
   "cell_type": "code",
   "execution_count": null,
   "metadata": {},
   "outputs": [],
   "source": [
    "from IPython.display import Image\n",
    "#Image(filename='Schema.jpg')\n",
    "#Image(filename='Systematisation.jpg')"
   ]
  },
  {
   "cell_type": "code",
   "execution_count": 1,
   "metadata": {},
   "outputs": [
    {
     "name": "stdout",
     "output_type": "stream",
     "text": [
      "importing Jupyter notebook from algocryptos_preprocessing.ipynb\n",
      "importing Jupyter notebook from algocryptos_gridsearch.ipynb\n"
     ]
    }
   ],
   "source": [
    "from utils_csa import show_model_accuracy, save_obj, load_obj\n",
    "\n",
    "import pandas.io.sql as psql\n",
    "import pandas as pd\n",
    "import numpy as np\n",
    "\n",
    "from sqlalchemy import create_engine\n",
    "\n",
    "from matplotlib import pyplot as plt\n",
    "%matplotlib inline\n",
    "import seaborn as sns\n",
    "\n",
    "from pytz import timezone\n",
    "from datetime import datetime, timedelta, date\n",
    "\n",
    "from sklearn.model_selection import train_test_split\n",
    "from sklearn.model_selection import RandomizedSearchCV\n",
    "from sklearn.metrics import make_scorer, precision_score\n",
    "\n",
    "\n",
    "# Lib to calcul financial indicators https://github.com/mrjbq7/ta-lib\n",
    "import talib\n",
    "\n",
    "# Lib to import ipynb : https://pypi.org/project/import-ipynb/\n",
    "import import_ipynb\n",
    "import algocryptos_preprocessing as alg_preproc\n",
    "import algocryptos_gridsearch as alg_gridsearch\n",
    "\n",
    "from pprint import pprint\n",
    "\n",
    "#pd.set_option('display.max_rows', 150)\n",
    "#pd.set_option('display.max_columns', 150)\n",
    "\n",
    "#np.set_printoptions(threshold='nan')"
   ]
  },
  {
   "cell_type": "code",
   "execution_count": 2,
   "metadata": {},
   "outputs": [],
   "source": [
    "# ------------------ PARAMETERS ------------------ #\n",
    "# ['y_+3h_value', 'y_+3h_classif',, 'y_+6h_value', 'y_+6h_classif', 'y_+12h_value', 'y_+12h_classif','y_+1d_value', 'y_+1d_classif', 'y_+2d_value', 'y_+2d_classif', 'y_+3d_value', 'y_+3d_classif', 'y_+7d_value', 'y_+7d_classif', 'y_+15d_value', 'y_+15d_classif', 'y_+30d_value', 'y_+30d_classif']\n",
    "id_cryptocompare = \"7605\" # ether 7605\n",
    "predict_only_one_crypto = False\n",
    "y_to_be_considered = 'y_+1d_classif' #1d_classif\n",
    "close_price_increase_targeted = +5\n",
    "threshold = 0.5\n",
    "dict_hours_labels  = {3:'3h', 6:'6h', 12:'12h', 24:'1d', 24*2:'2d', 24*3:'3d', 24*7:'7d', 24*15:'15d', 24*30:'30d'}"
   ]
  },
  {
   "cell_type": "code",
   "execution_count": 4,
   "metadata": {
    "scrolled": false
   },
   "outputs": [
    {
     "name": "stderr",
     "output_type": "stream",
     "text": [
      "/home/cysacenda/anaconda3/lib/python3.7/site-packages/sklearn/preprocessing/data.py:323: DataConversionWarning: Data with input dtype int64, float64 were all converted to float64 by MinMaxScaler.\n",
      "  return self.partial_fit(X, y)\n"
     ]
    }
   ],
   "source": [
    "# ------------------ LOAD DATA FROM DATABASE ------------------ #\n",
    "\n",
    "# ONE CRYPTO\n",
    "#df = alg_preproc.get_global_dataset_for_crypto(\"236131\")\n",
    "#df2 = df.reset_index(drop=True)\n",
    "\n",
    "# TOP N CRYPTOS\n",
    "#dict_df = alg_preproc.get_global_datasets_for_top_n_cryptos(2)\n",
    "\n",
    "# ------------------ LOAD DATA FROM FILE ------------------ #\n",
    "#save_obj(dict_df, 'dict_df_2018_10_26')\n",
    "#dict_df = load_obj('dict_df_2018_10_26') # top 30-40 \n",
    "#dict_df = load_obj('dict_df_2018_10_31') # top 10 \n",
    "#dict_df = load_obj('dict_df_2018_11_07') # top 10 \n",
    "#dict_df = load_obj('dict_df_2018_10_31_top2') # top 2\n",
    "\n",
    "dict_df = load_obj('dict_df_2018_11_13') # top 30\n",
    "#dict_df.keys()\n",
    "X_train, X_test, y_train, y_test = alg_preproc.get_preprocessed_data(dict_df, dict_hours_labels, \n",
    "                                                                     close_price_increase_targeted, \n",
    "                                                                     predict_only_one_crypto,\n",
    "                                                                     do_scale=True, \n",
    "                                                                     do_pca=True)"
   ]
  },
  {
   "cell_type": "code",
   "execution_count": null,
   "metadata": {},
   "outputs": [],
   "source": [
    "# -----------------------\n",
    "# ALGO : RANDOM FOREST WITH RANDOMGRIDSEARCH\n",
    "# -----------------------\n",
    "\n",
    "rf_best_estimator, rf_best_params = alg_gridsearch.start_randomizedSearchCV_random_forest(X_train_scaled, \n",
    "                                                                                          y_train[y_to_be_considered])\n",
    "\n",
    "show_model_accuracy('RandomForestClassifier - Train', rf_best_estimator, X_train_scaled, y_train[y_to_be_considered], X_train_scaled.columns, do_precision_recall_curve=True, do_features_importance=True, threshold=threshold)\n",
    "show_model_accuracy('RandomForestClassifier - Test', rf_best_estimator, X_test_scaled, y_test[y_to_be_considered], X_test_scaled.columns, do_precision_recall_curve=True, do_features_importance=False, threshold=threshold)"
   ]
  },
  {
   "cell_type": "code",
   "execution_count": null,
   "metadata": {},
   "outputs": [],
   "source": [
    "# -----------------------\n",
    "# ALGO : MLPC WITH RANDOMGRIDSEARCH\n",
    "# -----------------------\n",
    "\n",
    "mlpc_best_estimator, mlpc_best_params = alg_gridsearch.start_randomizedSearchCV_mlpc(X_train_scaled, \n",
    "                                                                                     y_train[y_to_be_considered])\n",
    "\n",
    "show_model_accuracy('RandomForestClassifier - Train', mlpc_best_estimator, X_train_scaled, y_train[y_to_be_considered], X_train_scaled.columns, do_precision_recall_curve=True, do_features_importance=False, threshold=threshold)\n",
    "show_model_accuracy('RandomForestClassifier - Test', mlpc_best_estimator, X_test_scaled, y_test[y_to_be_considered], X_test_scaled.columns, do_precision_recall_curve=True, do_features_importance=False, threshold=threshold)"
   ]
  },
  {
   "cell_type": "code",
   "execution_count": 4,
   "metadata": {
    "scrolled": false
   },
   "outputs": [
    {
     "name": "stdout",
     "output_type": "stream",
     "text": [
      "Fitting 5 folds for each of 56 candidates, totalling 280 fits\n"
     ]
    },
    {
     "name": "stderr",
     "output_type": "stream",
     "text": [
      "[Parallel(n_jobs=-1)]: Using backend LokyBackend with 56 concurrent workers.\n",
      "[Parallel(n_jobs=-1)]: Done   1 tasks      | elapsed:   14.0s\n",
      "[Parallel(n_jobs=-1)]: Done   2 tasks      | elapsed:   14.3s\n",
      "[Parallel(n_jobs=-1)]: Done   3 tasks      | elapsed:   14.5s\n",
      "[Parallel(n_jobs=-1)]: Done   4 tasks      | elapsed:   14.6s\n",
      "[Parallel(n_jobs=-1)]: Done   5 tasks      | elapsed:   14.7s\n",
      "[Parallel(n_jobs=-1)]: Done   6 tasks      | elapsed:   15.3s\n",
      "[Parallel(n_jobs=-1)]: Done   7 tasks      | elapsed:   15.4s\n",
      "[Parallel(n_jobs=-1)]: Done   8 tasks      | elapsed:   15.6s\n",
      "[Parallel(n_jobs=-1)]: Done   9 tasks      | elapsed:   15.6s\n",
      "[Parallel(n_jobs=-1)]: Done  10 tasks      | elapsed:   16.1s\n",
      "[Parallel(n_jobs=-1)]: Done  11 tasks      | elapsed:   21.9s\n",
      "[Parallel(n_jobs=-1)]: Done  12 tasks      | elapsed:   22.0s\n",
      "[Parallel(n_jobs=-1)]: Done  13 tasks      | elapsed:   22.1s\n",
      "[Parallel(n_jobs=-1)]: Done  14 tasks      | elapsed:   22.5s\n",
      "[Parallel(n_jobs=-1)]: Done  15 tasks      | elapsed:   22.5s\n",
      "[Parallel(n_jobs=-1)]: Done  16 tasks      | elapsed:   27.3s\n",
      "[Parallel(n_jobs=-1)]: Done  17 tasks      | elapsed:   27.4s\n",
      "[Parallel(n_jobs=-1)]: Done  18 tasks      | elapsed:   27.5s\n",
      "[Parallel(n_jobs=-1)]: Done  19 tasks      | elapsed:   27.8s\n",
      "[Parallel(n_jobs=-1)]: Done  20 tasks      | elapsed:   27.9s\n",
      "[Parallel(n_jobs=-1)]: Done  21 tasks      | elapsed:   27.9s\n",
      "[Parallel(n_jobs=-1)]: Done  22 tasks      | elapsed:   28.0s\n",
      "[Parallel(n_jobs=-1)]: Done  23 tasks      | elapsed:   28.1s\n",
      "[Parallel(n_jobs=-1)]: Done  24 tasks      | elapsed:   28.5s\n",
      "[Parallel(n_jobs=-1)]: Done  25 tasks      | elapsed:   28.7s\n",
      "[Parallel(n_jobs=-1)]: Done  26 tasks      | elapsed:   31.0s\n",
      "[Parallel(n_jobs=-1)]: Done  27 tasks      | elapsed:   31.3s\n",
      "[Parallel(n_jobs=-1)]: Done  28 tasks      | elapsed:   31.4s\n",
      "[Parallel(n_jobs=-1)]: Done  29 tasks      | elapsed:   31.6s\n",
      "[Parallel(n_jobs=-1)]: Done  30 tasks      | elapsed:   32.1s\n",
      "[Parallel(n_jobs=-1)]: Done  31 tasks      | elapsed:   33.2s\n",
      "[Parallel(n_jobs=-1)]: Done  32 tasks      | elapsed:   33.6s\n",
      "[Parallel(n_jobs=-1)]: Done  33 tasks      | elapsed:   33.9s\n",
      "[Parallel(n_jobs=-1)]: Done  34 tasks      | elapsed:   34.0s\n",
      "[Parallel(n_jobs=-1)]: Done  35 tasks      | elapsed:   34.4s\n",
      "[Parallel(n_jobs=-1)]: Done  36 tasks      | elapsed:   35.5s\n",
      "[Parallel(n_jobs=-1)]: Done  37 tasks      | elapsed:   35.9s\n",
      "[Parallel(n_jobs=-1)]: Done  38 tasks      | elapsed:   36.6s\n",
      "[Parallel(n_jobs=-1)]: Done  39 tasks      | elapsed:   37.0s\n",
      "[Parallel(n_jobs=-1)]: Done  40 tasks      | elapsed:   37.2s\n",
      "[Parallel(n_jobs=-1)]: Done  41 tasks      | elapsed:   37.2s\n",
      "[Parallel(n_jobs=-1)]: Done  42 tasks      | elapsed:   37.3s\n",
      "[Parallel(n_jobs=-1)]: Done  43 tasks      | elapsed:   38.8s\n",
      "[Parallel(n_jobs=-1)]: Done  44 tasks      | elapsed:   39.1s\n",
      "[Parallel(n_jobs=-1)]: Done  45 tasks      | elapsed:   39.6s\n",
      "[Parallel(n_jobs=-1)]: Done  46 tasks      | elapsed:   39.6s\n",
      "[Parallel(n_jobs=-1)]: Done  47 tasks      | elapsed:   40.1s\n",
      "[Parallel(n_jobs=-1)]: Done  48 tasks      | elapsed:   41.7s\n",
      "[Parallel(n_jobs=-1)]: Done  49 tasks      | elapsed:   42.1s\n",
      "[Parallel(n_jobs=-1)]: Done  50 tasks      | elapsed:   42.1s\n",
      "[Parallel(n_jobs=-1)]: Done  51 tasks      | elapsed:   42.9s\n",
      "[Parallel(n_jobs=-1)]: Done  52 tasks      | elapsed:   44.6s\n",
      "[Parallel(n_jobs=-1)]: Done  53 tasks      | elapsed:   44.7s\n",
      "[Parallel(n_jobs=-1)]: Done  54 tasks      | elapsed:   45.3s\n",
      "[Parallel(n_jobs=-1)]: Done  55 tasks      | elapsed:   45.3s\n",
      "[Parallel(n_jobs=-1)]: Done  56 tasks      | elapsed:   46.3s\n",
      "[Parallel(n_jobs=-1)]: Done  57 tasks      | elapsed:   47.3s\n",
      "[Parallel(n_jobs=-1)]: Done  58 tasks      | elapsed:   47.6s\n",
      "[Parallel(n_jobs=-1)]: Done  59 tasks      | elapsed:   48.0s\n",
      "[Parallel(n_jobs=-1)]: Done  60 tasks      | elapsed:   48.2s\n",
      "[Parallel(n_jobs=-1)]: Done  61 tasks      | elapsed:   48.3s\n",
      "[Parallel(n_jobs=-1)]: Done  62 tasks      | elapsed:   48.3s\n",
      "[Parallel(n_jobs=-1)]: Done  63 tasks      | elapsed:   48.4s\n",
      "[Parallel(n_jobs=-1)]: Done  64 tasks      | elapsed:   49.0s\n",
      "[Parallel(n_jobs=-1)]: Done  65 tasks      | elapsed:   49.5s\n",
      "[Parallel(n_jobs=-1)]: Done  66 tasks      | elapsed:   49.6s\n",
      "[Parallel(n_jobs=-1)]: Done  67 tasks      | elapsed:   50.6s\n",
      "[Parallel(n_jobs=-1)]: Done  68 tasks      | elapsed:   50.9s\n",
      "[Parallel(n_jobs=-1)]: Done  69 tasks      | elapsed:   51.3s\n",
      "[Parallel(n_jobs=-1)]: Done  70 tasks      | elapsed:   52.0s\n",
      "[Parallel(n_jobs=-1)]: Done  71 tasks      | elapsed:   52.4s\n",
      "[Parallel(n_jobs=-1)]: Done  72 tasks      | elapsed:   53.2s\n",
      "[Parallel(n_jobs=-1)]: Done  73 tasks      | elapsed:   53.3s\n",
      "[Parallel(n_jobs=-1)]: Done  74 tasks      | elapsed:   53.5s\n",
      "[Parallel(n_jobs=-1)]: Done  75 tasks      | elapsed:   53.7s\n",
      "[Parallel(n_jobs=-1)]: Done  76 tasks      | elapsed:   53.8s\n",
      "[Parallel(n_jobs=-1)]: Done  77 tasks      | elapsed:   53.8s\n",
      "[Parallel(n_jobs=-1)]: Done  78 tasks      | elapsed:   53.9s\n",
      "[Parallel(n_jobs=-1)]: Done  79 tasks      | elapsed:   54.2s\n",
      "[Parallel(n_jobs=-1)]: Done  80 tasks      | elapsed:   54.4s\n",
      "[Parallel(n_jobs=-1)]: Done  81 tasks      | elapsed:   54.5s\n",
      "[Parallel(n_jobs=-1)]: Done  82 tasks      | elapsed:   54.5s\n",
      "[Parallel(n_jobs=-1)]: Done  83 tasks      | elapsed:   54.6s\n",
      "[Parallel(n_jobs=-1)]: Done  84 tasks      | elapsed:   55.7s\n",
      "[Parallel(n_jobs=-1)]: Done  85 tasks      | elapsed:   56.2s\n",
      "[Parallel(n_jobs=-1)]: Done  86 tasks      | elapsed:   57.3s\n",
      "[Parallel(n_jobs=-1)]: Done  87 tasks      | elapsed:   57.7s\n",
      "[Parallel(n_jobs=-1)]: Done  88 tasks      | elapsed:   58.4s\n",
      "[Parallel(n_jobs=-1)]: Done  89 tasks      | elapsed:   59.2s\n",
      "[Parallel(n_jobs=-1)]: Done  90 tasks      | elapsed:   59.3s\n",
      "[Parallel(n_jobs=-1)]: Done  91 tasks      | elapsed:   59.6s\n",
      "[Parallel(n_jobs=-1)]: Done  92 tasks      | elapsed:  1.0min\n",
      "[Parallel(n_jobs=-1)]: Done  93 tasks      | elapsed:  1.0min\n",
      "[Parallel(n_jobs=-1)]: Done  94 tasks      | elapsed:  1.0min\n",
      "[Parallel(n_jobs=-1)]: Done  95 tasks      | elapsed:  1.1min\n",
      "[Parallel(n_jobs=-1)]: Done  96 tasks      | elapsed:  1.2min\n",
      "[Parallel(n_jobs=-1)]: Done  97 tasks      | elapsed:  1.2min\n",
      "[Parallel(n_jobs=-1)]: Done  98 tasks      | elapsed:  1.2min\n",
      "[Parallel(n_jobs=-1)]: Done  99 tasks      | elapsed:  1.2min\n",
      "[Parallel(n_jobs=-1)]: Done 100 tasks      | elapsed:  1.3min\n",
      "[Parallel(n_jobs=-1)]: Done 101 tasks      | elapsed:  1.3min\n",
      "[Parallel(n_jobs=-1)]: Done 102 tasks      | elapsed:  1.3min\n",
      "[Parallel(n_jobs=-1)]: Done 103 tasks      | elapsed:  1.3min\n",
      "[Parallel(n_jobs=-1)]: Done 104 tasks      | elapsed:  1.3min\n",
      "[Parallel(n_jobs=-1)]: Done 105 tasks      | elapsed:  1.3min\n",
      "[Parallel(n_jobs=-1)]: Done 106 tasks      | elapsed:  1.3min\n",
      "[Parallel(n_jobs=-1)]: Done 107 tasks      | elapsed:  1.3min\n",
      "[Parallel(n_jobs=-1)]: Done 108 tasks      | elapsed:  1.3min\n",
      "[Parallel(n_jobs=-1)]: Done 109 tasks      | elapsed:  1.3min\n",
      "[Parallel(n_jobs=-1)]: Done 110 tasks      | elapsed:  1.3min\n",
      "[Parallel(n_jobs=-1)]: Done 111 tasks      | elapsed:  1.3min\n",
      "[Parallel(n_jobs=-1)]: Done 112 tasks      | elapsed:  1.3min\n",
      "[Parallel(n_jobs=-1)]: Done 113 tasks      | elapsed:  1.3min\n",
      "[Parallel(n_jobs=-1)]: Done 114 tasks      | elapsed:  1.4min\n",
      "[Parallel(n_jobs=-1)]: Done 115 tasks      | elapsed:  1.4min\n",
      "[Parallel(n_jobs=-1)]: Done 116 tasks      | elapsed:  1.4min\n",
      "[Parallel(n_jobs=-1)]: Done 117 tasks      | elapsed:  1.4min\n",
      "[Parallel(n_jobs=-1)]: Done 118 tasks      | elapsed:  1.4min\n",
      "[Parallel(n_jobs=-1)]: Done 119 tasks      | elapsed:  1.4min\n",
      "[Parallel(n_jobs=-1)]: Done 120 tasks      | elapsed:  1.4min\n",
      "[Parallel(n_jobs=-1)]: Done 121 tasks      | elapsed:  1.4min\n",
      "[Parallel(n_jobs=-1)]: Done 122 tasks      | elapsed:  1.4min\n",
      "[Parallel(n_jobs=-1)]: Done 123 tasks      | elapsed:  1.4min\n",
      "[Parallel(n_jobs=-1)]: Done 124 tasks      | elapsed:  1.4min\n",
      "[Parallel(n_jobs=-1)]: Done 125 tasks      | elapsed:  1.4min\n",
      "[Parallel(n_jobs=-1)]: Done 126 tasks      | elapsed:  1.4min\n",
      "[Parallel(n_jobs=-1)]: Done 127 tasks      | elapsed:  1.5min\n",
      "[Parallel(n_jobs=-1)]: Done 128 tasks      | elapsed:  1.5min\n",
      "[Parallel(n_jobs=-1)]: Done 129 tasks      | elapsed:  1.5min\n",
      "[Parallel(n_jobs=-1)]: Done 130 tasks      | elapsed:  1.5min\n",
      "[Parallel(n_jobs=-1)]: Done 131 tasks      | elapsed:  1.5min\n"
     ]
    },
    {
     "name": "stderr",
     "output_type": "stream",
     "text": [
      "[Parallel(n_jobs=-1)]: Done 132 tasks      | elapsed:  1.5min\n",
      "[Parallel(n_jobs=-1)]: Done 133 tasks      | elapsed:  1.5min\n",
      "[Parallel(n_jobs=-1)]: Done 134 tasks      | elapsed:  1.5min\n",
      "[Parallel(n_jobs=-1)]: Done 135 tasks      | elapsed:  1.5min\n",
      "[Parallel(n_jobs=-1)]: Done 136 tasks      | elapsed:  1.5min\n",
      "[Parallel(n_jobs=-1)]: Done 137 tasks      | elapsed:  1.5min\n",
      "[Parallel(n_jobs=-1)]: Done 138 tasks      | elapsed:  1.6min\n",
      "[Parallel(n_jobs=-1)]: Done 139 tasks      | elapsed:  1.6min\n",
      "[Parallel(n_jobs=-1)]: Done 140 tasks      | elapsed:  1.6min\n",
      "[Parallel(n_jobs=-1)]: Done 141 tasks      | elapsed:  1.6min\n",
      "[Parallel(n_jobs=-1)]: Done 142 tasks      | elapsed:  1.6min\n",
      "[Parallel(n_jobs=-1)]: Done 143 tasks      | elapsed:  1.6min\n",
      "[Parallel(n_jobs=-1)]: Done 144 tasks      | elapsed:  1.6min\n",
      "[Parallel(n_jobs=-1)]: Done 145 tasks      | elapsed:  1.6min\n",
      "[Parallel(n_jobs=-1)]: Done 146 tasks      | elapsed:  1.6min\n",
      "[Parallel(n_jobs=-1)]: Done 147 tasks      | elapsed:  1.6min\n",
      "[Parallel(n_jobs=-1)]: Done 148 tasks      | elapsed:  1.6min\n",
      "[Parallel(n_jobs=-1)]: Done 149 tasks      | elapsed:  1.6min\n",
      "[Parallel(n_jobs=-1)]: Done 150 tasks      | elapsed:  1.6min\n",
      "[Parallel(n_jobs=-1)]: Done 151 tasks      | elapsed:  1.8min\n",
      "[Parallel(n_jobs=-1)]: Done 152 tasks      | elapsed:  1.8min\n",
      "[Parallel(n_jobs=-1)]: Done 153 tasks      | elapsed:  1.8min\n",
      "[Parallel(n_jobs=-1)]: Done 154 tasks      | elapsed:  1.8min\n",
      "[Parallel(n_jobs=-1)]: Done 155 tasks      | elapsed:  1.8min\n",
      "[Parallel(n_jobs=-1)]: Done 156 tasks      | elapsed:  1.8min\n",
      "[Parallel(n_jobs=-1)]: Done 157 tasks      | elapsed:  1.8min\n",
      "[Parallel(n_jobs=-1)]: Done 158 tasks      | elapsed:  1.8min\n",
      "[Parallel(n_jobs=-1)]: Done 159 tasks      | elapsed:  1.8min\n",
      "[Parallel(n_jobs=-1)]: Done 160 tasks      | elapsed:  1.9min\n",
      "[Parallel(n_jobs=-1)]: Done 161 tasks      | elapsed:  1.9min\n",
      "[Parallel(n_jobs=-1)]: Done 162 tasks      | elapsed:  1.9min\n",
      "[Parallel(n_jobs=-1)]: Done 163 tasks      | elapsed:  1.9min\n",
      "[Parallel(n_jobs=-1)]: Done 164 tasks      | elapsed:  1.9min\n",
      "[Parallel(n_jobs=-1)]: Done 165 tasks      | elapsed:  1.9min\n",
      "[Parallel(n_jobs=-1)]: Done 166 tasks      | elapsed:  1.9min\n",
      "[Parallel(n_jobs=-1)]: Done 167 tasks      | elapsed:  1.9min\n",
      "[Parallel(n_jobs=-1)]: Done 168 tasks      | elapsed:  2.0min\n",
      "[Parallel(n_jobs=-1)]: Done 169 tasks      | elapsed:  2.0min\n",
      "[Parallel(n_jobs=-1)]: Done 184 out of 280 | elapsed:  2.2min remaining:  1.2min\n",
      "[Parallel(n_jobs=-1)]: Done 199 out of 280 | elapsed:  2.3min remaining:   57.2s\n",
      "[Parallel(n_jobs=-1)]: Done 214 out of 280 | elapsed:  2.5min remaining:   46.8s\n",
      "[Parallel(n_jobs=-1)]: Done 229 out of 280 | elapsed:  2.7min remaining:   35.7s\n",
      "[Parallel(n_jobs=-1)]: Done 244 out of 280 | elapsed:  2.8min remaining:   24.9s\n",
      "[Parallel(n_jobs=-1)]: Done 259 out of 280 | elapsed:  3.1min remaining:   14.9s\n",
      "[Parallel(n_jobs=-1)]: Done 274 out of 280 | elapsed:  3.4min remaining:    4.4s\n",
      "[Parallel(n_jobs=-1)]: Done 280 out of 280 | elapsed:  4.1min finished\n"
     ]
    },
    {
     "ename": "NameError",
     "evalue": "name 'X_train_scaled' is not defined",
     "output_type": "error",
     "traceback": [
      "\u001b[0;31m---------------------------------------------------------------------------\u001b[0m",
      "\u001b[0;31mNameError\u001b[0m                                 Traceback (most recent call last)",
      "\u001b[0;32m<ipython-input-4-2ab836f1c2ec>\u001b[0m in \u001b[0;36m<module>\u001b[0;34m\u001b[0m\n\u001b[1;32m      6\u001b[0m                                                                                            y_train[y_to_be_considered])\n\u001b[1;32m      7\u001b[0m \u001b[0;34m\u001b[0m\u001b[0m\n\u001b[0;32m----> 8\u001b[0;31m \u001b[0mshow_model_accuracy\u001b[0m\u001b[0;34m(\u001b[0m\u001b[0;34m'GradientBoostingClassifier - Train'\u001b[0m\u001b[0;34m,\u001b[0m \u001b[0mxgboost_best_estimator\u001b[0m\u001b[0;34m,\u001b[0m \u001b[0mX_train_scaled\u001b[0m\u001b[0;34m,\u001b[0m \u001b[0my_train\u001b[0m\u001b[0;34m[\u001b[0m\u001b[0my_to_be_considered\u001b[0m\u001b[0;34m]\u001b[0m\u001b[0;34m,\u001b[0m \u001b[0mX_train_scaled\u001b[0m\u001b[0;34m.\u001b[0m\u001b[0mcolumns\u001b[0m\u001b[0;34m,\u001b[0m \u001b[0mdo_precision_recall_curve\u001b[0m\u001b[0;34m=\u001b[0m\u001b[0;32mTrue\u001b[0m\u001b[0;34m,\u001b[0m \u001b[0mdo_features_importance\u001b[0m\u001b[0;34m=\u001b[0m\u001b[0;32mFalse\u001b[0m\u001b[0;34m,\u001b[0m \u001b[0mthreshold\u001b[0m\u001b[0;34m=\u001b[0m\u001b[0mthreshold\u001b[0m\u001b[0;34m)\u001b[0m\u001b[0;34m\u001b[0m\u001b[0m\n\u001b[0m\u001b[1;32m      9\u001b[0m \u001b[0mshow_model_accuracy\u001b[0m\u001b[0;34m(\u001b[0m\u001b[0;34m'GradientBoostingClassifier - Test'\u001b[0m\u001b[0;34m,\u001b[0m \u001b[0mxgboost_best_estimator\u001b[0m\u001b[0;34m,\u001b[0m \u001b[0mX_test_scaled\u001b[0m\u001b[0;34m,\u001b[0m \u001b[0my_test\u001b[0m\u001b[0;34m[\u001b[0m\u001b[0my_to_be_considered\u001b[0m\u001b[0;34m]\u001b[0m\u001b[0;34m,\u001b[0m \u001b[0mX_test_scaled\u001b[0m\u001b[0;34m.\u001b[0m\u001b[0mcolumns\u001b[0m\u001b[0;34m,\u001b[0m \u001b[0mdo_precision_recall_curve\u001b[0m\u001b[0;34m=\u001b[0m\u001b[0;32mTrue\u001b[0m\u001b[0;34m,\u001b[0m \u001b[0mdo_features_importance\u001b[0m\u001b[0;34m=\u001b[0m\u001b[0;32mFalse\u001b[0m\u001b[0;34m,\u001b[0m \u001b[0mthreshold\u001b[0m\u001b[0;34m=\u001b[0m\u001b[0mthreshold\u001b[0m\u001b[0;34m)\u001b[0m\u001b[0;34m\u001b[0m\u001b[0m\n",
      "\u001b[0;31mNameError\u001b[0m: name 'X_train_scaled' is not defined"
     ]
    }
   ],
   "source": [
    "# -----------------------\n",
    "# ALGO : XGBoost WITH RANDOMGRIDSEARCH\n",
    "# -----------------------\n",
    "\n",
    "xgboost_best_estimator, xgboost_best_params = alg_gridsearch.start_randomizedSearchCV_xgboost(X_train, \n",
    "                                                                                           y_train[y_to_be_considered])\n",
    "\n",
    "show_model_accuracy('GradientBoostingClassifier - Train', xgboost_best_estimator, X_train, y_train[y_to_be_considered], None, do_precision_recall_curve=True, do_features_importance=False, threshold=threshold)\n",
    "show_model_accuracy('GradientBoostingClassifier - Test', xgboost_best_estimator, X_test, y_test[y_to_be_considered], None, do_precision_recall_curve=True, do_features_importance=False, threshold=threshold)"
   ]
  },
  {
   "cell_type": "code",
   "execution_count": 9,
   "metadata": {
    "scrolled": false
   },
   "outputs": [
    {
     "name": "stderr",
     "output_type": "stream",
     "text": [
      "/home/cysacenda/anaconda3/lib/python3.7/site-packages/sklearn/ensemble/forest.py:248: FutureWarning: The default value of n_estimators will change from 10 in version 0.20 to 100 in 0.22.\n",
      "  \"10 in version 0.20 to 100 in 0.22.\", FutureWarning)\n"
     ]
    },
    {
     "name": "stdout",
     "output_type": "stream",
     "text": [
      "----------------------------------------------------------\n",
      "Results for algorithm : RandomForestClassifier - Train\n",
      "----------------------------------------------------------\n",
      "\n",
      "Confusion Matrix :\n",
      " [[92028 27491]\n",
      " [ 7304 24644]]\n",
      "[[TN, FP]\n",
      "[FN, TP]]\n",
      "Accuracy: 0.77\n",
      "\n",
      "\n",
      "Other Metrics :\n",
      "\n",
      "              precision    recall  f1-score   support\n",
      "\n",
      "       False       0.93      0.77      0.84    119519\n",
      "        True       0.47      0.77      0.59     31948\n",
      "\n",
      "   micro avg       0.77      0.77      0.77    151467\n",
      "   macro avg       0.70      0.77      0.71    151467\n",
      "weighted avg       0.83      0.77      0.79    151467\n",
      "\n",
      "----------------------------------------------------------\n",
      "\n",
      "f1=0.586 auc=0.609 ap=0.609\n"
     ]
    },
    {
     "data": {
      "image/png": "[encoded data removed]",
      "text/plain": [
       "<Figure size 432x288 with 1 Axes>"
      ]
     },
     "metadata": {
      "needs_background": "light"
     },
     "output_type": "display_data"
    },
    {
     "data": {
      "image/png": "[encoded data removed]",
      "text/plain": [
       "<Figure size 432x288 with 1 Axes>"
      ]
     },
     "metadata": {
      "needs_background": "light"
     },
     "output_type": "display_data"
    },
    {
     "name": "stdout",
     "output_type": "stream",
     "text": [
      "----------------------------------------------------------\n",
      "Results for algorithm : RandomForestClassifier - Test\n",
      "----------------------------------------------------------\n",
      "\n",
      "Confusion Matrix :\n",
      " [[39180  4926]\n",
      " [ 4188  2196]]\n",
      "[[TN, FP]\n",
      "[FN, TP]]\n",
      "Accuracy: 0.82\n",
      "\n",
      "\n",
      "Other Metrics :\n",
      "\n",
      "              precision    recall  f1-score   support\n",
      "\n",
      "       False       0.90      0.89      0.90     44106\n",
      "        True       0.31      0.34      0.33      6384\n",
      "\n",
      "   micro avg       0.82      0.82      0.82     50490\n",
      "   macro avg       0.61      0.62      0.61     50490\n",
      "weighted avg       0.83      0.82      0.82     50490\n",
      "\n",
      "----------------------------------------------------------\n",
      "\n",
      "f1=0.325 auc=0.252 ap=0.253\n"
     ]
    },
    {
     "data": {
      "image/png": "[encoded data removed]",
      "text/plain": [
       "<Figure size 432x288 with 1 Axes>"
      ]
     },
     "metadata": {
      "needs_background": "light"
     },
     "output_type": "display_data"
    },
    {
     "name": "stdout",
     "output_type": "stream",
     "text": [
      "array([0.12816254, 0.13171708, 0.13171708, ..., 0.76945181, 0.76945181,\n",
      "       0.76945181])\n",
      "{'bootstrap': True,\n",
      " 'class_weight': 'balanced',\n",
      " 'criterion': 'gini',\n",
      " 'max_depth': 5,\n",
      " 'max_features': 'auto',\n",
      " 'max_leaf_nodes': None,\n",
      " 'min_impurity_decrease': 0.0,\n",
      " 'min_impurity_split': None,\n",
      " 'min_samples_leaf': 1,\n",
      " 'min_samples_split': 2,\n",
      " 'min_weight_fraction_leaf': 0.0,\n",
      " 'n_estimators': 10,\n",
      " 'n_jobs': None,\n",
      " 'oob_score': False,\n",
      " 'random_state': 0,\n",
      " 'verbose': 0,\n",
      " 'warm_start': False}\n"
     ]
    }
   ],
   "source": [
    "# -----------------------\n",
    "# ALGO : RANDOM FOREST\n",
    "# -----------------------\n",
    "\n",
    "from sklearn.ensemble import RandomForestClassifier\n",
    "#, n_estimators=100, max_features='auto', max_depth=5, criterion='entropy', class_weight=\"balanced\"\n",
    "clf = RandomForestClassifier(random_state=0, class_weight=\"balanced\", max_depth=5).fit(X_train, y_train[y_to_be_considered])\n",
    "\n",
    "show_model_accuracy('RandomForestClassifier - Train', clf, X_train, y_train[y_to_be_considered], None, do_precision_recall_curve=True, do_features_importance=True, threshold=threshold)\n",
    "show_model_accuracy('RandomForestClassifier - Test', clf, X_test, y_test[y_to_be_considered], None, do_precision_recall_curve=True, do_features_importance=False, threshold=threshold)\n",
    "\n",
    "# proba : to be shown by prediction, bien comprendre !\n",
    "probas = clf.predict_proba(X_test)[:,1]\n",
    "pprint(np.sort(probas))\n",
    "pprint(clf.get_params())\n",
    "\n",
    "# clf.decision_path(X_test)"
   ]
  },
  {
   "cell_type": "code",
   "execution_count": null,
   "metadata": {},
   "outputs": [],
   "source": [
    "# -----------------------\n",
    "# ALGO : MLPClassifier - Neural Network (cf. Module+4 for tuning)\n",
    "# -----------------------\n",
    "from sklearn.neural_network import MLPClassifier\n",
    "\n",
    "nnclf = MLPClassifier(hidden_layer_sizes = [130, 130], solver='lbfgs',\n",
    "                     random_state = 0).fit(X_train_scaled, y_train[y_to_be_considered])\n",
    "\n",
    "show_model_accuracy('MLPClassifier - Neural Network - Train', nnclf, X_train_scaled, y_train[y_to_be_considered], X_train_scaled.columns, do_roc_curve=True, do_features_importance=False, threshold=threshold)\n",
    "show_model_accuracy('MLPClassifier - Neural Network - Test', nnclf, X_test_scaled, y_test[y_to_be_considered], X_test_scaled.columns, do_roc_curve=True, do_features_importance=False, threshold=threshold)\n",
    "\n",
    "# proba : to be shown by prediction, bien comprendre !\n",
    "#print(pd.DataFrame(nnclf.predict_proba(X_test_scaled)[:,1]))"
   ]
  },
  {
   "cell_type": "code",
   "execution_count": null,
   "metadata": {
    "scrolled": false
   },
   "outputs": [],
   "source": [
    "# -----------------------\n",
    "# ALGO : XGBOOST (cf. Module+4 for tuning)\n",
    "# -----------------------\n",
    "from xgboost import XGBClassifier\n",
    "\n",
    "xgbc = XGBClassifier().fit(X_train_scaled, y_train[y_to_be_considered])\n",
    "\n",
    "show_model_accuracy('XGBClassifier - Train', xgbc, X_train_scaled, y_train[y_to_be_considered], pX_columns=None, do_roc_curve=True, do_precision_recall_curve=True, do_precision_recall_vs_treshold=True, do_features_importance=False, threshold=threshold)\n",
    "show_model_accuracy('XGBClassifier - Test', xgbc, X_test_scaled, y_test[y_to_be_considered], pX_columns=None, do_roc_curve=True, do_precision_recall_curve=True, do_precision_recall_vs_treshold=True, do_features_importance=True, threshold=threshold)"
   ]
  },
  {
   "cell_type": "code",
   "execution_count": null,
   "metadata": {
    "scrolled": false
   },
   "outputs": [],
   "source": [
    "# -----------------------\n",
    "# ALGO : XGBOOST (cf. Module+4 for tuning)\n",
    "# -----------------------\n",
    "from xgboost import XGBClassifier\n",
    "\n",
    "xgbc = XGBClassifier().fit(X_train, y_train[y_to_be_considered])\n",
    "\n",
    "show_model_accuracy('XGBClassifier - Train', xgbc, X_train, y_train[y_to_be_considered], pX_columns=None, do_roc_curve=True, do_precision_recall_curve=True, do_precision_recall_vs_treshold=True, do_features_importance=False, threshold=threshold)\n",
    "show_model_accuracy('XGBClassifier - Test', xgbc, X_test, y_test[y_to_be_considered], pX_columns=None, do_roc_curve=True, do_precision_recall_curve=True, do_precision_recall_vs_treshold=True, do_features_importance=True, threshold=threshold)"
   ]
  }
 ],
 "metadata": {
  "kernelspec": {
   "display_name": "Python 3",
   "language": "python",
   "name": "python3"
  },
  "language_info": {
   "codemirror_mode": {
    "name": "ipython",
    "version": 3
   },
   "file_extension": ".py",
   "mimetype": "text/x-python",
   "name": "python",
   "nbconvert_exporter": "python",
   "pygments_lexer": "ipython3",
   "version": "3.7.0"
  }
 },
 "nbformat": 4,
 "nbformat_minor": 2
}
