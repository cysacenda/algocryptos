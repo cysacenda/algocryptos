{
 "cells": [
  {
   "cell_type": "markdown",
   "metadata": {},
   "source": [
    "---\n",
    "\n",
    "_You are currently looking at **version 1.0** of this notebook. To download notebooks and datafiles, as well as get help on Jupyter notebooks in the Coursera platform, visit the [Jupyter Notebook FAQ](https://www.coursera.org/learn/python-machine-learning/resources/bANLa) course resource._\n",
    "\n",
    "---"
   ]
  },
  {
   "cell_type": "markdown",
   "metadata": {
    "collapsed": true
   },
   "source": [
    "# Applied Machine Learning: Module 3 (Evaluation)"
   ]
  },
  {
   "cell_type": "markdown",
   "metadata": {},
   "source": [
    "## Evaluation for Classification"
   ]
  },
  {
   "cell_type": "markdown",
   "metadata": {},
   "source": [
    "### Preamble"
   ]
  },
  {
   "cell_type": "code",
   "execution_count": 1,
   "metadata": {},
   "outputs": [
    {
     "name": "stdout",
     "output_type": "stream",
     "text": [
      "0 178\n",
      "1 182\n",
      "2 177\n",
      "3 183\n",
      "4 181\n",
      "5 182\n",
      "6 181\n",
      "7 179\n",
      "8 174\n",
      "9 180\n"
     ]
    }
   ],
   "source": [
    "%matplotlib notebook\n",
    "import numpy as np\n",
    "import pandas as pd\n",
    "import seaborn as sns\n",
    "import matplotlib.pyplot as plt\n",
    "from sklearn.model_selection import train_test_split\n",
    "from sklearn.datasets import load_digits\n",
    "\n",
    "dataset = load_digits()\n",
    "X, y = dataset.data, dataset.target\n",
    "\n",
    "for class_name, class_count in zip(dataset.target_names, np.bincount(dataset.target)):\n",
    "    print(class_name,class_count)"
   ]
  },
  {
   "cell_type": "code",
   "execution_count": 2,
   "metadata": {},
   "outputs": [
    {
     "name": "stdout",
     "output_type": "stream",
     "text": [
      "Original labels:\t [1 2 3 4 5 6 7 8 9 0 1 2 3 4 5 6 7 8 9 0 1 2 3 4 5 6 7 8 9]\n",
      "New binary labels:\t [1 0 0 0 0 0 0 0 0 0 1 0 0 0 0 0 0 0 0 0 1 0 0 0 0 0 0 0 0]\n"
     ]
    }
   ],
   "source": [
    "# Creating a dataset with imbalanced binary classes:  \n",
    "# Negative class (0) is 'not digit 1' \n",
    "# Positive class (1) is 'digit 1'\n",
    "y_binary_imbalanced = y.copy()\n",
    "y_binary_imbalanced[y_binary_imbalanced != 1] = 0\n",
    "\n",
    "print('Original labels:\\t', y[1:30])\n",
    "print('New binary labels:\\t', y_binary_imbalanced[1:30])"
   ]
  },
  {
   "cell_type": "code",
   "execution_count": 3,
   "metadata": {
    "scrolled": true
   },
   "outputs": [
    {
     "data": {
      "text/plain": [
       "array([1615,  182])"
      ]
     },
     "execution_count": 3,
     "metadata": {},
     "output_type": "execute_result"
    }
   ],
   "source": [
    "np.bincount(y_binary_imbalanced)    # Negative class (0) is the most frequent class"
   ]
  },
  {
   "cell_type": "code",
   "execution_count": 4,
   "metadata": {},
   "outputs": [
    {
     "data": {
      "text/plain": [
       "0.90888888888888886"
      ]
     },
     "execution_count": 4,
     "metadata": {},
     "output_type": "execute_result"
    }
   ],
   "source": [
    "X_train, X_test, y_train, y_test = train_test_split(X, y_binary_imbalanced, random_state=0)\n",
    "\n",
    "# Accuracy of Support Vector Machine classifier\n",
    "from sklearn.svm import SVC\n",
    "\n",
    "svm = SVC(kernel='rbf', C=1).fit(X_train, y_train)\n",
    "svm.score(X_test, y_test)"
   ]
  },
  {
   "cell_type": "markdown",
   "metadata": {},
   "source": [
    "### Dummy Classifiers"
   ]
  },
  {
   "cell_type": "markdown",
   "metadata": {
    "collapsed": true
   },
   "source": [
    "DummyClassifier is a classifier that makes predictions using simple rules, which can be useful as a baseline for comparison against actual classifiers, especially with imbalanced classes."
   ]
  },
  {
   "cell_type": "code",
   "execution_count": 5,
   "metadata": {},
   "outputs": [
    {
     "data": {
      "text/plain": [
       "array([0, 0, 0, 0, 0, 0, 0, 0, 0, 0, 0, 0, 0, 0, 0, 0, 0, 0, 0, 0, 0, 0, 0,\n",
       "       0, 0, 0, 0, 0, 0, 0, 0, 0, 0, 0, 0, 0, 0, 0, 0, 0, 0, 0, 0, 0, 0, 0,\n",
       "       0, 0, 0, 0, 0, 0, 0, 0, 0, 0, 0, 0, 0, 0, 0, 0, 0, 0, 0, 0, 0, 0, 0,\n",
       "       0, 0, 0, 0, 0, 0, 0, 0, 0, 0, 0, 0, 0, 0, 0, 0, 0, 0, 0, 0, 0, 0, 0,\n",
       "       0, 0, 0, 0, 0, 0, 0, 0, 0, 0, 0, 0, 0, 0, 0, 0, 0, 0, 0, 0, 0, 0, 0,\n",
       "       0, 0, 0, 0, 0, 0, 0, 0, 0, 0, 0, 0, 0, 0, 0, 0, 0, 0, 0, 0, 0, 0, 0,\n",
       "       0, 0, 0, 0, 0, 0, 0, 0, 0, 0, 0, 0, 0, 0, 0, 0, 0, 0, 0, 0, 0, 0, 0,\n",
       "       0, 0, 0, 0, 0, 0, 0, 0, 0, 0, 0, 0, 0, 0, 0, 0, 0, 0, 0, 0, 0, 0, 0,\n",
       "       0, 0, 0, 0, 0, 0, 0, 0, 0, 0, 0, 0, 0, 0, 0, 0, 0, 0, 0, 0, 0, 0, 0,\n",
       "       0, 0, 0, 0, 0, 0, 0, 0, 0, 0, 0, 0, 0, 0, 0, 0, 0, 0, 0, 0, 0, 0, 0,\n",
       "       0, 0, 0, 0, 0, 0, 0, 0, 0, 0, 0, 0, 0, 0, 0, 0, 0, 0, 0, 0, 0, 0, 0,\n",
       "       0, 0, 0, 0, 0, 0, 0, 0, 0, 0, 0, 0, 0, 0, 0, 0, 0, 0, 0, 0, 0, 0, 0,\n",
       "       0, 0, 0, 0, 0, 0, 0, 0, 0, 0, 0, 0, 0, 0, 0, 0, 0, 0, 0, 0, 0, 0, 0,\n",
       "       0, 0, 0, 0, 0, 0, 0, 0, 0, 0, 0, 0, 0, 0, 0, 0, 0, 0, 0, 0, 0, 0, 0,\n",
       "       0, 0, 0, 0, 0, 0, 0, 0, 0, 0, 0, 0, 0, 0, 0, 0, 0, 0, 0, 0, 0, 0, 0,\n",
       "       0, 0, 0, 0, 0, 0, 0, 0, 0, 0, 0, 0, 0, 0, 0, 0, 0, 0, 0, 0, 0, 0, 0,\n",
       "       0, 0, 0, 0, 0, 0, 0, 0, 0, 0, 0, 0, 0, 0, 0, 0, 0, 0, 0, 0, 0, 0, 0,\n",
       "       0, 0, 0, 0, 0, 0, 0, 0, 0, 0, 0, 0, 0, 0, 0, 0, 0, 0, 0, 0, 0, 0, 0,\n",
       "       0, 0, 0, 0, 0, 0, 0, 0, 0, 0, 0, 0, 0, 0, 0, 0, 0, 0, 0, 0, 0, 0, 0,\n",
       "       0, 0, 0, 0, 0, 0, 0, 0, 0, 0, 0, 0, 0])"
      ]
     },
     "execution_count": 5,
     "metadata": {},
     "output_type": "execute_result"
    }
   ],
   "source": [
    "from sklearn.dummy import DummyClassifier\n",
    "\n",
    "# Negative class (0) is most frequent\n",
    "dummy_majority = DummyClassifier(strategy = 'most_frequent').fit(X_train, y_train)\n",
    "# Therefore the dummy 'most_frequent' classifier always predicts class 0\n",
    "y_dummy_predictions = dummy_majority.predict(X_test)\n",
    "\n",
    "y_dummy_predictions"
   ]
  },
  {
   "cell_type": "code",
   "execution_count": 6,
   "metadata": {},
   "outputs": [
    {
     "data": {
      "text/plain": [
       "0.9044444444444445"
      ]
     },
     "execution_count": 6,
     "metadata": {},
     "output_type": "execute_result"
    }
   ],
   "source": [
    "dummy_majority.score(X_test, y_test)"
   ]
  },
  {
   "cell_type": "code",
   "execution_count": 7,
   "metadata": {},
   "outputs": [
    {
     "data": {
      "text/plain": [
       "0.97777777777777775"
      ]
     },
     "execution_count": 7,
     "metadata": {},
     "output_type": "execute_result"
    }
   ],
   "source": [
    "svm = SVC(kernel='linear', C=1).fit(X_train, y_train)\n",
    "svm.score(X_test, y_test)"
   ]
  },
  {
   "cell_type": "markdown",
   "metadata": {},
   "source": [
    "### Confusion matrices"
   ]
  },
  {
   "cell_type": "markdown",
   "metadata": {},
   "source": [
    "#### Binary (two-class) confusion matrix"
   ]
  },
  {
   "cell_type": "code",
   "execution_count": 8,
   "metadata": {},
   "outputs": [
    {
     "name": "stdout",
     "output_type": "stream",
     "text": [
      "Most frequent class (dummy classifier)\n",
      " [[407   0]\n",
      " [ 43   0]]\n"
     ]
    }
   ],
   "source": [
    "from sklearn.metrics import confusion_matrix\n",
    "\n",
    "# Negative class (0) is most frequent\n",
    "dummy_majority = DummyClassifier(strategy = 'most_frequent').fit(X_train, y_train)\n",
    "y_majority_predicted = dummy_majority.predict(X_test)\n",
    "confusion = confusion_matrix(y_test, y_majority_predicted)\n",
    "\n",
    "print('Most frequent class (dummy classifier)\\n', confusion)"
   ]
  },
  {
   "cell_type": "code",
   "execution_count": 10,
   "metadata": {},
   "outputs": [
    {
     "name": "stdout",
     "output_type": "stream",
     "text": [
      "Random class-proportional prediction (dummy classifier)\n",
      " [[369  38]\n",
      " [ 36   7]]\n"
     ]
    }
   ],
   "source": [
    "# produces random predictions w/ same class proportion as training set\n",
    "dummy_classprop = DummyClassifier(strategy='stratified').fit(X_train, y_train)\n",
    "y_classprop_predicted = dummy_classprop.predict(X_test)\n",
    "confusion = confusion_matrix(y_test, y_classprop_predicted)\n",
    "\n",
    "print('Random class-proportional prediction (dummy classifier)\\n', confusion)"
   ]
  },
  {
   "cell_type": "code",
   "execution_count": 11,
   "metadata": {
    "scrolled": true
   },
   "outputs": [
    {
     "name": "stdout",
     "output_type": "stream",
     "text": [
      "Support vector machine classifier (linear kernel, C=1)\n",
      " [[402   5]\n",
      " [  5  38]]\n"
     ]
    }
   ],
   "source": [
    "svm = SVC(kernel='linear', C=1).fit(X_train, y_train)\n",
    "svm_predicted = svm.predict(X_test)\n",
    "confusion = confusion_matrix(y_test, svm_predicted)\n",
    "\n",
    "print('Support vector machine classifier (linear kernel, C=1)\\n', confusion)"
   ]
  },
  {
   "cell_type": "code",
   "execution_count": 12,
   "metadata": {},
   "outputs": [
    {
     "name": "stdout",
     "output_type": "stream",
     "text": [
      "Logistic regression classifier (default settings)\n",
      " [[401   6]\n",
      " [  6  37]]\n"
     ]
    }
   ],
   "source": [
    "from sklearn.linear_model import LogisticRegression\n",
    "\n",
    "lr = LogisticRegression().fit(X_train, y_train)\n",
    "lr_predicted = lr.predict(X_test)\n",
    "confusion = confusion_matrix(y_test, lr_predicted)\n",
    "\n",
    "print('Logistic regression classifier (default settings)\\n', confusion)"
   ]
  },
  {
   "cell_type": "code",
   "execution_count": 13,
   "metadata": {},
   "outputs": [
    {
     "name": "stdout",
     "output_type": "stream",
     "text": [
      "Decision tree classifier (max_depth = 2)\n",
      " [[400   7]\n",
      " [ 17  26]]\n"
     ]
    }
   ],
   "source": [
    "from sklearn.tree import DecisionTreeClassifier\n",
    "\n",
    "dt = DecisionTreeClassifier(max_depth=2).fit(X_train, y_train)\n",
    "tree_predicted = dt.predict(X_test)\n",
    "confusion = confusion_matrix(y_test, tree_predicted)\n",
    "\n",
    "print('Decision tree classifier (max_depth = 2)\\n', confusion)"
   ]
  },
  {
   "cell_type": "markdown",
   "metadata": {},
   "source": [
    "### Evaluation metrics for binary classification"
   ]
  },
  {
   "cell_type": "code",
   "execution_count": 14,
   "metadata": {},
   "outputs": [
    {
     "name": "stdout",
     "output_type": "stream",
     "text": [
      "Accuracy: 0.95\n",
      "Precision: 0.79\n",
      "Recall: 0.60\n",
      "F1: 0.68\n"
     ]
    }
   ],
   "source": [
    "from sklearn.metrics import accuracy_score, precision_score, recall_score, f1_score\n",
    "# Accuracy = TP + TN / (TP + TN + FP + FN)\n",
    "# Precision = TP / (TP + FP)\n",
    "# Recall = TP / (TP + FN)  Also known as sensitivity, or True Positive Rate\n",
    "# F1 = 2 * Precision * Recall / (Precision + Recall) \n",
    "print('Accuracy: {:.2f}'.format(accuracy_score(y_test, tree_predicted)))\n",
    "print('Precision: {:.2f}'.format(precision_score(y_test, tree_predicted)))\n",
    "print('Recall: {:.2f}'.format(recall_score(y_test, tree_predicted)))\n",
    "print('F1: {:.2f}'.format(f1_score(y_test, tree_predicted)))"
   ]
  },
  {
   "cell_type": "code",
   "execution_count": 20,
   "metadata": {},
   "outputs": [
    {
     "name": "stdout",
     "output_type": "stream",
     "text": [
      "             precision    recall  f1-score   support\n",
      "\n",
      "      not 1       0.96      0.98      0.97       407\n",
      "          1       0.79      0.60      0.68        43\n",
      "\n",
      "avg / total       0.94      0.95      0.94       450\n",
      "\n"
     ]
    }
   ],
   "source": [
    "# Combined report with all above metrics\n",
    "from sklearn.metrics import classification_report\n",
    "\n",
    "print(classification_report(y_test, tree_predicted, target_names=['not 1', '1']))"
   ]
  },
  {
   "cell_type": "code",
   "execution_count": 21,
   "metadata": {
    "scrolled": false
   },
   "outputs": [
    {
     "name": "stdout",
     "output_type": "stream",
     "text": [
      "Random class-proportional (dummy)\n",
      "              precision    recall  f1-score   support\n",
      "\n",
      "      not 1       0.90      0.89      0.90       407\n",
      "          1       0.07      0.07      0.07        43\n",
      "\n",
      "avg / total       0.82      0.82      0.82       450\n",
      "\n",
      "SVM\n",
      "              precision    recall  f1-score   support\n",
      "\n",
      "      not 1       0.99      0.99      0.99       407\n",
      "          1       0.88      0.88      0.88        43\n",
      "\n",
      "avg / total       0.98      0.98      0.98       450\n",
      "\n",
      "Logistic regression\n",
      "              precision    recall  f1-score   support\n",
      "\n",
      "      not 1       0.99      0.99      0.99       407\n",
      "          1       0.86      0.86      0.86        43\n",
      "\n",
      "avg / total       0.97      0.97      0.97       450\n",
      "\n",
      "Decision tree\n",
      "              precision    recall  f1-score   support\n",
      "\n",
      "      not 1       0.96      0.98      0.97       407\n",
      "          1       0.79      0.60      0.68        43\n",
      "\n",
      "avg / total       0.94      0.95      0.94       450\n",
      "\n"
     ]
    }
   ],
   "source": [
    "print('Random class-proportional (dummy)\\n', \n",
    "      classification_report(y_test, y_classprop_predicted, target_names=['not 1', '1']))\n",
    "print('SVM\\n', \n",
    "      classification_report(y_test, svm_predicted, target_names = ['not 1', '1']))\n",
    "print('Logistic regression\\n', \n",
    "      classification_report(y_test, lr_predicted, target_names = ['not 1', '1']))\n",
    "print('Decision tree\\n', \n",
    "      classification_report(y_test, tree_predicted, target_names = ['not 1', '1']))"
   ]
  },
  {
   "cell_type": "markdown",
   "metadata": {},
   "source": [
    "### Decision functions"
   ]
  },
  {
   "cell_type": "code",
   "execution_count": 22,
   "metadata": {},
   "outputs": [
    {
     "data": {
      "text/plain": [
       "[(0, -23.172292973469549),\n",
       " (0, -13.542576515500066),\n",
       " (0, -21.717588760007864),\n",
       " (0, -18.903065133316442),\n",
       " (0, -19.733169947138638),\n",
       " (0, -9.7463217496747667),\n",
       " (1, 5.2327155658831117),\n",
       " (0, -19.308012306288916),\n",
       " (0, -25.099330209728528),\n",
       " (0, -21.824312362996),\n",
       " (0, -24.143782750720494),\n",
       " (0, -19.578811099762504),\n",
       " (0, -22.568371393280199),\n",
       " (0, -10.822590225240777),\n",
       " (0, -11.907918741521936),\n",
       " (0, -10.977026853802803),\n",
       " (1, 11.206811164226373),\n",
       " (0, -27.644157619807473),\n",
       " (0, -12.857692102545419),\n",
       " (0, -25.848149140240199)]"
      ]
     },
     "execution_count": 22,
     "metadata": {},
     "output_type": "execute_result"
    }
   ],
   "source": [
    "X_train, X_test, y_train, y_test = train_test_split(X, y_binary_imbalanced, random_state=0)\n",
    "y_scores_lr = lr.fit(X_train, y_train).decision_function(X_test)\n",
    "y_score_list = list(zip(y_test[0:20], y_scores_lr[0:20]))\n",
    "\n",
    "# show the decision_function scores for first 20 instances\n",
    "y_score_list"
   ]
  },
  {
   "cell_type": "code",
   "execution_count": 23,
   "metadata": {},
   "outputs": [
    {
     "data": {
      "text/plain": [
       "[(0, 8.6377579220606466e-11),\n",
       " (0, 1.3138118599563736e-06),\n",
       " (0, 3.6997386039099659e-10),\n",
       " (0, 6.1730972504865241e-09),\n",
       " (0, 2.6914925394345074e-09),\n",
       " (0, 5.8506057771143608e-05),\n",
       " (1, 0.99468934644404694),\n",
       " (0, 4.1175302368500096e-09),\n",
       " (0, 1.2574750894253029e-11),\n",
       " (0, 3.3252290754668869e-10),\n",
       " (0, 3.269552979937297e-11),\n",
       " (0, 3.1407283576084996e-09),\n",
       " (0, 1.5800864117150149e-10),\n",
       " (0, 1.9943442430612578e-05),\n",
       " (0, 6.7368003023859777e-06),\n",
       " (0, 1.7089540581641637e-05),\n",
       " (1, 0.9999864188091131),\n",
       " (0, 9.8694940340196163e-13),\n",
       " (0, 2.6059983600823614e-06),\n",
       " (0, 5.9469113009063784e-12)]"
      ]
     },
     "execution_count": 23,
     "metadata": {},
     "output_type": "execute_result"
    }
   ],
   "source": [
    "X_train, X_test, y_train, y_test = train_test_split(X, y_binary_imbalanced, random_state=0)\n",
    "y_proba_lr = lr.fit(X_train, y_train).predict_proba(X_test)\n",
    "y_proba_list = list(zip(y_test[0:20], y_proba_lr[0:20,1]))\n",
    "\n",
    "# show the probability of positive class for first 20 instances\n",
    "y_proba_list"
   ]
  },
  {
   "cell_type": "markdown",
   "metadata": {},
   "source": [
    "### Precision-recall curves"
   ]
  },
  {
   "cell_type": "code",
   "execution_count": 24,
   "metadata": {},
   "outputs": [
    {
     "data": {
      "application/javascript": [
       "/* Put everything inside the global mpl namespace */\n",
       "window.mpl = {};\n",
       "\n",
       "\n",
       "mpl.get_websocket_type = function() {\n",
       "    if (typeof(WebSocket) !== 'undefined') {\n",
       "        return WebSocket;\n",
       "    } else if (typeof(MozWebSocket) !== 'undefined') {\n",
       "        return MozWebSocket;\n",
       "    } else {\n",
       "        alert('Your browser does not have WebSocket support.' +\n",
       "              'Please try Chrome, Safari or Firefox ≥ 6. ' +\n",
       "              'Firefox 4 and 5 are also supported but you ' +\n",
       "              'have to enable WebSockets in about:config.');\n",
       "    };\n",
       "}\n",
       "\n",
       "mpl.figure = function(figure_id, websocket, ondownload, parent_element) {\n",
       "    this.id = figure_id;\n",
       "\n",
       "    this.ws = websocket;\n",
       "\n",
       "    this.supports_binary = (this.ws.binaryType != undefined);\n",
       "\n",
       "    if (!this.supports_binary) {\n",
       "        var warnings = document.getElementById(\"mpl-warnings\");\n",
       "        if (warnings) {\n",
       "            warnings.style.display = 'block';\n",
       "            warnings.textContent = (\n",
       "                \"This browser does not support binary websocket messages. \" +\n",
       "                    \"Performance may be slow.\");\n",
       "        }\n",
       "    }\n",
       "\n",
       "    this.imageObj = new Image();\n",
       "\n",
       "    this.context = undefined;\n",
       "    this.message = undefined;\n",
       "    this.canvas = undefined;\n",
       "    this.rubberband_canvas = undefined;\n",
       "    this.rubberband_context = undefined;\n",
       "    this.format_dropdown = undefined;\n",
       "\n",
       "    this.image_mode = 'full';\n",
       "\n",
       "    this.root = $('<div/>');\n",
       "    this._root_extra_style(this.root)\n",
       "    this.root.attr('style', 'display: inline-block');\n",
       "\n",
       "    $(parent_element).append(this.root);\n",
       "\n",
       "    this._init_header(this);\n",
       "    this._init_canvas(this);\n",
       "    this._init_toolbar(this);\n",
       "\n",
       "    var fig = this;\n",
       "\n",
       "    this.waiting = false;\n",
       "\n",
       "    this.ws.onopen =  function () {\n",
       "            fig.send_message(\"supports_binary\", {value: fig.supports_binary});\n",
       "            fig.send_message(\"send_image_mode\", {});\n",
       "            if (mpl.ratio != 1) {\n",
       "                fig.send_message(\"set_dpi_ratio\", {'dpi_ratio': mpl.ratio});\n",
       "            }\n",
       "            fig.send_message(\"refresh\", {});\n",
       "        }\n",
       "\n",
       "    this.imageObj.onload = function() {\n",
       "            if (fig.image_mode == 'full') {\n",
       "                // Full images could contain transparency (where diff images\n",
       "                // almost always do), so we need to clear the canvas so that\n",
       "                // there is no ghosting.\n",
       "                fig.context.clearRect(0, 0, fig.canvas.width, fig.canvas.height);\n",
       "            }\n",
       "            fig.context.drawImage(fig.imageObj, 0, 0);\n",
       "        };\n",
       "\n",
       "    this.imageObj.onunload = function() {\n",
       "        this.ws.close();\n",
       "    }\n",
       "\n",
       "    this.ws.onmessage = this._make_on_message_function(this);\n",
       "\n",
       "    this.ondownload = ondownload;\n",
       "}\n",
       "\n",
       "mpl.figure.prototype._init_header = function() {\n",
       "    var titlebar = $(\n",
       "        '<div class=\"ui-dialog-titlebar ui-widget-header ui-corner-all ' +\n",
       "        'ui-helper-clearfix\"/>');\n",
       "    var titletext = $(\n",
       "        '<div class=\"ui-dialog-title\" style=\"width: 100%; ' +\n",
       "        'text-align: center; padding: 3px;\"/>');\n",
       "    titlebar.append(titletext)\n",
       "    this.root.append(titlebar);\n",
       "    this.header = titletext[0];\n",
       "}\n",
       "\n",
       "\n",
       "\n",
       "mpl.figure.prototype._canvas_extra_style = function(canvas_div) {\n",
       "\n",
       "}\n",
       "\n",
       "\n",
       "mpl.figure.prototype._root_extra_style = function(canvas_div) {\n",
       "\n",
       "}\n",
       "\n",
       "mpl.figure.prototype._init_canvas = function() {\n",
       "    var fig = this;\n",
       "\n",
       "    var canvas_div = $('<div/>');\n",
       "\n",
       "    canvas_div.attr('style', 'position: relative; clear: both; outline: 0');\n",
       "\n",
       "    function canvas_keyboard_event(event) {\n",
       "        return fig.key_event(event, event['data']);\n",
       "    }\n",
       "\n",
       "    canvas_div.keydown('key_press', canvas_keyboard_event);\n",
       "    canvas_div.keyup('key_release', canvas_keyboard_event);\n",
       "    this.canvas_div = canvas_div\n",
       "    this._canvas_extra_style(canvas_div)\n",
       "    this.root.append(canvas_div);\n",
       "\n",
       "    var canvas = $('<canvas/>');\n",
       "    canvas.addClass('mpl-canvas');\n",
       "    canvas.attr('style', \"left: 0; top: 0; z-index: 0; outline: 0\")\n",
       "\n",
       "    this.canvas = canvas[0];\n",
       "    this.context = canvas[0].getContext(\"2d\");\n",
       "\n",
       "    var backingStore = this.context.backingStorePixelRatio ||\n",
       "\tthis.context.webkitBackingStorePixelRatio ||\n",
       "\tthis.context.mozBackingStorePixelRatio ||\n",
       "\tthis.context.msBackingStorePixelRatio ||\n",
       "\tthis.context.oBackingStorePixelRatio ||\n",
       "\tthis.context.backingStorePixelRatio || 1;\n",
       "\n",
       "    mpl.ratio = (window.devicePixelRatio || 1) / backingStore;\n",
       "\n",
       "    var rubberband = $('<canvas/>');\n",
       "    rubberband.attr('style', \"position: absolute; left: 0; top: 0; z-index: 1;\")\n",
       "\n",
       "    var pass_mouse_events = true;\n",
       "\n",
       "    canvas_div.resizable({\n",
       "        start: function(event, ui) {\n",
       "            pass_mouse_events = false;\n",
       "        },\n",
       "        resize: function(event, ui) {\n",
       "            fig.request_resize(ui.size.width, ui.size.height);\n",
       "        },\n",
       "        stop: function(event, ui) {\n",
       "            pass_mouse_events = true;\n",
       "            fig.request_resize(ui.size.width, ui.size.height);\n",
       "        },\n",
       "    });\n",
       "\n",
       "    function mouse_event_fn(event) {\n",
       "        if (pass_mouse_events)\n",
       "            return fig.mouse_event(event, event['data']);\n",
       "    }\n",
       "\n",
       "    rubberband.mousedown('button_press', mouse_event_fn);\n",
       "    rubberband.mouseup('button_release', mouse_event_fn);\n",
       "    // Throttle sequential mouse events to 1 every 20ms.\n",
       "    rubberband.mousemove('motion_notify', mouse_event_fn);\n",
       "\n",
       "    rubberband.mouseenter('figure_enter', mouse_event_fn);\n",
       "    rubberband.mouseleave('figure_leave', mouse_event_fn);\n",
       "\n",
       "    canvas_div.on(\"wheel\", function (event) {\n",
       "        event = event.originalEvent;\n",
       "        event['data'] = 'scroll'\n",
       "        if (event.deltaY < 0) {\n",
       "            event.step = 1;\n",
       "        } else {\n",
       "            event.step = -1;\n",
       "        }\n",
       "        mouse_event_fn(event);\n",
       "    });\n",
       "\n",
       "    canvas_div.append(canvas);\n",
       "    canvas_div.append(rubberband);\n",
       "\n",
       "    this.rubberband = rubberband;\n",
       "    this.rubberband_canvas = rubberband[0];\n",
       "    this.rubberband_context = rubberband[0].getContext(\"2d\");\n",
       "    this.rubberband_context.strokeStyle = \"#000000\";\n",
       "\n",
       "    this._resize_canvas = function(width, height) {\n",
       "        // Keep the size of the canvas, canvas container, and rubber band\n",
       "        // canvas in synch.\n",
       "        canvas_div.css('width', width)\n",
       "        canvas_div.css('height', height)\n",
       "\n",
       "        canvas.attr('width', width * mpl.ratio);\n",
       "        canvas.attr('height', height * mpl.ratio);\n",
       "        canvas.attr('style', 'width: ' + width + 'px; height: ' + height + 'px;');\n",
       "\n",
       "        rubberband.attr('width', width);\n",
       "        rubberband.attr('height', height);\n",
       "    }\n",
       "\n",
       "    // Set the figure to an initial 600x600px, this will subsequently be updated\n",
       "    // upon first draw.\n",
       "    this._resize_canvas(600, 600);\n",
       "\n",
       "    // Disable right mouse context menu.\n",
       "    $(this.rubberband_canvas).bind(\"contextmenu\",function(e){\n",
       "        return false;\n",
       "    });\n",
       "\n",
       "    function set_focus () {\n",
       "        canvas.focus();\n",
       "        canvas_div.focus();\n",
       "    }\n",
       "\n",
       "    window.setTimeout(set_focus, 100);\n",
       "}\n",
       "\n",
       "mpl.figure.prototype._init_toolbar = function() {\n",
       "    var fig = this;\n",
       "\n",
       "    var nav_element = $('<div/>')\n",
       "    nav_element.attr('style', 'width: 100%');\n",
       "    this.root.append(nav_element);\n",
       "\n",
       "    // Define a callback function for later on.\n",
       "    function toolbar_event(event) {\n",
       "        return fig.toolbar_button_onclick(event['data']);\n",
       "    }\n",
       "    function toolbar_mouse_event(event) {\n",
       "        return fig.toolbar_button_onmouseover(event['data']);\n",
       "    }\n",
       "\n",
       "    for(var toolbar_ind in mpl.toolbar_items) {\n",
       "        var name = mpl.toolbar_items[toolbar_ind][0];\n",
       "        var tooltip = mpl.toolbar_items[toolbar_ind][1];\n",
       "        var image = mpl.toolbar_items[toolbar_ind][2];\n",
       "        var method_name = mpl.toolbar_items[toolbar_ind][3];\n",
       "\n",
       "        if (!name) {\n",
       "            // put a spacer in here.\n",
       "            continue;\n",
       "        }\n",
       "        var button = $('<button/>');\n",
       "        button.addClass('ui-button ui-widget ui-state-default ui-corner-all ' +\n",
       "                        'ui-button-icon-only');\n",
       "        button.attr('role', 'button');\n",
       "        button.attr('aria-disabled', 'false');\n",
       "        button.click(method_name, toolbar_event);\n",
       "        button.mouseover(tooltip, toolbar_mouse_event);\n",
       "\n",
       "        var icon_img = $('<span/>');\n",
       "        icon_img.addClass('ui-button-icon-primary ui-icon');\n",
       "        icon_img.addClass(image);\n",
       "        icon_img.addClass('ui-corner-all');\n",
       "\n",
       "        var tooltip_span = $('<span/>');\n",
       "        tooltip_span.addClass('ui-button-text');\n",
       "        tooltip_span.html(tooltip);\n",
       "\n",
       "        button.append(icon_img);\n",
       "        button.append(tooltip_span);\n",
       "\n",
       "        nav_element.append(button);\n",
       "    }\n",
       "\n",
       "    var fmt_picker_span = $('<span/>');\n",
       "\n",
       "    var fmt_picker = $('<select/>');\n",
       "    fmt_picker.addClass('mpl-toolbar-option ui-widget ui-widget-content');\n",
       "    fmt_picker_span.append(fmt_picker);\n",
       "    nav_element.append(fmt_picker_span);\n",
       "    this.format_dropdown = fmt_picker[0];\n",
       "\n",
       "    for (var ind in mpl.extensions) {\n",
       "        var fmt = mpl.extensions[ind];\n",
       "        var option = $(\n",
       "            '<option/>', {selected: fmt === mpl.default_extension}).html(fmt);\n",
       "        fmt_picker.append(option)\n",
       "    }\n",
       "\n",
       "    // Add hover states to the ui-buttons\n",
       "    $( \".ui-button\" ).hover(\n",
       "        function() { $(this).addClass(\"ui-state-hover\");},\n",
       "        function() { $(this).removeClass(\"ui-state-hover\");}\n",
       "    );\n",
       "\n",
       "    var status_bar = $('<span class=\"mpl-message\"/>');\n",
       "    nav_element.append(status_bar);\n",
       "    this.message = status_bar[0];\n",
       "}\n",
       "\n",
       "mpl.figure.prototype.request_resize = function(x_pixels, y_pixels) {\n",
       "    // Request matplotlib to resize the figure. Matplotlib will then trigger a resize in the client,\n",
       "    // which will in turn request a refresh of the image.\n",
       "    this.send_message('resize', {'width': x_pixels, 'height': y_pixels});\n",
       "}\n",
       "\n",
       "mpl.figure.prototype.send_message = function(type, properties) {\n",
       "    properties['type'] = type;\n",
       "    properties['figure_id'] = this.id;\n",
       "    this.ws.send(JSON.stringify(properties));\n",
       "}\n",
       "\n",
       "mpl.figure.prototype.send_draw_message = function() {\n",
       "    if (!this.waiting) {\n",
       "        this.waiting = true;\n",
       "        this.ws.send(JSON.stringify({type: \"draw\", figure_id: this.id}));\n",
       "    }\n",
       "}\n",
       "\n",
       "\n",
       "mpl.figure.prototype.handle_save = function(fig, msg) {\n",
       "    var format_dropdown = fig.format_dropdown;\n",
       "    var format = format_dropdown.options[format_dropdown.selectedIndex].value;\n",
       "    fig.ondownload(fig, format);\n",
       "}\n",
       "\n",
       "\n",
       "mpl.figure.prototype.handle_resize = function(fig, msg) {\n",
       "    var size = msg['size'];\n",
       "    if (size[0] != fig.canvas.width || size[1] != fig.canvas.height) {\n",
       "        fig._resize_canvas(size[0], size[1]);\n",
       "        fig.send_message(\"refresh\", {});\n",
       "    };\n",
       "}\n",
       "\n",
       "mpl.figure.prototype.handle_rubberband = function(fig, msg) {\n",
       "    var x0 = msg['x0'] / mpl.ratio;\n",
       "    var y0 = (fig.canvas.height - msg['y0']) / mpl.ratio;\n",
       "    var x1 = msg['x1'] / mpl.ratio;\n",
       "    var y1 = (fig.canvas.height - msg['y1']) / mpl.ratio;\n",
       "    x0 = Math.floor(x0) + 0.5;\n",
       "    y0 = Math.floor(y0) + 0.5;\n",
       "    x1 = Math.floor(x1) + 0.5;\n",
       "    y1 = Math.floor(y1) + 0.5;\n",
       "    var min_x = Math.min(x0, x1);\n",
       "    var min_y = Math.min(y0, y1);\n",
       "    var width = Math.abs(x1 - x0);\n",
       "    var height = Math.abs(y1 - y0);\n",
       "\n",
       "    fig.rubberband_context.clearRect(\n",
       "        0, 0, fig.canvas.width, fig.canvas.height);\n",
       "\n",
       "    fig.rubberband_context.strokeRect(min_x, min_y, width, height);\n",
       "}\n",
       "\n",
       "mpl.figure.prototype.handle_figure_label = function(fig, msg) {\n",
       "    // Updates the figure title.\n",
       "    fig.header.textContent = msg['label'];\n",
       "}\n",
       "\n",
       "mpl.figure.prototype.handle_cursor = function(fig, msg) {\n",
       "    var cursor = msg['cursor'];\n",
       "    switch(cursor)\n",
       "    {\n",
       "    case 0:\n",
       "        cursor = 'pointer';\n",
       "        break;\n",
       "    case 1:\n",
       "        cursor = 'default';\n",
       "        break;\n",
       "    case 2:\n",
       "        cursor = 'crosshair';\n",
       "        break;\n",
       "    case 3:\n",
       "        cursor = 'move';\n",
       "        break;\n",
       "    }\n",
       "    fig.rubberband_canvas.style.cursor = cursor;\n",
       "}\n",
       "\n",
       "mpl.figure.prototype.handle_message = function(fig, msg) {\n",
       "    fig.message.textContent = msg['message'];\n",
       "}\n",
       "\n",
       "mpl.figure.prototype.handle_draw = function(fig, msg) {\n",
       "    // Request the server to send over a new figure.\n",
       "    fig.send_draw_message();\n",
       "}\n",
       "\n",
       "mpl.figure.prototype.handle_image_mode = function(fig, msg) {\n",
       "    fig.image_mode = msg['mode'];\n",
       "}\n",
       "\n",
       "mpl.figure.prototype.updated_canvas_event = function() {\n",
       "    // Called whenever the canvas gets updated.\n",
       "    this.send_message(\"ack\", {});\n",
       "}\n",
       "\n",
       "// A function to construct a web socket function for onmessage handling.\n",
       "// Called in the figure constructor.\n",
       "mpl.figure.prototype._make_on_message_function = function(fig) {\n",
       "    return function socket_on_message(evt) {\n",
       "        if (evt.data instanceof Blob) {\n",
       "            /* FIXME: We get \"Resource interpreted as Image but\n",
       "             * transferred with MIME type text/plain:\" errors on\n",
       "             * Chrome.  But how to set the MIME type?  It doesn't seem\n",
       "             * to be part of the websocket stream */\n",
       "            evt.data.type = \"image/png\";\n",
       "\n",
       "            /* Free the memory for the previous frames */\n",
       "            if (fig.imageObj.src) {\n",
       "                (window.URL || window.webkitURL).revokeObjectURL(\n",
       "                    fig.imageObj.src);\n",
       "            }\n",
       "\n",
       "            fig.imageObj.src = (window.URL || window.webkitURL).createObjectURL(\n",
       "                evt.data);\n",
       "            fig.updated_canvas_event();\n",
       "            fig.waiting = false;\n",
       "            return;\n",
       "        }\n",
       "        else if (typeof evt.data === 'string' && evt.data.slice(0, 21) == \"data:image/png;base64\") {\n",
       "            fig.imageObj.src = evt.data;\n",
       "            fig.updated_canvas_event();\n",
       "            fig.waiting = false;\n",
       "            return;\n",
       "        }\n",
       "\n",
       "        var msg = JSON.parse(evt.data);\n",
       "        var msg_type = msg['type'];\n",
       "\n",
       "        // Call the  \"handle_{type}\" callback, which takes\n",
       "        // the figure and JSON message as its only arguments.\n",
       "        try {\n",
       "            var callback = fig[\"handle_\" + msg_type];\n",
       "        } catch (e) {\n",
       "            console.log(\"No handler for the '\" + msg_type + \"' message type: \", msg);\n",
       "            return;\n",
       "        }\n",
       "\n",
       "        if (callback) {\n",
       "            try {\n",
       "                // console.log(\"Handling '\" + msg_type + \"' message: \", msg);\n",
       "                callback(fig, msg);\n",
       "            } catch (e) {\n",
       "                console.log(\"Exception inside the 'handler_\" + msg_type + \"' callback:\", e, e.stack, msg);\n",
       "            }\n",
       "        }\n",
       "    };\n",
       "}\n",
       "\n",
       "// from http://stackoverflow.com/questions/1114465/getting-mouse-location-in-canvas\n",
       "mpl.findpos = function(e) {\n",
       "    //this section is from http://www.quirksmode.org/js/events_properties.html\n",
       "    var targ;\n",
       "    if (!e)\n",
       "        e = window.event;\n",
       "    if (e.target)\n",
       "        targ = e.target;\n",
       "    else if (e.srcElement)\n",
       "        targ = e.srcElement;\n",
       "    if (targ.nodeType == 3) // defeat Safari bug\n",
       "        targ = targ.parentNode;\n",
       "\n",
       "    // jQuery normalizes the pageX and pageY\n",
       "    // pageX,Y are the mouse positions relative to the document\n",
       "    // offset() returns the position of the element relative to the document\n",
       "    var x = e.pageX - $(targ).offset().left;\n",
       "    var y = e.pageY - $(targ).offset().top;\n",
       "\n",
       "    return {\"x\": x, \"y\": y};\n",
       "};\n",
       "\n",
       "/*\n",
       " * return a copy of an object with only non-object keys\n",
       " * we need this to avoid circular references\n",
       " * http://stackoverflow.com/a/24161582/3208463\n",
       " */\n",
       "function simpleKeys (original) {\n",
       "  return Object.keys(original).reduce(function (obj, key) {\n",
       "    if (typeof original[key] !== 'object')\n",
       "        obj[key] = original[key]\n",
       "    return obj;\n",
       "  }, {});\n",
       "}\n",
       "\n",
       "mpl.figure.prototype.mouse_event = function(event, name) {\n",
       "    var canvas_pos = mpl.findpos(event)\n",
       "\n",
       "    if (name === 'button_press')\n",
       "    {\n",
       "        this.canvas.focus();\n",
       "        this.canvas_div.focus();\n",
       "    }\n",
       "\n",
       "    var x = canvas_pos.x * mpl.ratio;\n",
       "    var y = canvas_pos.y * mpl.ratio;\n",
       "\n",
       "    this.send_message(name, {x: x, y: y, button: event.button,\n",
       "                             step: event.step,\n",
       "                             guiEvent: simpleKeys(event)});\n",
       "\n",
       "    /* This prevents the web browser from automatically changing to\n",
       "     * the text insertion cursor when the button is pressed.  We want\n",
       "     * to control all of the cursor setting manually through the\n",
       "     * 'cursor' event from matplotlib */\n",
       "    event.preventDefault();\n",
       "    return false;\n",
       "}\n",
       "\n",
       "mpl.figure.prototype._key_event_extra = function(event, name) {\n",
       "    // Handle any extra behaviour associated with a key event\n",
       "}\n",
       "\n",
       "mpl.figure.prototype.key_event = function(event, name) {\n",
       "\n",
       "    // Prevent repeat events\n",
       "    if (name == 'key_press')\n",
       "    {\n",
       "        if (event.which === this._key)\n",
       "            return;\n",
       "        else\n",
       "            this._key = event.which;\n",
       "    }\n",
       "    if (name == 'key_release')\n",
       "        this._key = null;\n",
       "\n",
       "    var value = '';\n",
       "    if (event.ctrlKey && event.which != 17)\n",
       "        value += \"ctrl+\";\n",
       "    if (event.altKey && event.which != 18)\n",
       "        value += \"alt+\";\n",
       "    if (event.shiftKey && event.which != 16)\n",
       "        value += \"shift+\";\n",
       "\n",
       "    value += 'k';\n",
       "    value += event.which.toString();\n",
       "\n",
       "    this._key_event_extra(event, name);\n",
       "\n",
       "    this.send_message(name, {key: value,\n",
       "                             guiEvent: simpleKeys(event)});\n",
       "    return false;\n",
       "}\n",
       "\n",
       "mpl.figure.prototype.toolbar_button_onclick = function(name) {\n",
       "    if (name == 'download') {\n",
       "        this.handle_save(this, null);\n",
       "    } else {\n",
       "        this.send_message(\"toolbar_button\", {name: name});\n",
       "    }\n",
       "};\n",
       "\n",
       "mpl.figure.prototype.toolbar_button_onmouseover = function(tooltip) {\n",
       "    this.message.textContent = tooltip;\n",
       "};\n",
       "mpl.toolbar_items = [[\"Home\", \"Reset original view\", \"fa fa-home icon-home\", \"home\"], [\"Back\", \"Back to  previous view\", \"fa fa-arrow-left icon-arrow-left\", \"back\"], [\"Forward\", \"Forward to next view\", \"fa fa-arrow-right icon-arrow-right\", \"forward\"], [\"\", \"\", \"\", \"\"], [\"Pan\", \"Pan axes with left mouse, zoom with right\", \"fa fa-arrows icon-move\", \"pan\"], [\"Zoom\", \"Zoom to rectangle\", \"fa fa-square-o icon-check-empty\", \"zoom\"], [\"\", \"\", \"\", \"\"], [\"Download\", \"Download plot\", \"fa fa-floppy-o icon-save\", \"download\"]];\n",
       "\n",
       "mpl.extensions = [\"eps\", \"jpeg\", \"pdf\", \"png\", \"ps\", \"raw\", \"svg\", \"tif\"];\n",
       "\n",
       "mpl.default_extension = \"png\";var comm_websocket_adapter = function(comm) {\n",
       "    // Create a \"websocket\"-like object which calls the given IPython comm\n",
       "    // object with the appropriate methods. Currently this is a non binary\n",
       "    // socket, so there is still some room for performance tuning.\n",
       "    var ws = {};\n",
       "\n",
       "    ws.close = function() {\n",
       "        comm.close()\n",
       "    };\n",
       "    ws.send = function(m) {\n",
       "        //console.log('sending', m);\n",
       "        comm.send(m);\n",
       "    };\n",
       "    // Register the callback with on_msg.\n",
       "    comm.on_msg(function(msg) {\n",
       "        //console.log('receiving', msg['content']['data'], msg);\n",
       "        // Pass the mpl event to the overriden (by mpl) onmessage function.\n",
       "        ws.onmessage(msg['content']['data'])\n",
       "    });\n",
       "    return ws;\n",
       "}\n",
       "\n",
       "mpl.mpl_figure_comm = function(comm, msg) {\n",
       "    // This is the function which gets called when the mpl process\n",
       "    // starts-up an IPython Comm through the \"matplotlib\" channel.\n",
       "\n",
       "    var id = msg.content.data.id;\n",
       "    // Get hold of the div created by the display call when the Comm\n",
       "    // socket was opened in Python.\n",
       "    var element = $(\"#\" + id);\n",
       "    var ws_proxy = comm_websocket_adapter(comm)\n",
       "\n",
       "    function ondownload(figure, format) {\n",
       "        window.open(figure.imageObj.src);\n",
       "    }\n",
       "\n",
       "    var fig = new mpl.figure(id, ws_proxy,\n",
       "                           ondownload,\n",
       "                           element.get(0));\n",
       "\n",
       "    // Call onopen now - mpl needs it, as it is assuming we've passed it a real\n",
       "    // web socket which is closed, not our websocket->open comm proxy.\n",
       "    ws_proxy.onopen();\n",
       "\n",
       "    fig.parent_element = element.get(0);\n",
       "    fig.cell_info = mpl.find_output_cell(\"<div id='\" + id + \"'></div>\");\n",
       "    if (!fig.cell_info) {\n",
       "        console.error(\"Failed to find cell for figure\", id, fig);\n",
       "        return;\n",
       "    }\n",
       "\n",
       "    var output_index = fig.cell_info[2]\n",
       "    var cell = fig.cell_info[0];\n",
       "\n",
       "};\n",
       "\n",
       "mpl.figure.prototype.handle_close = function(fig, msg) {\n",
       "    var width = fig.canvas.width/mpl.ratio\n",
       "    fig.root.unbind('remove')\n",
       "\n",
       "    // Update the output cell to use the data from the current canvas.\n",
       "    fig.push_to_output();\n",
       "    var dataURL = fig.canvas.toDataURL();\n",
       "    // Re-enable the keyboard manager in IPython - without this line, in FF,\n",
       "    // the notebook keyboard shortcuts fail.\n",
       "    IPython.keyboard_manager.enable()\n",
       "    $(fig.parent_element).html('<img src=\"' + dataURL + '\" width=\"' + width + '\">');\n",
       "    fig.close_ws(fig, msg);\n",
       "}\n",
       "\n",
       "mpl.figure.prototype.close_ws = function(fig, msg){\n",
       "    fig.send_message('closing', msg);\n",
       "    // fig.ws.close()\n",
       "}\n",
       "\n",
       "mpl.figure.prototype.push_to_output = function(remove_interactive) {\n",
       "    // Turn the data on the canvas into data in the output cell.\n",
       "    var width = this.canvas.width/mpl.ratio\n",
       "    var dataURL = this.canvas.toDataURL();\n",
       "    this.cell_info[1]['text/html'] = '<img src=\"' + dataURL + '\" width=\"' + width + '\">';\n",
       "}\n",
       "\n",
       "mpl.figure.prototype.updated_canvas_event = function() {\n",
       "    // Tell IPython that the notebook contents must change.\n",
       "    IPython.notebook.set_dirty(true);\n",
       "    this.send_message(\"ack\", {});\n",
       "    var fig = this;\n",
       "    // Wait a second, then push the new image to the DOM so\n",
       "    // that it is saved nicely (might be nice to debounce this).\n",
       "    setTimeout(function () { fig.push_to_output() }, 1000);\n",
       "}\n",
       "\n",
       "mpl.figure.prototype._init_toolbar = function() {\n",
       "    var fig = this;\n",
       "\n",
       "    var nav_element = $('<div/>')\n",
       "    nav_element.attr('style', 'width: 100%');\n",
       "    this.root.append(nav_element);\n",
       "\n",
       "    // Define a callback function for later on.\n",
       "    function toolbar_event(event) {\n",
       "        return fig.toolbar_button_onclick(event['data']);\n",
       "    }\n",
       "    function toolbar_mouse_event(event) {\n",
       "        return fig.toolbar_button_onmouseover(event['data']);\n",
       "    }\n",
       "\n",
       "    for(var toolbar_ind in mpl.toolbar_items){\n",
       "        var name = mpl.toolbar_items[toolbar_ind][0];\n",
       "        var tooltip = mpl.toolbar_items[toolbar_ind][1];\n",
       "        var image = mpl.toolbar_items[toolbar_ind][2];\n",
       "        var method_name = mpl.toolbar_items[toolbar_ind][3];\n",
       "\n",
       "        if (!name) { continue; };\n",
       "\n",
       "        var button = $('<button class=\"btn btn-default\" href=\"#\" title=\"' + name + '\"><i class=\"fa ' + image + ' fa-lg\"></i></button>');\n",
       "        button.click(method_name, toolbar_event);\n",
       "        button.mouseover(tooltip, toolbar_mouse_event);\n",
       "        nav_element.append(button);\n",
       "    }\n",
       "\n",
       "    // Add the status bar.\n",
       "    var status_bar = $('<span class=\"mpl-message\" style=\"text-align:right; float: right;\"/>');\n",
       "    nav_element.append(status_bar);\n",
       "    this.message = status_bar[0];\n",
       "\n",
       "    // Add the close button to the window.\n",
       "    var buttongrp = $('<div class=\"btn-group inline pull-right\"></div>');\n",
       "    var button = $('<button class=\"btn btn-mini btn-primary\" href=\"#\" title=\"Stop Interaction\"><i class=\"fa fa-power-off icon-remove icon-large\"></i></button>');\n",
       "    button.click(function (evt) { fig.handle_close(fig, {}); } );\n",
       "    button.mouseover('Stop Interaction', toolbar_mouse_event);\n",
       "    buttongrp.append(button);\n",
       "    var titlebar = this.root.find($('.ui-dialog-titlebar'));\n",
       "    titlebar.prepend(buttongrp);\n",
       "}\n",
       "\n",
       "mpl.figure.prototype._root_extra_style = function(el){\n",
       "    var fig = this\n",
       "    el.on(\"remove\", function(){\n",
       "\tfig.close_ws(fig, {});\n",
       "    });\n",
       "}\n",
       "\n",
       "mpl.figure.prototype._canvas_extra_style = function(el){\n",
       "    // this is important to make the div 'focusable\n",
       "    el.attr('tabindex', 0)\n",
       "    // reach out to IPython and tell the keyboard manager to turn it's self\n",
       "    // off when our div gets focus\n",
       "\n",
       "    // location in version 3\n",
       "    if (IPython.notebook.keyboard_manager) {\n",
       "        IPython.notebook.keyboard_manager.register_events(el);\n",
       "    }\n",
       "    else {\n",
       "        // location in version 2\n",
       "        IPython.keyboard_manager.register_events(el);\n",
       "    }\n",
       "\n",
       "}\n",
       "\n",
       "mpl.figure.prototype._key_event_extra = function(event, name) {\n",
       "    var manager = IPython.notebook.keyboard_manager;\n",
       "    if (!manager)\n",
       "        manager = IPython.keyboard_manager;\n",
       "\n",
       "    // Check for shift+enter\n",
       "    if (event.shiftKey && event.which == 13) {\n",
       "        this.canvas_div.blur();\n",
       "        // select the cell after this one\n",
       "        var index = IPython.notebook.find_cell_index(this.cell_info[0]);\n",
       "        IPython.notebook.select(index + 1);\n",
       "    }\n",
       "}\n",
       "\n",
       "mpl.figure.prototype.handle_save = function(fig, msg) {\n",
       "    fig.ondownload(fig, null);\n",
       "}\n",
       "\n",
       "\n",
       "mpl.find_output_cell = function(html_output) {\n",
       "    // Return the cell and output element which can be found *uniquely* in the notebook.\n",
       "    // Note - this is a bit hacky, but it is done because the \"notebook_saving.Notebook\"\n",
       "    // IPython event is triggered only after the cells have been serialised, which for\n",
       "    // our purposes (turning an active figure into a static one), is too late.\n",
       "    var cells = IPython.notebook.get_cells();\n",
       "    var ncells = cells.length;\n",
       "    for (var i=0; i<ncells; i++) {\n",
       "        var cell = cells[i];\n",
       "        if (cell.cell_type === 'code'){\n",
       "            for (var j=0; j<cell.output_area.outputs.length; j++) {\n",
       "                var data = cell.output_area.outputs[j];\n",
       "                if (data.data) {\n",
       "                    // IPython >= 3 moved mimebundle to data attribute of output\n",
       "                    data = data.data;\n",
       "                }\n",
       "                if (data['text/html'] == html_output) {\n",
       "                    return [cell, data, j];\n",
       "                }\n",
       "            }\n",
       "        }\n",
       "    }\n",
       "}\n",
       "\n",
       "// Register the function which deals with the matplotlib target/channel.\n",
       "// The kernel may be null if the page has been refreshed.\n",
       "if (IPython.notebook.kernel != null) {\n",
       "    IPython.notebook.kernel.comm_manager.register_target('matplotlib', mpl.mpl_figure_comm);\n",
       "}\n"
      ],
      "text/plain": [
       "<IPython.core.display.Javascript object>"
      ]
     },
     "metadata": {},
     "output_type": "display_data"
    },
    {
     "data": {
      "text/html": [
       "<img src=\"data:image/png;base64,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\" width=\"800\">"
      ],
      "text/plain": [
       "<IPython.core.display.HTML object>"
      ]
     },
     "metadata": {},
     "output_type": "display_data"
    }
   ],
   "source": [
    "from sklearn.metrics import precision_recall_curve\n",
    "\n",
    "precision, recall, thresholds = precision_recall_curve(y_test, y_scores_lr)\n",
    "closest_zero = np.argmin(np.abs(thresholds))\n",
    "closest_zero_p = precision[closest_zero]\n",
    "closest_zero_r = recall[closest_zero]\n",
    "\n",
    "plt.figure()\n",
    "plt.xlim([0.0, 1.01])\n",
    "plt.ylim([0.0, 1.01])\n",
    "plt.plot(precision, recall, label='Precision-Recall Curve')\n",
    "plt.plot(closest_zero_p, closest_zero_r, 'o', markersize = 12, fillstyle = 'none', c='r', mew=3)\n",
    "plt.xlabel('Precision', fontsize=16)\n",
    "plt.ylabel('Recall', fontsize=16)\n",
    "plt.axes().set_aspect('equal')\n",
    "plt.show()"
   ]
  },
  {
   "cell_type": "markdown",
   "metadata": {},
   "source": [
    "### ROC curves, Area-Under-Curve (AUC)"
   ]
  },
  {
   "cell_type": "code",
   "execution_count": null,
   "metadata": {},
   "outputs": [],
   "source": [
    "from sklearn.metrics import roc_curve, auc\n",
    "\n",
    "X_train, X_test, y_train, y_test = train_test_split(X, y_binary_imbalanced, random_state=0)\n",
    "\n",
    "y_score_lr = lr.fit(X_train, y_train).decision_function(X_test)\n",
    "fpr_lr, tpr_lr, _ = roc_curve(y_test, y_score_lr)\n",
    "roc_auc_lr = auc(fpr_lr, tpr_lr)\n",
    "\n",
    "plt.figure()\n",
    "plt.xlim([-0.01, 1.00])\n",
    "plt.ylim([-0.01, 1.01])\n",
    "plt.plot(fpr_lr, tpr_lr, lw=3, label='LogRegr ROC curve (area = {:0.2f})'.format(roc_auc_lr))\n",
    "plt.xlabel('False Positive Rate', fontsize=16)\n",
    "plt.ylabel('True Positive Rate', fontsize=16)\n",
    "plt.title('ROC curve (1-of-10 digits classifier)', fontsize=16)\n",
    "plt.legend(loc='lower right', fontsize=13)\n",
    "plt.plot([0, 1], [0, 1], color='navy', lw=3, linestyle='--')\n",
    "plt.axes().set_aspect('equal')\n",
    "plt.show()"
   ]
  },
  {
   "cell_type": "code",
   "execution_count": null,
   "metadata": {
    "scrolled": false
   },
   "outputs": [],
   "source": [
    "from matplotlib import cm\n",
    "\n",
    "X_train, X_test, y_train, y_test = train_test_split(X, y_binary_imbalanced, random_state=0)\n",
    "\n",
    "plt.figure()\n",
    "plt.xlim([-0.01, 1.00])\n",
    "plt.ylim([-0.01, 1.01])\n",
    "for g in [0.01, 0.1, 0.20, 1]:\n",
    "    svm = SVC(gamma=g).fit(X_train, y_train)\n",
    "    y_score_svm = svm.decision_function(X_test)\n",
    "    fpr_svm, tpr_svm, _ = roc_curve(y_test, y_score_svm)\n",
    "    roc_auc_svm = auc(fpr_svm, tpr_svm)\n",
    "    accuracy_svm = svm.score(X_test, y_test)\n",
    "    print(\"gamma = {:.2f}  accuracy = {:.2f}   AUC = {:.2f}\".format(g, accuracy_svm, \n",
    "                                                                    roc_auc_svm))\n",
    "    plt.plot(fpr_svm, tpr_svm, lw=3, alpha=0.7, \n",
    "             label='SVM (gamma = {:0.2f}, area = {:0.2f})'.format(g, roc_auc_svm))\n",
    "\n",
    "plt.xlabel('False Positive Rate', fontsize=16)\n",
    "plt.ylabel('True Positive Rate (Recall)', fontsize=16)\n",
    "plt.plot([0, 1], [0, 1], color='k', lw=0.5, linestyle='--')\n",
    "plt.legend(loc=\"lower right\", fontsize=11)\n",
    "plt.title('ROC curve: (1-of-10 digits classifier)', fontsize=16)\n",
    "plt.axes().set_aspect('equal')\n",
    "\n",
    "plt.show()"
   ]
  },
  {
   "cell_type": "markdown",
   "metadata": {},
   "source": [
    "### Evaluation measures for multi-class classification"
   ]
  },
  {
   "cell_type": "markdown",
   "metadata": {},
   "source": [
    "#### Multi-class confusion matrix"
   ]
  },
  {
   "cell_type": "code",
   "execution_count": null,
   "metadata": {
    "scrolled": false
   },
   "outputs": [],
   "source": [
    "dataset = load_digits()\n",
    "X, y = dataset.data, dataset.target\n",
    "X_train_mc, X_test_mc, y_train_mc, y_test_mc = train_test_split(X, y, random_state=0)\n",
    "\n",
    "\n",
    "svm = SVC(kernel = 'linear').fit(X_train_mc, y_train_mc)\n",
    "svm_predicted_mc = svm.predict(X_test_mc)\n",
    "confusion_mc = confusion_matrix(y_test_mc, svm_predicted_mc)\n",
    "df_cm = pd.DataFrame(confusion_mc, \n",
    "                     index = [i for i in range(0,10)], columns = [i for i in range(0,10)])\n",
    "\n",
    "plt.figure(figsize=(5.5,4))\n",
    "sns.heatmap(df_cm, annot=True)\n",
    "plt.title('SVM Linear Kernel \\nAccuracy:{0:.3f}'.format(accuracy_score(y_test_mc, \n",
    "                                                                       svm_predicted_mc)))\n",
    "plt.ylabel('True label')\n",
    "plt.xlabel('Predicted label')\n",
    "\n",
    "\n",
    "svm = SVC(kernel = 'rbf').fit(X_train_mc, y_train_mc)\n",
    "svm_predicted_mc = svm.predict(X_test_mc)\n",
    "confusion_mc = confusion_matrix(y_test_mc, svm_predicted_mc)\n",
    "df_cm = pd.DataFrame(confusion_mc, index = [i for i in range(0,10)],\n",
    "                  columns = [i for i in range(0,10)])\n",
    "\n",
    "plt.figure(figsize = (5.5,4))\n",
    "sns.heatmap(df_cm, annot=True)\n",
    "plt.title('SVM RBF Kernel \\nAccuracy:{0:.3f}'.format(accuracy_score(y_test_mc, \n",
    "                                                                    svm_predicted_mc)))\n",
    "plt.ylabel('True label')\n",
    "plt.xlabel('Predicted label');"
   ]
  },
  {
   "cell_type": "markdown",
   "metadata": {},
   "source": [
    "#### Multi-class classification report"
   ]
  },
  {
   "cell_type": "code",
   "execution_count": null,
   "metadata": {},
   "outputs": [],
   "source": [
    "print(classification_report(y_test_mc, svm_predicted_mc))"
   ]
  },
  {
   "cell_type": "markdown",
   "metadata": {},
   "source": [
    "#### Micro- vs. macro-averaged metrics"
   ]
  },
  {
   "cell_type": "code",
   "execution_count": null,
   "metadata": {},
   "outputs": [],
   "source": [
    "print('Micro-averaged precision = {:.2f} (treat instances equally)'\n",
    "      .format(precision_score(y_test_mc, svm_predicted_mc, average = 'micro')))\n",
    "print('Macro-averaged precision = {:.2f} (treat classes equally)'\n",
    "      .format(precision_score(y_test_mc, svm_predicted_mc, average = 'macro')))"
   ]
  },
  {
   "cell_type": "code",
   "execution_count": null,
   "metadata": {},
   "outputs": [],
   "source": [
    "print('Micro-averaged f1 = {:.2f} (treat instances equally)'\n",
    "      .format(f1_score(y_test_mc, svm_predicted_mc, average = 'micro')))\n",
    "print('Macro-averaged f1 = {:.2f} (treat classes equally)'\n",
    "      .format(f1_score(y_test_mc, svm_predicted_mc, average = 'macro')))"
   ]
  },
  {
   "cell_type": "markdown",
   "metadata": {},
   "source": [
    "### Regression evaluation metrics"
   ]
  },
  {
   "cell_type": "code",
   "execution_count": null,
   "metadata": {},
   "outputs": [],
   "source": [
    "%matplotlib notebook\n",
    "import matplotlib.pyplot as plt\n",
    "import numpy as np\n",
    "from sklearn.model_selection import train_test_split\n",
    "from sklearn import datasets\n",
    "from sklearn.linear_model import LinearRegression\n",
    "from sklearn.metrics import mean_squared_error, r2_score\n",
    "from sklearn.dummy import DummyRegressor\n",
    "\n",
    "diabetes = datasets.load_diabetes()\n",
    "\n",
    "X = diabetes.data[:, None, 6]\n",
    "y = diabetes.target\n",
    "\n",
    "X_train, X_test, y_train, y_test = train_test_split(X, y, random_state=0)\n",
    "\n",
    "lm = LinearRegression().fit(X_train, y_train)\n",
    "lm_dummy_mean = DummyRegressor(strategy = 'mean').fit(X_train, y_train)\n",
    "\n",
    "y_predict = lm.predict(X_test)\n",
    "y_predict_dummy_mean = lm_dummy_mean.predict(X_test)\n",
    "\n",
    "print('Linear model, coefficients: ', lm.coef_)\n",
    "print(\"Mean squared error (dummy): {:.2f}\".format(mean_squared_error(y_test, \n",
    "                                                                     y_predict_dummy_mean)))\n",
    "print(\"Mean squared error (linear model): {:.2f}\".format(mean_squared_error(y_test, y_predict)))\n",
    "print(\"r2_score (dummy): {:.2f}\".format(r2_score(y_test, y_predict_dummy_mean)))\n",
    "print(\"r2_score (linear model): {:.2f}\".format(r2_score(y_test, y_predict)))\n",
    "\n",
    "# Plot outputs\n",
    "plt.scatter(X_test, y_test,  color='black')\n",
    "plt.plot(X_test, y_predict, color='green', linewidth=2)\n",
    "plt.plot(X_test, y_predict_dummy_mean, color='red', linestyle = 'dashed', \n",
    "         linewidth=2, label = 'dummy')\n",
    "\n",
    "plt.show()"
   ]
  },
  {
   "cell_type": "markdown",
   "metadata": {},
   "source": [
    "### Model selection using evaluation metrics"
   ]
  },
  {
   "cell_type": "markdown",
   "metadata": {},
   "source": [
    "#### Cross-validation example"
   ]
  },
  {
   "cell_type": "code",
   "execution_count": null,
   "metadata": {},
   "outputs": [],
   "source": [
    "from sklearn.model_selection import cross_val_score\n",
    "from sklearn.svm import SVC\n",
    "\n",
    "dataset = load_digits()\n",
    "# again, making this a binary problem with 'digit 1' as positive class \n",
    "# and 'not 1' as negative class\n",
    "X, y = dataset.data, dataset.target == 1\n",
    "clf = SVC(kernel='linear', C=1)\n",
    "\n",
    "# accuracy is the default scoring metric\n",
    "print('Cross-validation (accuracy)', cross_val_score(clf, X, y, cv=5))\n",
    "# use AUC as scoring metric\n",
    "print('Cross-validation (AUC)', cross_val_score(clf, X, y, cv=5, scoring = 'roc_auc'))\n",
    "# use recall as scoring metric\n",
    "print('Cross-validation (recall)', cross_val_score(clf, X, y, cv=5, scoring = 'recall'))"
   ]
  },
  {
   "cell_type": "markdown",
   "metadata": {},
   "source": [
    "#### Grid search example"
   ]
  },
  {
   "cell_type": "code",
   "execution_count": null,
   "metadata": {},
   "outputs": [],
   "source": [
    "from sklearn.svm import SVC\n",
    "from sklearn.model_selection import GridSearchCV\n",
    "from sklearn.metrics import roc_auc_score\n",
    "\n",
    "dataset = load_digits()\n",
    "X, y = dataset.data, dataset.target == 1\n",
    "X_train, X_test, y_train, y_test = train_test_split(X, y, random_state=0)\n",
    "\n",
    "clf = SVC(kernel='rbf')\n",
    "grid_values = {'gamma': [0.001, 0.01, 0.05, 0.1, 1, 10, 100]}\n",
    "\n",
    "# default metric to optimize over grid parameters: accuracy\n",
    "grid_clf_acc = GridSearchCV(clf, param_grid = grid_values)\n",
    "grid_clf_acc.fit(X_train, y_train)\n",
    "y_decision_fn_scores_acc = grid_clf_acc.decision_function(X_test) \n",
    "\n",
    "print('Grid best parameter (max. accuracy): ', grid_clf_acc.best_params_)\n",
    "print('Grid best score (accuracy): ', grid_clf_acc.best_score_)\n",
    "\n",
    "# alternative metric to optimize over grid parameters: AUC\n",
    "grid_clf_auc = GridSearchCV(clf, param_grid = grid_values, scoring = 'roc_auc')\n",
    "grid_clf_auc.fit(X_train, y_train)\n",
    "y_decision_fn_scores_auc = grid_clf_auc.decision_function(X_test) \n",
    "\n",
    "print('Test set AUC: ', roc_auc_score(y_test, y_decision_fn_scores_auc))\n",
    "print('Grid best parameter (max. AUC): ', grid_clf_auc.best_params_)\n",
    "print('Grid best score (AUC): ', grid_clf_auc.best_score_)\n"
   ]
  },
  {
   "cell_type": "markdown",
   "metadata": {},
   "source": [
    "#### Evaluation metrics supported for model selection"
   ]
  },
  {
   "cell_type": "code",
   "execution_count": 1,
   "metadata": {},
   "outputs": [
    {
     "name": "stdout",
     "output_type": "stream",
     "text": [
      "['accuracy', 'adjusted_mutual_info_score', 'adjusted_rand_score', 'average_precision', 'balanced_accuracy', 'brier_score_loss', 'completeness_score', 'explained_variance', 'f1', 'f1_macro', 'f1_micro', 'f1_samples', 'f1_weighted', 'fowlkes_mallows_score', 'homogeneity_score', 'mutual_info_score', 'neg_log_loss', 'neg_mean_absolute_error', 'neg_mean_squared_error', 'neg_mean_squared_log_error', 'neg_median_absolute_error', 'normalized_mutual_info_score', 'precision', 'precision_macro', 'precision_micro', 'precision_samples', 'precision_weighted', 'r2', 'recall', 'recall_macro', 'recall_micro', 'recall_samples', 'recall_weighted', 'roc_auc', 'v_measure_score']\n"
     ]
    }
   ],
   "source": [
    "from sklearn.metrics.scorer import SCORERS\n",
    "\n",
    "print(sorted(list(SCORERS.keys())))"
   ]
  },
  {
   "cell_type": "markdown",
   "metadata": {},
   "source": [
    "### Two-feature classification example using the digits dataset"
   ]
  },
  {
   "cell_type": "markdown",
   "metadata": {},
   "source": [
    "#### Optimizing a classifier using different evaluation metrics"
   ]
  },
  {
   "cell_type": "code",
   "execution_count": null,
   "metadata": {
    "scrolled": false
   },
   "outputs": [],
   "source": [
    "from sklearn.datasets import load_digits\n",
    "from sklearn.model_selection import train_test_split\n",
    "from adspy_shared_utilities import plot_class_regions_for_classifier_subplot\n",
    "from sklearn.svm import SVC\n",
    "from sklearn.model_selection import GridSearchCV\n",
    "\n",
    "\n",
    "dataset = load_digits()\n",
    "X, y = dataset.data, dataset.target == 1\n",
    "X_train, X_test, y_train, y_test = train_test_split(X, y, random_state=0)\n",
    "\n",
    "# Create a two-feature input vector matching the example plot above\n",
    "# We jitter the points (add a small amount of random noise) in case there are areas\n",
    "# in feature space where many instances have the same features.\n",
    "jitter_delta = 0.25\n",
    "X_twovar_train = X_train[:,[20,59]]+ np.random.rand(X_train.shape[0], 2) - jitter_delta\n",
    "X_twovar_test  = X_test[:,[20,59]] + np.random.rand(X_test.shape[0], 2) - jitter_delta\n",
    "\n",
    "clf = SVC(kernel = 'linear').fit(X_twovar_train, y_train)\n",
    "grid_values = {'class_weight':['balanced', {1:2},{1:3},{1:4},{1:5},{1:10},{1:20},{1:50}]}\n",
    "plt.figure(figsize=(9,6))\n",
    "for i, eval_metric in enumerate(('precision','recall', 'f1','roc_auc')):\n",
    "    grid_clf_custom = GridSearchCV(clf, param_grid=grid_values, scoring=eval_metric)\n",
    "    grid_clf_custom.fit(X_twovar_train, y_train)\n",
    "    print('Grid best parameter (max. {0}): {1}'\n",
    "          .format(eval_metric, grid_clf_custom.best_params_))\n",
    "    print('Grid best score ({0}): {1}'\n",
    "          .format(eval_metric, grid_clf_custom.best_score_))\n",
    "    plt.subplots_adjust(wspace=0.3, hspace=0.3)\n",
    "    plot_class_regions_for_classifier_subplot(grid_clf_custom, X_twovar_test, y_test, None,\n",
    "                                             None, None,  plt.subplot(2, 2, i+1))\n",
    "    \n",
    "    plt.title(eval_metric+'-oriented SVC')\n",
    "plt.tight_layout()\n",
    "plt.show()"
   ]
  },
  {
   "cell_type": "markdown",
   "metadata": {},
   "source": [
    "#### Precision-recall curve for the default SVC classifier (with balanced class weights)"
   ]
  },
  {
   "cell_type": "code",
   "execution_count": null,
   "metadata": {
    "scrolled": false
   },
   "outputs": [],
   "source": [
    "from sklearn.model_selection import train_test_split\n",
    "from sklearn.metrics import precision_recall_curve\n",
    "from adspy_shared_utilities import plot_class_regions_for_classifier\n",
    "from sklearn.svm import SVC\n",
    "\n",
    "dataset = load_digits()\n",
    "X, y = dataset.data, dataset.target == 1\n",
    "X_train, X_test, y_train, y_test = train_test_split(X, y, random_state=0)\n",
    "\n",
    "# create a two-feature input vector matching the example plot above\n",
    "jitter_delta = 0.25\n",
    "X_twovar_train = X_train[:,[20,59]]+ np.random.rand(X_train.shape[0], 2) - jitter_delta\n",
    "X_twovar_test  = X_test[:,[20,59]] + np.random.rand(X_test.shape[0], 2) - jitter_delta\n",
    "\n",
    "clf = SVC(kernel='linear', class_weight='balanced').fit(X_twovar_train, y_train)\n",
    "\n",
    "y_scores = clf.decision_function(X_twovar_test)\n",
    "\n",
    "precision, recall, thresholds = precision_recall_curve(y_test, y_scores)\n",
    "closest_zero = np.argmin(np.abs(thresholds))\n",
    "closest_zero_p = precision[closest_zero]\n",
    "closest_zero_r = recall[closest_zero]\n",
    "\n",
    "plot_class_regions_for_classifier(clf, X_twovar_test, y_test)\n",
    "plt.title(\"SVC, class_weight = 'balanced', optimized for accuracy\")\n",
    "plt.show()\n",
    "\n",
    "plt.figure()\n",
    "plt.xlim([0.0, 1.01])\n",
    "plt.ylim([0.0, 1.01])\n",
    "plt.title (\"Precision-recall curve: SVC, class_weight = 'balanced'\")\n",
    "plt.plot(precision, recall, label = 'Precision-Recall Curve')\n",
    "plt.plot(closest_zero_p, closest_zero_r, 'o', markersize=12, fillstyle='none', c='r', mew=3)\n",
    "plt.xlabel('Precision', fontsize=16)\n",
    "plt.ylabel('Recall', fontsize=16)\n",
    "plt.axes().set_aspect('equal')\n",
    "plt.show()\n",
    "print('At zero threshold, precision: {:.2f}, recall: {:.2f}'\n",
    "      .format(closest_zero_p, closest_zero_r))"
   ]
  },
  {
   "cell_type": "code",
   "execution_count": null,
   "metadata": {
    "collapsed": true
   },
   "outputs": [],
   "source": []
  }
 ],
 "metadata": {
  "anaconda-cloud": {},
  "kernelspec": {
   "display_name": "Python 3",
   "language": "python",
   "name": "python3"
  },
  "language_info": {
   "codemirror_mode": {
    "name": "ipython",
    "version": 3
   },
   "file_extension": ".py",
   "mimetype": "text/x-python",
   "name": "python",
   "nbconvert_exporter": "python",
   "pygments_lexer": "ipython3",
   "version": "3.7.0"
  }
 },
 "nbformat": 4,
 "nbformat_minor": 1
}
