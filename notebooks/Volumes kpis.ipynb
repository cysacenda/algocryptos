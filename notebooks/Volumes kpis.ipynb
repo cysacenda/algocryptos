{
 "cells": [
  {
   "cell_type": "code",
   "execution_count": 21,
   "metadata": {},
   "outputs": [],
   "source": [
    "import psycopg2 as pg\n",
    "import pandas.io.sql as psql\n",
    " \n",
    "# get connected to the database\n",
    "connection = pg.connect(\"host='localhost' dbname='algocryptos' user='dbuser' password='algocryptos'\")\n",
    "\n",
    "# get data with query\n",
    "df = psql.read_sql_query(\"select * from histo_ohlcv where \\\"IdCoinCryptoCompare\\\" = 7605 and timestamp > CURRENT_TIMESTAMP - interval '30 days' order by timestamp\", connection)\n",
    "\n",
    "# set index on column timestamp\n",
    "df = df.set_index('timestamp')"
   ]
  },
  {
   "cell_type": "code",
   "execution_count": 34,
   "metadata": {},
   "outputs": [
    {
     "name": "stdout",
     "output_type": "stream",
     "text": [
      "128180.82630373952\n",
      "84257.44666666667\n",
      "84960.27375000004\n",
      "95260.08852083338\n"
     ]
    }
   ],
   "source": [
    "volume_1h_mean30j = df.volume_aggregated.mean()\n",
    "volume_1h_mean3h = df.tail(3).volume_aggregated.mean()\n",
    "volume_1h_mean24h = df.tail(24).volume_aggregated.mean()\n",
    "volume_1h_mean3d = df.tail(24*3).volume_aggregated.mean()\n",
    "print(volume_1h_mean30j)\n",
    "print(volume_1h_mean3h)\n",
    "print(volume_1h_mean24h)\n",
    "print(volume_1h_mean3d)"
   ]
  },
  {
   "cell_type": "code",
   "execution_count": 36,
   "metadata": {},
   "outputs": [
    {
     "name": "stdout",
     "output_type": "stream",
     "text": [
      "-0.51\n",
      "-0.52\n",
      "-0.35\n"
     ]
    }
   ],
   "source": [
    "change3h_30j = round((volume_1h_mean3h - volume_1h_mean30j) / volume_1h_mean3h,2)\n",
    "change24h_30j = round((volume_1h_mean24h - volume_1h_mean30j) / volume_1h_mean24h,2)\n",
    "change3d_30j = round((volume_1h_mean3d - volume_1h_mean30j) / volume_1h_mean3d,2)\n",
    "print(change24h_30j)\n",
    "print(change3h_30j)\n",
    "print(change3d_30j)"
   ]
  }
 ],
 "metadata": {
  "kernelspec": {
   "display_name": "Python 3",
   "language": "python",
   "name": "python3"
  },
  "language_info": {
   "codemirror_mode": {
    "name": "ipython",
    "version": 3
   },
   "file_extension": ".py",
   "mimetype": "text/x-python",
   "name": "python",
   "nbconvert_exporter": "python",
   "pygments_lexer": "ipython3",
   "version": "3.6.4"
  }
 },
 "nbformat": 4,
 "nbformat_minor": 2
}
