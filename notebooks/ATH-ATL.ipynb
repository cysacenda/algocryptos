{
 "cells": [
  {
   "cell_type": "code",
   "execution_count": 42,
   "metadata": {},
   "outputs": [],
   "source": [
    "import pandas.io.sql as psql\n",
    "import pandas as pd\n",
    "from datetime import datetime, timedelta\n",
    "from sqlalchemy import create_engine\n",
    "import requests\n",
    "import json\n",
    "\n",
    "# get data via API\n",
    "data = json.loads(requests.get('https://min-api.cryptocompare.com/data/histoday?fsym=ETH&tsym=USD&limit=2000&aggregate=1').text)\n",
    "df = pd.DataFrame(data[\"Data\"])\n",
    "\n",
    "# delete useless columns\n",
    "df.drop(['close', 'open', 'volumefrom', 'volumeto'], axis=1, inplace = True)\n",
    "\n",
    "#convert todatetime\n",
    "df['time'] = pd.to_datetime(df['time'], unit='s')\n",
    "\n",
    "# set index on column timestamp\n",
    "df.set_index('time', inplace = True)\n",
    "\n",
    "#drop rows with 0 only\n",
    "columns = ['low', 'high']\n",
    "df = df.replace(0, pd.np.nan).dropna(axis=0, how='any', subset=columns).fillna(0).astype(int)"
   ]
  },
  {
   "cell_type": "code",
   "execution_count": 48,
   "metadata": {},
   "outputs": [
    {
     "name": "stdout",
     "output_type": "stream",
     "text": [
      "[787, 564, 404, 200, 15, 0]\n",
      "[981, 1155, 1422, 1422, 1422, 1422]\n"
     ]
    }
   ],
   "source": [
    "# 15d/1m/3m/6m/12m/all\n",
    "arr = [15, 30, 3*30, 6*30, 12*30, 2000]\n",
    "arr_highs = [0, 0, 0, 0, 0, 0]\n",
    "arr_lows = [0, 0, 0, 0, 0, 0]\n",
    "date_after = datetime.now()\n",
    "i = 0\n",
    "for elt in arr:\n",
    "    date_before = date_after - timedelta(days=elt)\n",
    "    df_tmp = df.truncate(before=date_before, after=date_after)\n",
    "    arr_highs[i] = df_tmp.high.max()\n",
    "    arr_lows[i] = df_tmp.low.min()\n",
    "    i+=1\n",
    "print(arr_lows)\n",
    "print(arr_highs)"
   ]
  }
 ],
 "metadata": {
  "kernelspec": {
   "display_name": "Python 3",
   "language": "python",
   "name": "python3"
  },
  "language_info": {
   "codemirror_mode": {
    "name": "ipython",
    "version": 3
   },
   "file_extension": ".py",
   "mimetype": "text/x-python",
   "name": "python",
   "nbconvert_exporter": "python",
   "pygments_lexer": "ipython3",
   "version": "3.6.4"
  }
 },
 "nbformat": 4,
 "nbformat_minor": 2
}
